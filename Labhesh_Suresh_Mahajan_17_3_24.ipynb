{
  "nbformat": 4,
  "nbformat_minor": 0,
  "metadata": {
    "colab": {
      "provenance": []
    },
    "kernelspec": {
      "name": "python3",
      "display_name": "Python 3"
    },
    "language_info": {
      "name": "python"
    }
  },
  "cells": [
    {
      "cell_type": "markdown",
      "source": [
        "# Checklist"
      ],
      "metadata": {
        "id": "HBceb6J8GWvy"
      }
    },
    {
      "cell_type": "code",
      "source": [
        "import pandas as pd"
      ],
      "metadata": {
        "id": "mxc1dmiGGdLs"
      },
      "execution_count": 2,
      "outputs": []
    },
    {
      "cell_type": "code",
      "source": [
        "data = {'Section':['Section1', 'Q1', 'Q2', 'Q3',\"Section2\",\"Q1\",\"Q2\",\"Q3\"],\n",
        "        'Completion':[\"Completed\",\"Completed\",\"Completed\",\"Completed\",\"\",\"Completed\",\"Completed\",\"Completed\"],\n",
        "        }\n",
        "\n",
        "# Create DataFrame\n",
        "df = pd.DataFrame(data)\n",
        "\n",
        "# Print the output.\n",
        "print(df)"
      ],
      "metadata": {
        "id": "XxOJTFW2Gijs",
        "colab": {
          "base_uri": "https://localhost:8080/"
        },
        "outputId": "898dbb96-232c-4971-b84d-6a9f50ee4940"
      },
      "execution_count": 84,
      "outputs": [
        {
          "output_type": "stream",
          "name": "stdout",
          "text": [
            "    Section Completion\n",
            "0  Section1  Completed\n",
            "1        Q1  Completed\n",
            "2        Q2  Completed\n",
            "3        Q3  Completed\n",
            "4  Section2           \n",
            "5        Q1  Completed\n",
            "6        Q2  Completed\n",
            "7        Q3  Completed\n"
          ]
        }
      ]
    },
    {
      "cell_type": "code",
      "execution_count": 4,
      "metadata": {
        "colab": {
          "base_uri": "https://localhost:8080/",
          "height": 73
        },
        "id": "rVgteaRAmDE8",
        "outputId": "5be687ec-8822-40d4-a937-f413a557bef0"
      },
      "outputs": [
        {
          "output_type": "display_data",
          "data": {
            "text/plain": [
              "<IPython.core.display.HTML object>"
            ],
            "text/html": [
              "\n",
              "     <input type=\"file\" id=\"files-db10b1a1-80b0-4a47-b8bd-82fd3ff40ed8\" name=\"files[]\" multiple disabled\n",
              "        style=\"border:none\" />\n",
              "     <output id=\"result-db10b1a1-80b0-4a47-b8bd-82fd3ff40ed8\">\n",
              "      Upload widget is only available when the cell has been executed in the\n",
              "      current browser session. Please rerun this cell to enable.\n",
              "      </output>\n",
              "      <script>// Copyright 2017 Google LLC\n",
              "//\n",
              "// Licensed under the Apache License, Version 2.0 (the \"License\");\n",
              "// you may not use this file except in compliance with the License.\n",
              "// You may obtain a copy of the License at\n",
              "//\n",
              "//      http://www.apache.org/licenses/LICENSE-2.0\n",
              "//\n",
              "// Unless required by applicable law or agreed to in writing, software\n",
              "// distributed under the License is distributed on an \"AS IS\" BASIS,\n",
              "// WITHOUT WARRANTIES OR CONDITIONS OF ANY KIND, either express or implied.\n",
              "// See the License for the specific language governing permissions and\n",
              "// limitations under the License.\n",
              "\n",
              "/**\n",
              " * @fileoverview Helpers for google.colab Python module.\n",
              " */\n",
              "(function(scope) {\n",
              "function span(text, styleAttributes = {}) {\n",
              "  const element = document.createElement('span');\n",
              "  element.textContent = text;\n",
              "  for (const key of Object.keys(styleAttributes)) {\n",
              "    element.style[key] = styleAttributes[key];\n",
              "  }\n",
              "  return element;\n",
              "}\n",
              "\n",
              "// Max number of bytes which will be uploaded at a time.\n",
              "const MAX_PAYLOAD_SIZE = 100 * 1024;\n",
              "\n",
              "function _uploadFiles(inputId, outputId) {\n",
              "  const steps = uploadFilesStep(inputId, outputId);\n",
              "  const outputElement = document.getElementById(outputId);\n",
              "  // Cache steps on the outputElement to make it available for the next call\n",
              "  // to uploadFilesContinue from Python.\n",
              "  outputElement.steps = steps;\n",
              "\n",
              "  return _uploadFilesContinue(outputId);\n",
              "}\n",
              "\n",
              "// This is roughly an async generator (not supported in the browser yet),\n",
              "// where there are multiple asynchronous steps and the Python side is going\n",
              "// to poll for completion of each step.\n",
              "// This uses a Promise to block the python side on completion of each step,\n",
              "// then passes the result of the previous step as the input to the next step.\n",
              "function _uploadFilesContinue(outputId) {\n",
              "  const outputElement = document.getElementById(outputId);\n",
              "  const steps = outputElement.steps;\n",
              "\n",
              "  const next = steps.next(outputElement.lastPromiseValue);\n",
              "  return Promise.resolve(next.value.promise).then((value) => {\n",
              "    // Cache the last promise value to make it available to the next\n",
              "    // step of the generator.\n",
              "    outputElement.lastPromiseValue = value;\n",
              "    return next.value.response;\n",
              "  });\n",
              "}\n",
              "\n",
              "/**\n",
              " * Generator function which is called between each async step of the upload\n",
              " * process.\n",
              " * @param {string} inputId Element ID of the input file picker element.\n",
              " * @param {string} outputId Element ID of the output display.\n",
              " * @return {!Iterable<!Object>} Iterable of next steps.\n",
              " */\n",
              "function* uploadFilesStep(inputId, outputId) {\n",
              "  const inputElement = document.getElementById(inputId);\n",
              "  inputElement.disabled = false;\n",
              "\n",
              "  const outputElement = document.getElementById(outputId);\n",
              "  outputElement.innerHTML = '';\n",
              "\n",
              "  const pickedPromise = new Promise((resolve) => {\n",
              "    inputElement.addEventListener('change', (e) => {\n",
              "      resolve(e.target.files);\n",
              "    });\n",
              "  });\n",
              "\n",
              "  const cancel = document.createElement('button');\n",
              "  inputElement.parentElement.appendChild(cancel);\n",
              "  cancel.textContent = 'Cancel upload';\n",
              "  const cancelPromise = new Promise((resolve) => {\n",
              "    cancel.onclick = () => {\n",
              "      resolve(null);\n",
              "    };\n",
              "  });\n",
              "\n",
              "  // Wait for the user to pick the files.\n",
              "  const files = yield {\n",
              "    promise: Promise.race([pickedPromise, cancelPromise]),\n",
              "    response: {\n",
              "      action: 'starting',\n",
              "    }\n",
              "  };\n",
              "\n",
              "  cancel.remove();\n",
              "\n",
              "  // Disable the input element since further picks are not allowed.\n",
              "  inputElement.disabled = true;\n",
              "\n",
              "  if (!files) {\n",
              "    return {\n",
              "      response: {\n",
              "        action: 'complete',\n",
              "      }\n",
              "    };\n",
              "  }\n",
              "\n",
              "  for (const file of files) {\n",
              "    const li = document.createElement('li');\n",
              "    li.append(span(file.name, {fontWeight: 'bold'}));\n",
              "    li.append(span(\n",
              "        `(${file.type || 'n/a'}) - ${file.size} bytes, ` +\n",
              "        `last modified: ${\n",
              "            file.lastModifiedDate ? file.lastModifiedDate.toLocaleDateString() :\n",
              "                                    'n/a'} - `));\n",
              "    const percent = span('0% done');\n",
              "    li.appendChild(percent);\n",
              "\n",
              "    outputElement.appendChild(li);\n",
              "\n",
              "    const fileDataPromise = new Promise((resolve) => {\n",
              "      const reader = new FileReader();\n",
              "      reader.onload = (e) => {\n",
              "        resolve(e.target.result);\n",
              "      };\n",
              "      reader.readAsArrayBuffer(file);\n",
              "    });\n",
              "    // Wait for the data to be ready.\n",
              "    let fileData = yield {\n",
              "      promise: fileDataPromise,\n",
              "      response: {\n",
              "        action: 'continue',\n",
              "      }\n",
              "    };\n",
              "\n",
              "    // Use a chunked sending to avoid message size limits. See b/62115660.\n",
              "    let position = 0;\n",
              "    do {\n",
              "      const length = Math.min(fileData.byteLength - position, MAX_PAYLOAD_SIZE);\n",
              "      const chunk = new Uint8Array(fileData, position, length);\n",
              "      position += length;\n",
              "\n",
              "      const base64 = btoa(String.fromCharCode.apply(null, chunk));\n",
              "      yield {\n",
              "        response: {\n",
              "          action: 'append',\n",
              "          file: file.name,\n",
              "          data: base64,\n",
              "        },\n",
              "      };\n",
              "\n",
              "      let percentDone = fileData.byteLength === 0 ?\n",
              "          100 :\n",
              "          Math.round((position / fileData.byteLength) * 100);\n",
              "      percent.textContent = `${percentDone}% done`;\n",
              "\n",
              "    } while (position < fileData.byteLength);\n",
              "  }\n",
              "\n",
              "  // All done.\n",
              "  yield {\n",
              "    response: {\n",
              "      action: 'complete',\n",
              "    }\n",
              "  };\n",
              "}\n",
              "\n",
              "scope.google = scope.google || {};\n",
              "scope.google.colab = scope.google.colab || {};\n",
              "scope.google.colab._files = {\n",
              "  _uploadFiles,\n",
              "  _uploadFilesContinue,\n",
              "};\n",
              "})(self);\n",
              "</script> "
            ]
          },
          "metadata": {}
        },
        {
          "output_type": "stream",
          "name": "stdout",
          "text": [
            "Saving WorkerFunnel.xlsx to WorkerFunnel.xlsx\n"
          ]
        }
      ],
      "source": [
        "from google.colab import files\n",
        "uploaded=files.upload()"
      ]
    },
    {
      "cell_type": "markdown",
      "source": [
        "# Section 1"
      ],
      "metadata": {
        "id": "0X6T9lEDpyVq"
      }
    },
    {
      "cell_type": "markdown",
      "source": [
        "## solution for question 1"
      ],
      "metadata": {
        "id": "HAVL86INp1V7"
      }
    },
    {
      "cell_type": "code",
      "source": [
        "funnel=pd.read_excel(\"WorkerFunnel.xlsx\")\n",
        "funnel"
      ],
      "metadata": {
        "id": "mA3gQCHcmUSc",
        "colab": {
          "base_uri": "https://localhost:8080/",
          "height": 423
        },
        "outputId": "8a5d6aaa-860b-484f-e141-81135ac2c837"
      },
      "execution_count": 5,
      "outputs": [
        {
          "output_type": "execute_result",
          "data": {
            "text/plain": [
              "                     Date Quarter Department  Targeted Productivity  Overtime  \\\n",
              "0     2015-01-01 00:00:00      Q1     Sewing                   0.80      7080   \n",
              "1     2015-01-01 00:00:00      Q1  Finishing                   0.75       960   \n",
              "2     2015-01-01 00:00:00      Q1     Sewing                   0.80      3660   \n",
              "3     2015-01-01 00:00:00      Q1     Sewing                   0.80      3660   \n",
              "4     2015-01-01 00:00:00      Q1     Sewing                   0.80      1920   \n",
              "...                   ...     ...        ...                    ...       ...   \n",
              "1192  2015-11-03 00:00:00      Q2  Finishing                   0.75       960   \n",
              "1193  2015-11-03 00:00:00      Q2  Finishing                   0.70       960   \n",
              "1194  2015-11-03 00:00:00      Q2  Finishing                   0.65       960   \n",
              "1195  2015-11-03 00:00:00      Q2  Finishing                   0.75      1800   \n",
              "1196  2015-11-03 00:00:00      Q2  Finishing                   0.70       720   \n",
              "\n",
              "      No. of Workers  Actual Productivity  \n",
              "0               59.0             0.940725  \n",
              "1                8.0             0.886500  \n",
              "2               30.5             0.800570  \n",
              "3               30.5             0.800570  \n",
              "4               56.0                  NaN  \n",
              "...              ...                  ...  \n",
              "1192             8.0             0.628333  \n",
              "1193             8.0                  NaN  \n",
              "1194             8.0             0.625625  \n",
              "1195            15.0             0.505889  \n",
              "1196             6.0             0.394722  \n",
              "\n",
              "[1197 rows x 7 columns]"
            ],
            "text/html": [
              "\n",
              "  <div id=\"df-ff84bd25-265e-47ed-a574-e72cd51a7c60\" class=\"colab-df-container\">\n",
              "    <div>\n",
              "<style scoped>\n",
              "    .dataframe tbody tr th:only-of-type {\n",
              "        vertical-align: middle;\n",
              "    }\n",
              "\n",
              "    .dataframe tbody tr th {\n",
              "        vertical-align: top;\n",
              "    }\n",
              "\n",
              "    .dataframe thead th {\n",
              "        text-align: right;\n",
              "    }\n",
              "</style>\n",
              "<table border=\"1\" class=\"dataframe\">\n",
              "  <thead>\n",
              "    <tr style=\"text-align: right;\">\n",
              "      <th></th>\n",
              "      <th>Date</th>\n",
              "      <th>Quarter</th>\n",
              "      <th>Department</th>\n",
              "      <th>Targeted Productivity</th>\n",
              "      <th>Overtime</th>\n",
              "      <th>No. of Workers</th>\n",
              "      <th>Actual Productivity</th>\n",
              "    </tr>\n",
              "  </thead>\n",
              "  <tbody>\n",
              "    <tr>\n",
              "      <th>0</th>\n",
              "      <td>2015-01-01 00:00:00</td>\n",
              "      <td>Q1</td>\n",
              "      <td>Sewing</td>\n",
              "      <td>0.80</td>\n",
              "      <td>7080</td>\n",
              "      <td>59.0</td>\n",
              "      <td>0.940725</td>\n",
              "    </tr>\n",
              "    <tr>\n",
              "      <th>1</th>\n",
              "      <td>2015-01-01 00:00:00</td>\n",
              "      <td>Q1</td>\n",
              "      <td>Finishing</td>\n",
              "      <td>0.75</td>\n",
              "      <td>960</td>\n",
              "      <td>8.0</td>\n",
              "      <td>0.886500</td>\n",
              "    </tr>\n",
              "    <tr>\n",
              "      <th>2</th>\n",
              "      <td>2015-01-01 00:00:00</td>\n",
              "      <td>Q1</td>\n",
              "      <td>Sewing</td>\n",
              "      <td>0.80</td>\n",
              "      <td>3660</td>\n",
              "      <td>30.5</td>\n",
              "      <td>0.800570</td>\n",
              "    </tr>\n",
              "    <tr>\n",
              "      <th>3</th>\n",
              "      <td>2015-01-01 00:00:00</td>\n",
              "      <td>Q1</td>\n",
              "      <td>Sewing</td>\n",
              "      <td>0.80</td>\n",
              "      <td>3660</td>\n",
              "      <td>30.5</td>\n",
              "      <td>0.800570</td>\n",
              "    </tr>\n",
              "    <tr>\n",
              "      <th>4</th>\n",
              "      <td>2015-01-01 00:00:00</td>\n",
              "      <td>Q1</td>\n",
              "      <td>Sewing</td>\n",
              "      <td>0.80</td>\n",
              "      <td>1920</td>\n",
              "      <td>56.0</td>\n",
              "      <td>NaN</td>\n",
              "    </tr>\n",
              "    <tr>\n",
              "      <th>...</th>\n",
              "      <td>...</td>\n",
              "      <td>...</td>\n",
              "      <td>...</td>\n",
              "      <td>...</td>\n",
              "      <td>...</td>\n",
              "      <td>...</td>\n",
              "      <td>...</td>\n",
              "    </tr>\n",
              "    <tr>\n",
              "      <th>1192</th>\n",
              "      <td>2015-11-03 00:00:00</td>\n",
              "      <td>Q2</td>\n",
              "      <td>Finishing</td>\n",
              "      <td>0.75</td>\n",
              "      <td>960</td>\n",
              "      <td>8.0</td>\n",
              "      <td>0.628333</td>\n",
              "    </tr>\n",
              "    <tr>\n",
              "      <th>1193</th>\n",
              "      <td>2015-11-03 00:00:00</td>\n",
              "      <td>Q2</td>\n",
              "      <td>Finishing</td>\n",
              "      <td>0.70</td>\n",
              "      <td>960</td>\n",
              "      <td>8.0</td>\n",
              "      <td>NaN</td>\n",
              "    </tr>\n",
              "    <tr>\n",
              "      <th>1194</th>\n",
              "      <td>2015-11-03 00:00:00</td>\n",
              "      <td>Q2</td>\n",
              "      <td>Finishing</td>\n",
              "      <td>0.65</td>\n",
              "      <td>960</td>\n",
              "      <td>8.0</td>\n",
              "      <td>0.625625</td>\n",
              "    </tr>\n",
              "    <tr>\n",
              "      <th>1195</th>\n",
              "      <td>2015-11-03 00:00:00</td>\n",
              "      <td>Q2</td>\n",
              "      <td>Finishing</td>\n",
              "      <td>0.75</td>\n",
              "      <td>1800</td>\n",
              "      <td>15.0</td>\n",
              "      <td>0.505889</td>\n",
              "    </tr>\n",
              "    <tr>\n",
              "      <th>1196</th>\n",
              "      <td>2015-11-03 00:00:00</td>\n",
              "      <td>Q2</td>\n",
              "      <td>Finishing</td>\n",
              "      <td>0.70</td>\n",
              "      <td>720</td>\n",
              "      <td>6.0</td>\n",
              "      <td>0.394722</td>\n",
              "    </tr>\n",
              "  </tbody>\n",
              "</table>\n",
              "<p>1197 rows × 7 columns</p>\n",
              "</div>\n",
              "    <div class=\"colab-df-buttons\">\n",
              "\n",
              "  <div class=\"colab-df-container\">\n",
              "    <button class=\"colab-df-convert\" onclick=\"convertToInteractive('df-ff84bd25-265e-47ed-a574-e72cd51a7c60')\"\n",
              "            title=\"Convert this dataframe to an interactive table.\"\n",
              "            style=\"display:none;\">\n",
              "\n",
              "  <svg xmlns=\"http://www.w3.org/2000/svg\" height=\"24px\" viewBox=\"0 -960 960 960\">\n",
              "    <path d=\"M120-120v-720h720v720H120Zm60-500h600v-160H180v160Zm220 220h160v-160H400v160Zm0 220h160v-160H400v160ZM180-400h160v-160H180v160Zm440 0h160v-160H620v160ZM180-180h160v-160H180v160Zm440 0h160v-160H620v160Z\"/>\n",
              "  </svg>\n",
              "    </button>\n",
              "\n",
              "  <style>\n",
              "    .colab-df-container {\n",
              "      display:flex;\n",
              "      gap: 12px;\n",
              "    }\n",
              "\n",
              "    .colab-df-convert {\n",
              "      background-color: #E8F0FE;\n",
              "      border: none;\n",
              "      border-radius: 50%;\n",
              "      cursor: pointer;\n",
              "      display: none;\n",
              "      fill: #1967D2;\n",
              "      height: 32px;\n",
              "      padding: 0 0 0 0;\n",
              "      width: 32px;\n",
              "    }\n",
              "\n",
              "    .colab-df-convert:hover {\n",
              "      background-color: #E2EBFA;\n",
              "      box-shadow: 0px 1px 2px rgba(60, 64, 67, 0.3), 0px 1px 3px 1px rgba(60, 64, 67, 0.15);\n",
              "      fill: #174EA6;\n",
              "    }\n",
              "\n",
              "    .colab-df-buttons div {\n",
              "      margin-bottom: 4px;\n",
              "    }\n",
              "\n",
              "    [theme=dark] .colab-df-convert {\n",
              "      background-color: #3B4455;\n",
              "      fill: #D2E3FC;\n",
              "    }\n",
              "\n",
              "    [theme=dark] .colab-df-convert:hover {\n",
              "      background-color: #434B5C;\n",
              "      box-shadow: 0px 1px 3px 1px rgba(0, 0, 0, 0.15);\n",
              "      filter: drop-shadow(0px 1px 2px rgba(0, 0, 0, 0.3));\n",
              "      fill: #FFFFFF;\n",
              "    }\n",
              "  </style>\n",
              "\n",
              "    <script>\n",
              "      const buttonEl =\n",
              "        document.querySelector('#df-ff84bd25-265e-47ed-a574-e72cd51a7c60 button.colab-df-convert');\n",
              "      buttonEl.style.display =\n",
              "        google.colab.kernel.accessAllowed ? 'block' : 'none';\n",
              "\n",
              "      async function convertToInteractive(key) {\n",
              "        const element = document.querySelector('#df-ff84bd25-265e-47ed-a574-e72cd51a7c60');\n",
              "        const dataTable =\n",
              "          await google.colab.kernel.invokeFunction('convertToInteractive',\n",
              "                                                    [key], {});\n",
              "        if (!dataTable) return;\n",
              "\n",
              "        const docLinkHtml = 'Like what you see? Visit the ' +\n",
              "          '<a target=\"_blank\" href=https://colab.research.google.com/notebooks/data_table.ipynb>data table notebook</a>'\n",
              "          + ' to learn more about interactive tables.';\n",
              "        element.innerHTML = '';\n",
              "        dataTable['output_type'] = 'display_data';\n",
              "        await google.colab.output.renderOutput(dataTable, element);\n",
              "        const docLink = document.createElement('div');\n",
              "        docLink.innerHTML = docLinkHtml;\n",
              "        element.appendChild(docLink);\n",
              "      }\n",
              "    </script>\n",
              "  </div>\n",
              "\n",
              "\n",
              "<div id=\"df-7d5ef0dc-e6e9-457b-a6cf-a9cba79079f1\">\n",
              "  <button class=\"colab-df-quickchart\" onclick=\"quickchart('df-7d5ef0dc-e6e9-457b-a6cf-a9cba79079f1')\"\n",
              "            title=\"Suggest charts\"\n",
              "            style=\"display:none;\">\n",
              "\n",
              "<svg xmlns=\"http://www.w3.org/2000/svg\" height=\"24px\"viewBox=\"0 0 24 24\"\n",
              "     width=\"24px\">\n",
              "    <g>\n",
              "        <path d=\"M19 3H5c-1.1 0-2 .9-2 2v14c0 1.1.9 2 2 2h14c1.1 0 2-.9 2-2V5c0-1.1-.9-2-2-2zM9 17H7v-7h2v7zm4 0h-2V7h2v10zm4 0h-2v-4h2v4z\"/>\n",
              "    </g>\n",
              "</svg>\n",
              "  </button>\n",
              "\n",
              "<style>\n",
              "  .colab-df-quickchart {\n",
              "      --bg-color: #E8F0FE;\n",
              "      --fill-color: #1967D2;\n",
              "      --hover-bg-color: #E2EBFA;\n",
              "      --hover-fill-color: #174EA6;\n",
              "      --disabled-fill-color: #AAA;\n",
              "      --disabled-bg-color: #DDD;\n",
              "  }\n",
              "\n",
              "  [theme=dark] .colab-df-quickchart {\n",
              "      --bg-color: #3B4455;\n",
              "      --fill-color: #D2E3FC;\n",
              "      --hover-bg-color: #434B5C;\n",
              "      --hover-fill-color: #FFFFFF;\n",
              "      --disabled-bg-color: #3B4455;\n",
              "      --disabled-fill-color: #666;\n",
              "  }\n",
              "\n",
              "  .colab-df-quickchart {\n",
              "    background-color: var(--bg-color);\n",
              "    border: none;\n",
              "    border-radius: 50%;\n",
              "    cursor: pointer;\n",
              "    display: none;\n",
              "    fill: var(--fill-color);\n",
              "    height: 32px;\n",
              "    padding: 0;\n",
              "    width: 32px;\n",
              "  }\n",
              "\n",
              "  .colab-df-quickchart:hover {\n",
              "    background-color: var(--hover-bg-color);\n",
              "    box-shadow: 0 1px 2px rgba(60, 64, 67, 0.3), 0 1px 3px 1px rgba(60, 64, 67, 0.15);\n",
              "    fill: var(--button-hover-fill-color);\n",
              "  }\n",
              "\n",
              "  .colab-df-quickchart-complete:disabled,\n",
              "  .colab-df-quickchart-complete:disabled:hover {\n",
              "    background-color: var(--disabled-bg-color);\n",
              "    fill: var(--disabled-fill-color);\n",
              "    box-shadow: none;\n",
              "  }\n",
              "\n",
              "  .colab-df-spinner {\n",
              "    border: 2px solid var(--fill-color);\n",
              "    border-color: transparent;\n",
              "    border-bottom-color: var(--fill-color);\n",
              "    animation:\n",
              "      spin 1s steps(1) infinite;\n",
              "  }\n",
              "\n",
              "  @keyframes spin {\n",
              "    0% {\n",
              "      border-color: transparent;\n",
              "      border-bottom-color: var(--fill-color);\n",
              "      border-left-color: var(--fill-color);\n",
              "    }\n",
              "    20% {\n",
              "      border-color: transparent;\n",
              "      border-left-color: var(--fill-color);\n",
              "      border-top-color: var(--fill-color);\n",
              "    }\n",
              "    30% {\n",
              "      border-color: transparent;\n",
              "      border-left-color: var(--fill-color);\n",
              "      border-top-color: var(--fill-color);\n",
              "      border-right-color: var(--fill-color);\n",
              "    }\n",
              "    40% {\n",
              "      border-color: transparent;\n",
              "      border-right-color: var(--fill-color);\n",
              "      border-top-color: var(--fill-color);\n",
              "    }\n",
              "    60% {\n",
              "      border-color: transparent;\n",
              "      border-right-color: var(--fill-color);\n",
              "    }\n",
              "    80% {\n",
              "      border-color: transparent;\n",
              "      border-right-color: var(--fill-color);\n",
              "      border-bottom-color: var(--fill-color);\n",
              "    }\n",
              "    90% {\n",
              "      border-color: transparent;\n",
              "      border-bottom-color: var(--fill-color);\n",
              "    }\n",
              "  }\n",
              "</style>\n",
              "\n",
              "  <script>\n",
              "    async function quickchart(key) {\n",
              "      const quickchartButtonEl =\n",
              "        document.querySelector('#' + key + ' button');\n",
              "      quickchartButtonEl.disabled = true;  // To prevent multiple clicks.\n",
              "      quickchartButtonEl.classList.add('colab-df-spinner');\n",
              "      try {\n",
              "        const charts = await google.colab.kernel.invokeFunction(\n",
              "            'suggestCharts', [key], {});\n",
              "      } catch (error) {\n",
              "        console.error('Error during call to suggestCharts:', error);\n",
              "      }\n",
              "      quickchartButtonEl.classList.remove('colab-df-spinner');\n",
              "      quickchartButtonEl.classList.add('colab-df-quickchart-complete');\n",
              "    }\n",
              "    (() => {\n",
              "      let quickchartButtonEl =\n",
              "        document.querySelector('#df-7d5ef0dc-e6e9-457b-a6cf-a9cba79079f1 button');\n",
              "      quickchartButtonEl.style.display =\n",
              "        google.colab.kernel.accessAllowed ? 'block' : 'none';\n",
              "    })();\n",
              "  </script>\n",
              "</div>\n",
              "\n",
              "  <div id=\"id_271d5fe0-0349-499c-9160-07cc19f5ab00\">\n",
              "    <style>\n",
              "      .colab-df-generate {\n",
              "        background-color: #E8F0FE;\n",
              "        border: none;\n",
              "        border-radius: 50%;\n",
              "        cursor: pointer;\n",
              "        display: none;\n",
              "        fill: #1967D2;\n",
              "        height: 32px;\n",
              "        padding: 0 0 0 0;\n",
              "        width: 32px;\n",
              "      }\n",
              "\n",
              "      .colab-df-generate:hover {\n",
              "        background-color: #E2EBFA;\n",
              "        box-shadow: 0px 1px 2px rgba(60, 64, 67, 0.3), 0px 1px 3px 1px rgba(60, 64, 67, 0.15);\n",
              "        fill: #174EA6;\n",
              "      }\n",
              "\n",
              "      [theme=dark] .colab-df-generate {\n",
              "        background-color: #3B4455;\n",
              "        fill: #D2E3FC;\n",
              "      }\n",
              "\n",
              "      [theme=dark] .colab-df-generate:hover {\n",
              "        background-color: #434B5C;\n",
              "        box-shadow: 0px 1px 3px 1px rgba(0, 0, 0, 0.15);\n",
              "        filter: drop-shadow(0px 1px 2px rgba(0, 0, 0, 0.3));\n",
              "        fill: #FFFFFF;\n",
              "      }\n",
              "    </style>\n",
              "    <button class=\"colab-df-generate\" onclick=\"generateWithVariable('funnel')\"\n",
              "            title=\"Generate code using this dataframe.\"\n",
              "            style=\"display:none;\">\n",
              "\n",
              "  <svg xmlns=\"http://www.w3.org/2000/svg\" height=\"24px\"viewBox=\"0 0 24 24\"\n",
              "       width=\"24px\">\n",
              "    <path d=\"M7,19H8.4L18.45,9,17,7.55,7,17.6ZM5,21V16.75L18.45,3.32a2,2,0,0,1,2.83,0l1.4,1.43a1.91,1.91,0,0,1,.58,1.4,1.91,1.91,0,0,1-.58,1.4L9.25,21ZM18.45,9,17,7.55Zm-12,3A5.31,5.31,0,0,0,4.9,8.1,5.31,5.31,0,0,0,1,6.5,5.31,5.31,0,0,0,4.9,4.9,5.31,5.31,0,0,0,6.5,1,5.31,5.31,0,0,0,8.1,4.9,5.31,5.31,0,0,0,12,6.5,5.46,5.46,0,0,0,6.5,12Z\"/>\n",
              "  </svg>\n",
              "    </button>\n",
              "    <script>\n",
              "      (() => {\n",
              "      const buttonEl =\n",
              "        document.querySelector('#id_271d5fe0-0349-499c-9160-07cc19f5ab00 button.colab-df-generate');\n",
              "      buttonEl.style.display =\n",
              "        google.colab.kernel.accessAllowed ? 'block' : 'none';\n",
              "\n",
              "      buttonEl.onclick = () => {\n",
              "        google.colab.notebook.generateWithVariable('funnel');\n",
              "      }\n",
              "      })();\n",
              "    </script>\n",
              "  </div>\n",
              "\n",
              "    </div>\n",
              "  </div>\n"
            ],
            "application/vnd.google.colaboratory.intrinsic+json": {
              "type": "dataframe",
              "variable_name": "funnel",
              "summary": "{\n  \"name\": \"funnel\",\n  \"rows\": 1197,\n  \"fields\": [\n    {\n      \"column\": \"Date\",\n      \"properties\": {\n        \"dtype\": \"date\",\n        \"min\": \"2015-01-01 00:00:00\",\n        \"max\": \"2015-12-02 00:00:00\",\n        \"num_unique_values\": 59,\n        \"samples\": [\n          \"2015-01-01 00:00:00\",\n          \"2015-07-01 00:00:00\",\n          \"2015-10-02 00:00:00\"\n        ],\n        \"semantic_type\": \"\",\n        \"description\": \"\"\n      }\n    },\n    {\n      \"column\": \"Quarter\",\n      \"properties\": {\n        \"dtype\": \"category\",\n        \"num_unique_values\": 5,\n        \"samples\": [\n          \"Q2\",\n          \"Q5\",\n          \"Q3\"\n        ],\n        \"semantic_type\": \"\",\n        \"description\": \"\"\n      }\n    },\n    {\n      \"column\": \"Department\",\n      \"properties\": {\n        \"dtype\": \"category\",\n        \"num_unique_values\": 2,\n        \"samples\": [\n          \"Finishing\",\n          \"Sewing\"\n        ],\n        \"semantic_type\": \"\",\n        \"description\": \"\"\n      }\n    },\n    {\n      \"column\": \"Targeted Productivity\",\n      \"properties\": {\n        \"dtype\": \"number\",\n        \"std\": 0.09789096325790547,\n        \"min\": 0.07,\n        \"max\": 0.8,\n        \"num_unique_values\": 9,\n        \"samples\": [\n          0.07,\n          0.75\n        ],\n        \"semantic_type\": \"\",\n        \"description\": \"\"\n      }\n    },\n    {\n      \"column\": \"Overtime\",\n      \"properties\": {\n        \"dtype\": \"number\",\n        \"std\": 3348,\n        \"min\": 0,\n        \"max\": 25920,\n        \"num_unique_values\": 143,\n        \"samples\": [\n          5820,\n          6780\n        ],\n        \"semantic_type\": \"\",\n        \"description\": \"\"\n      }\n    },\n    {\n      \"column\": \"No. of Workers\",\n      \"properties\": {\n        \"dtype\": \"number\",\n        \"std\": 22.19768668225043,\n        \"min\": 2.0,\n        \"max\": 89.0,\n        \"num_unique_values\": 61,\n        \"samples\": [\n          59.0,\n          55.0\n        ],\n        \"semantic_type\": \"\",\n        \"description\": \"\"\n      }\n    },\n    {\n      \"column\": \"Actual Productivity\",\n      \"properties\": {\n        \"dtype\": \"number\",\n        \"std\": 0.17462925247804145,\n        \"min\": 0.233705476,\n        \"max\": 1.1204375,\n        \"num_unique_values\": 866,\n        \"samples\": [\n          0.800842424,\n          0.840888889\n        ],\n        \"semantic_type\": \"\",\n        \"description\": \"\"\n      }\n    }\n  ]\n}"
            }
          },
          "metadata": {},
          "execution_count": 5
        }
      ]
    },
    {
      "cell_type": "markdown",
      "source": [
        "**After a thorough exploration about the dataset I got to know about the duplicate values present in the dataset,I identified that and took some proactive measures and steps to drop that duplicate values,as they were of no use.I kept the first occurence of the value and removed the 2nd respectively.This method surely helps to improve the efficiency**"
      ],
      "metadata": {
        "id": "Hem94iD1S1b9"
      }
    },
    {
      "cell_type": "code",
      "source": [
        "funnel.drop_duplicates(inplace=True)\n"
      ],
      "metadata": {
        "id": "QPFh8tuambD-"
      },
      "execution_count": 6,
      "outputs": []
    },
    {
      "cell_type": "code",
      "source": [
        "funnel\n",
        "#the final dataframe(funnel) has been displayed without duplicate values values"
      ],
      "metadata": {
        "id": "ihRIEssimgT8",
        "colab": {
          "base_uri": "https://localhost:8080/",
          "height": 423
        },
        "outputId": "ab708e4a-4ac5-47d1-c9a0-c8d5ffd48c29"
      },
      "execution_count": 7,
      "outputs": [
        {
          "output_type": "execute_result",
          "data": {
            "text/plain": [
              "                     Date Quarter Department  Targeted Productivity  Overtime  \\\n",
              "0     2015-01-01 00:00:00      Q1     Sewing                   0.80      7080   \n",
              "1     2015-01-01 00:00:00      Q1  Finishing                   0.75       960   \n",
              "2     2015-01-01 00:00:00      Q1     Sewing                   0.80      3660   \n",
              "4     2015-01-01 00:00:00      Q1     Sewing                   0.80      1920   \n",
              "5     2015-01-01 00:00:00      Q1     Sewing                   0.80      6720   \n",
              "...                   ...     ...        ...                    ...       ...   \n",
              "1192  2015-11-03 00:00:00      Q2  Finishing                   0.75       960   \n",
              "1193  2015-11-03 00:00:00      Q2  Finishing                   0.70       960   \n",
              "1194  2015-11-03 00:00:00      Q2  Finishing                   0.65       960   \n",
              "1195  2015-11-03 00:00:00      Q2  Finishing                   0.75      1800   \n",
              "1196  2015-11-03 00:00:00      Q2  Finishing                   0.70       720   \n",
              "\n",
              "      No. of Workers  Actual Productivity  \n",
              "0               59.0             0.940725  \n",
              "1                8.0             0.886500  \n",
              "2               30.5             0.800570  \n",
              "4               56.0                  NaN  \n",
              "5               56.0             0.800125  \n",
              "...              ...                  ...  \n",
              "1192             8.0             0.628333  \n",
              "1193             8.0                  NaN  \n",
              "1194             8.0             0.625625  \n",
              "1195            15.0             0.505889  \n",
              "1196             6.0             0.394722  \n",
              "\n",
              "[1161 rows x 7 columns]"
            ],
            "text/html": [
              "\n",
              "  <div id=\"df-a1f4916d-cf88-4893-8bcf-a631b5ac2c99\" class=\"colab-df-container\">\n",
              "    <div>\n",
              "<style scoped>\n",
              "    .dataframe tbody tr th:only-of-type {\n",
              "        vertical-align: middle;\n",
              "    }\n",
              "\n",
              "    .dataframe tbody tr th {\n",
              "        vertical-align: top;\n",
              "    }\n",
              "\n",
              "    .dataframe thead th {\n",
              "        text-align: right;\n",
              "    }\n",
              "</style>\n",
              "<table border=\"1\" class=\"dataframe\">\n",
              "  <thead>\n",
              "    <tr style=\"text-align: right;\">\n",
              "      <th></th>\n",
              "      <th>Date</th>\n",
              "      <th>Quarter</th>\n",
              "      <th>Department</th>\n",
              "      <th>Targeted Productivity</th>\n",
              "      <th>Overtime</th>\n",
              "      <th>No. of Workers</th>\n",
              "      <th>Actual Productivity</th>\n",
              "    </tr>\n",
              "  </thead>\n",
              "  <tbody>\n",
              "    <tr>\n",
              "      <th>0</th>\n",
              "      <td>2015-01-01 00:00:00</td>\n",
              "      <td>Q1</td>\n",
              "      <td>Sewing</td>\n",
              "      <td>0.80</td>\n",
              "      <td>7080</td>\n",
              "      <td>59.0</td>\n",
              "      <td>0.940725</td>\n",
              "    </tr>\n",
              "    <tr>\n",
              "      <th>1</th>\n",
              "      <td>2015-01-01 00:00:00</td>\n",
              "      <td>Q1</td>\n",
              "      <td>Finishing</td>\n",
              "      <td>0.75</td>\n",
              "      <td>960</td>\n",
              "      <td>8.0</td>\n",
              "      <td>0.886500</td>\n",
              "    </tr>\n",
              "    <tr>\n",
              "      <th>2</th>\n",
              "      <td>2015-01-01 00:00:00</td>\n",
              "      <td>Q1</td>\n",
              "      <td>Sewing</td>\n",
              "      <td>0.80</td>\n",
              "      <td>3660</td>\n",
              "      <td>30.5</td>\n",
              "      <td>0.800570</td>\n",
              "    </tr>\n",
              "    <tr>\n",
              "      <th>4</th>\n",
              "      <td>2015-01-01 00:00:00</td>\n",
              "      <td>Q1</td>\n",
              "      <td>Sewing</td>\n",
              "      <td>0.80</td>\n",
              "      <td>1920</td>\n",
              "      <td>56.0</td>\n",
              "      <td>NaN</td>\n",
              "    </tr>\n",
              "    <tr>\n",
              "      <th>5</th>\n",
              "      <td>2015-01-01 00:00:00</td>\n",
              "      <td>Q1</td>\n",
              "      <td>Sewing</td>\n",
              "      <td>0.80</td>\n",
              "      <td>6720</td>\n",
              "      <td>56.0</td>\n",
              "      <td>0.800125</td>\n",
              "    </tr>\n",
              "    <tr>\n",
              "      <th>...</th>\n",
              "      <td>...</td>\n",
              "      <td>...</td>\n",
              "      <td>...</td>\n",
              "      <td>...</td>\n",
              "      <td>...</td>\n",
              "      <td>...</td>\n",
              "      <td>...</td>\n",
              "    </tr>\n",
              "    <tr>\n",
              "      <th>1192</th>\n",
              "      <td>2015-11-03 00:00:00</td>\n",
              "      <td>Q2</td>\n",
              "      <td>Finishing</td>\n",
              "      <td>0.75</td>\n",
              "      <td>960</td>\n",
              "      <td>8.0</td>\n",
              "      <td>0.628333</td>\n",
              "    </tr>\n",
              "    <tr>\n",
              "      <th>1193</th>\n",
              "      <td>2015-11-03 00:00:00</td>\n",
              "      <td>Q2</td>\n",
              "      <td>Finishing</td>\n",
              "      <td>0.70</td>\n",
              "      <td>960</td>\n",
              "      <td>8.0</td>\n",
              "      <td>NaN</td>\n",
              "    </tr>\n",
              "    <tr>\n",
              "      <th>1194</th>\n",
              "      <td>2015-11-03 00:00:00</td>\n",
              "      <td>Q2</td>\n",
              "      <td>Finishing</td>\n",
              "      <td>0.65</td>\n",
              "      <td>960</td>\n",
              "      <td>8.0</td>\n",
              "      <td>0.625625</td>\n",
              "    </tr>\n",
              "    <tr>\n",
              "      <th>1195</th>\n",
              "      <td>2015-11-03 00:00:00</td>\n",
              "      <td>Q2</td>\n",
              "      <td>Finishing</td>\n",
              "      <td>0.75</td>\n",
              "      <td>1800</td>\n",
              "      <td>15.0</td>\n",
              "      <td>0.505889</td>\n",
              "    </tr>\n",
              "    <tr>\n",
              "      <th>1196</th>\n",
              "      <td>2015-11-03 00:00:00</td>\n",
              "      <td>Q2</td>\n",
              "      <td>Finishing</td>\n",
              "      <td>0.70</td>\n",
              "      <td>720</td>\n",
              "      <td>6.0</td>\n",
              "      <td>0.394722</td>\n",
              "    </tr>\n",
              "  </tbody>\n",
              "</table>\n",
              "<p>1161 rows × 7 columns</p>\n",
              "</div>\n",
              "    <div class=\"colab-df-buttons\">\n",
              "\n",
              "  <div class=\"colab-df-container\">\n",
              "    <button class=\"colab-df-convert\" onclick=\"convertToInteractive('df-a1f4916d-cf88-4893-8bcf-a631b5ac2c99')\"\n",
              "            title=\"Convert this dataframe to an interactive table.\"\n",
              "            style=\"display:none;\">\n",
              "\n",
              "  <svg xmlns=\"http://www.w3.org/2000/svg\" height=\"24px\" viewBox=\"0 -960 960 960\">\n",
              "    <path d=\"M120-120v-720h720v720H120Zm60-500h600v-160H180v160Zm220 220h160v-160H400v160Zm0 220h160v-160H400v160ZM180-400h160v-160H180v160Zm440 0h160v-160H620v160ZM180-180h160v-160H180v160Zm440 0h160v-160H620v160Z\"/>\n",
              "  </svg>\n",
              "    </button>\n",
              "\n",
              "  <style>\n",
              "    .colab-df-container {\n",
              "      display:flex;\n",
              "      gap: 12px;\n",
              "    }\n",
              "\n",
              "    .colab-df-convert {\n",
              "      background-color: #E8F0FE;\n",
              "      border: none;\n",
              "      border-radius: 50%;\n",
              "      cursor: pointer;\n",
              "      display: none;\n",
              "      fill: #1967D2;\n",
              "      height: 32px;\n",
              "      padding: 0 0 0 0;\n",
              "      width: 32px;\n",
              "    }\n",
              "\n",
              "    .colab-df-convert:hover {\n",
              "      background-color: #E2EBFA;\n",
              "      box-shadow: 0px 1px 2px rgba(60, 64, 67, 0.3), 0px 1px 3px 1px rgba(60, 64, 67, 0.15);\n",
              "      fill: #174EA6;\n",
              "    }\n",
              "\n",
              "    .colab-df-buttons div {\n",
              "      margin-bottom: 4px;\n",
              "    }\n",
              "\n",
              "    [theme=dark] .colab-df-convert {\n",
              "      background-color: #3B4455;\n",
              "      fill: #D2E3FC;\n",
              "    }\n",
              "\n",
              "    [theme=dark] .colab-df-convert:hover {\n",
              "      background-color: #434B5C;\n",
              "      box-shadow: 0px 1px 3px 1px rgba(0, 0, 0, 0.15);\n",
              "      filter: drop-shadow(0px 1px 2px rgba(0, 0, 0, 0.3));\n",
              "      fill: #FFFFFF;\n",
              "    }\n",
              "  </style>\n",
              "\n",
              "    <script>\n",
              "      const buttonEl =\n",
              "        document.querySelector('#df-a1f4916d-cf88-4893-8bcf-a631b5ac2c99 button.colab-df-convert');\n",
              "      buttonEl.style.display =\n",
              "        google.colab.kernel.accessAllowed ? 'block' : 'none';\n",
              "\n",
              "      async function convertToInteractive(key) {\n",
              "        const element = document.querySelector('#df-a1f4916d-cf88-4893-8bcf-a631b5ac2c99');\n",
              "        const dataTable =\n",
              "          await google.colab.kernel.invokeFunction('convertToInteractive',\n",
              "                                                    [key], {});\n",
              "        if (!dataTable) return;\n",
              "\n",
              "        const docLinkHtml = 'Like what you see? Visit the ' +\n",
              "          '<a target=\"_blank\" href=https://colab.research.google.com/notebooks/data_table.ipynb>data table notebook</a>'\n",
              "          + ' to learn more about interactive tables.';\n",
              "        element.innerHTML = '';\n",
              "        dataTable['output_type'] = 'display_data';\n",
              "        await google.colab.output.renderOutput(dataTable, element);\n",
              "        const docLink = document.createElement('div');\n",
              "        docLink.innerHTML = docLinkHtml;\n",
              "        element.appendChild(docLink);\n",
              "      }\n",
              "    </script>\n",
              "  </div>\n",
              "\n",
              "\n",
              "<div id=\"df-58fcfc7e-be70-47c8-8325-8e059a839c27\">\n",
              "  <button class=\"colab-df-quickchart\" onclick=\"quickchart('df-58fcfc7e-be70-47c8-8325-8e059a839c27')\"\n",
              "            title=\"Suggest charts\"\n",
              "            style=\"display:none;\">\n",
              "\n",
              "<svg xmlns=\"http://www.w3.org/2000/svg\" height=\"24px\"viewBox=\"0 0 24 24\"\n",
              "     width=\"24px\">\n",
              "    <g>\n",
              "        <path d=\"M19 3H5c-1.1 0-2 .9-2 2v14c0 1.1.9 2 2 2h14c1.1 0 2-.9 2-2V5c0-1.1-.9-2-2-2zM9 17H7v-7h2v7zm4 0h-2V7h2v10zm4 0h-2v-4h2v4z\"/>\n",
              "    </g>\n",
              "</svg>\n",
              "  </button>\n",
              "\n",
              "<style>\n",
              "  .colab-df-quickchart {\n",
              "      --bg-color: #E8F0FE;\n",
              "      --fill-color: #1967D2;\n",
              "      --hover-bg-color: #E2EBFA;\n",
              "      --hover-fill-color: #174EA6;\n",
              "      --disabled-fill-color: #AAA;\n",
              "      --disabled-bg-color: #DDD;\n",
              "  }\n",
              "\n",
              "  [theme=dark] .colab-df-quickchart {\n",
              "      --bg-color: #3B4455;\n",
              "      --fill-color: #D2E3FC;\n",
              "      --hover-bg-color: #434B5C;\n",
              "      --hover-fill-color: #FFFFFF;\n",
              "      --disabled-bg-color: #3B4455;\n",
              "      --disabled-fill-color: #666;\n",
              "  }\n",
              "\n",
              "  .colab-df-quickchart {\n",
              "    background-color: var(--bg-color);\n",
              "    border: none;\n",
              "    border-radius: 50%;\n",
              "    cursor: pointer;\n",
              "    display: none;\n",
              "    fill: var(--fill-color);\n",
              "    height: 32px;\n",
              "    padding: 0;\n",
              "    width: 32px;\n",
              "  }\n",
              "\n",
              "  .colab-df-quickchart:hover {\n",
              "    background-color: var(--hover-bg-color);\n",
              "    box-shadow: 0 1px 2px rgba(60, 64, 67, 0.3), 0 1px 3px 1px rgba(60, 64, 67, 0.15);\n",
              "    fill: var(--button-hover-fill-color);\n",
              "  }\n",
              "\n",
              "  .colab-df-quickchart-complete:disabled,\n",
              "  .colab-df-quickchart-complete:disabled:hover {\n",
              "    background-color: var(--disabled-bg-color);\n",
              "    fill: var(--disabled-fill-color);\n",
              "    box-shadow: none;\n",
              "  }\n",
              "\n",
              "  .colab-df-spinner {\n",
              "    border: 2px solid var(--fill-color);\n",
              "    border-color: transparent;\n",
              "    border-bottom-color: var(--fill-color);\n",
              "    animation:\n",
              "      spin 1s steps(1) infinite;\n",
              "  }\n",
              "\n",
              "  @keyframes spin {\n",
              "    0% {\n",
              "      border-color: transparent;\n",
              "      border-bottom-color: var(--fill-color);\n",
              "      border-left-color: var(--fill-color);\n",
              "    }\n",
              "    20% {\n",
              "      border-color: transparent;\n",
              "      border-left-color: var(--fill-color);\n",
              "      border-top-color: var(--fill-color);\n",
              "    }\n",
              "    30% {\n",
              "      border-color: transparent;\n",
              "      border-left-color: var(--fill-color);\n",
              "      border-top-color: var(--fill-color);\n",
              "      border-right-color: var(--fill-color);\n",
              "    }\n",
              "    40% {\n",
              "      border-color: transparent;\n",
              "      border-right-color: var(--fill-color);\n",
              "      border-top-color: var(--fill-color);\n",
              "    }\n",
              "    60% {\n",
              "      border-color: transparent;\n",
              "      border-right-color: var(--fill-color);\n",
              "    }\n",
              "    80% {\n",
              "      border-color: transparent;\n",
              "      border-right-color: var(--fill-color);\n",
              "      border-bottom-color: var(--fill-color);\n",
              "    }\n",
              "    90% {\n",
              "      border-color: transparent;\n",
              "      border-bottom-color: var(--fill-color);\n",
              "    }\n",
              "  }\n",
              "</style>\n",
              "\n",
              "  <script>\n",
              "    async function quickchart(key) {\n",
              "      const quickchartButtonEl =\n",
              "        document.querySelector('#' + key + ' button');\n",
              "      quickchartButtonEl.disabled = true;  // To prevent multiple clicks.\n",
              "      quickchartButtonEl.classList.add('colab-df-spinner');\n",
              "      try {\n",
              "        const charts = await google.colab.kernel.invokeFunction(\n",
              "            'suggestCharts', [key], {});\n",
              "      } catch (error) {\n",
              "        console.error('Error during call to suggestCharts:', error);\n",
              "      }\n",
              "      quickchartButtonEl.classList.remove('colab-df-spinner');\n",
              "      quickchartButtonEl.classList.add('colab-df-quickchart-complete');\n",
              "    }\n",
              "    (() => {\n",
              "      let quickchartButtonEl =\n",
              "        document.querySelector('#df-58fcfc7e-be70-47c8-8325-8e059a839c27 button');\n",
              "      quickchartButtonEl.style.display =\n",
              "        google.colab.kernel.accessAllowed ? 'block' : 'none';\n",
              "    })();\n",
              "  </script>\n",
              "</div>\n",
              "\n",
              "  <div id=\"id_903b2195-9cc8-4b81-958f-92ac2fb99204\">\n",
              "    <style>\n",
              "      .colab-df-generate {\n",
              "        background-color: #E8F0FE;\n",
              "        border: none;\n",
              "        border-radius: 50%;\n",
              "        cursor: pointer;\n",
              "        display: none;\n",
              "        fill: #1967D2;\n",
              "        height: 32px;\n",
              "        padding: 0 0 0 0;\n",
              "        width: 32px;\n",
              "      }\n",
              "\n",
              "      .colab-df-generate:hover {\n",
              "        background-color: #E2EBFA;\n",
              "        box-shadow: 0px 1px 2px rgba(60, 64, 67, 0.3), 0px 1px 3px 1px rgba(60, 64, 67, 0.15);\n",
              "        fill: #174EA6;\n",
              "      }\n",
              "\n",
              "      [theme=dark] .colab-df-generate {\n",
              "        background-color: #3B4455;\n",
              "        fill: #D2E3FC;\n",
              "      }\n",
              "\n",
              "      [theme=dark] .colab-df-generate:hover {\n",
              "        background-color: #434B5C;\n",
              "        box-shadow: 0px 1px 3px 1px rgba(0, 0, 0, 0.15);\n",
              "        filter: drop-shadow(0px 1px 2px rgba(0, 0, 0, 0.3));\n",
              "        fill: #FFFFFF;\n",
              "      }\n",
              "    </style>\n",
              "    <button class=\"colab-df-generate\" onclick=\"generateWithVariable('funnel')\"\n",
              "            title=\"Generate code using this dataframe.\"\n",
              "            style=\"display:none;\">\n",
              "\n",
              "  <svg xmlns=\"http://www.w3.org/2000/svg\" height=\"24px\"viewBox=\"0 0 24 24\"\n",
              "       width=\"24px\">\n",
              "    <path d=\"M7,19H8.4L18.45,9,17,7.55,7,17.6ZM5,21V16.75L18.45,3.32a2,2,0,0,1,2.83,0l1.4,1.43a1.91,1.91,0,0,1,.58,1.4,1.91,1.91,0,0,1-.58,1.4L9.25,21ZM18.45,9,17,7.55Zm-12,3A5.31,5.31,0,0,0,4.9,8.1,5.31,5.31,0,0,0,1,6.5,5.31,5.31,0,0,0,4.9,4.9,5.31,5.31,0,0,0,6.5,1,5.31,5.31,0,0,0,8.1,4.9,5.31,5.31,0,0,0,12,6.5,5.46,5.46,0,0,0,6.5,12Z\"/>\n",
              "  </svg>\n",
              "    </button>\n",
              "    <script>\n",
              "      (() => {\n",
              "      const buttonEl =\n",
              "        document.querySelector('#id_903b2195-9cc8-4b81-958f-92ac2fb99204 button.colab-df-generate');\n",
              "      buttonEl.style.display =\n",
              "        google.colab.kernel.accessAllowed ? 'block' : 'none';\n",
              "\n",
              "      buttonEl.onclick = () => {\n",
              "        google.colab.notebook.generateWithVariable('funnel');\n",
              "      }\n",
              "      })();\n",
              "    </script>\n",
              "  </div>\n",
              "\n",
              "    </div>\n",
              "  </div>\n"
            ],
            "application/vnd.google.colaboratory.intrinsic+json": {
              "type": "dataframe",
              "variable_name": "funnel",
              "summary": "{\n  \"name\": \"funnel\",\n  \"rows\": 1161,\n  \"fields\": [\n    {\n      \"column\": \"Date\",\n      \"properties\": {\n        \"dtype\": \"date\",\n        \"min\": \"2015-01-01 00:00:00\",\n        \"max\": \"2015-12-02 00:00:00\",\n        \"num_unique_values\": 59,\n        \"samples\": [\n          \"2015-01-01 00:00:00\",\n          \"2015-07-01 00:00:00\",\n          \"2015-10-02 00:00:00\"\n        ],\n        \"semantic_type\": \"\",\n        \"description\": \"\"\n      }\n    },\n    {\n      \"column\": \"Quarter\",\n      \"properties\": {\n        \"dtype\": \"category\",\n        \"num_unique_values\": 5,\n        \"samples\": [\n          \"Q2\",\n          \"Q5\",\n          \"Q3\"\n        ],\n        \"semantic_type\": \"\",\n        \"description\": \"\"\n      }\n    },\n    {\n      \"column\": \"Department\",\n      \"properties\": {\n        \"dtype\": \"category\",\n        \"num_unique_values\": 2,\n        \"samples\": [\n          \"Finishing\",\n          \"Sewing\"\n        ],\n        \"semantic_type\": \"\",\n        \"description\": \"\"\n      }\n    },\n    {\n      \"column\": \"Targeted Productivity\",\n      \"properties\": {\n        \"dtype\": \"number\",\n        \"std\": 0.098134720596219,\n        \"min\": 0.07,\n        \"max\": 0.8,\n        \"num_unique_values\": 9,\n        \"samples\": [\n          0.07,\n          0.75\n        ],\n        \"semantic_type\": \"\",\n        \"description\": \"\"\n      }\n    },\n    {\n      \"column\": \"Overtime\",\n      \"properties\": {\n        \"dtype\": \"number\",\n        \"std\": 3305,\n        \"min\": 0,\n        \"max\": 25920,\n        \"num_unique_values\": 143,\n        \"samples\": [\n          5820,\n          6780\n        ],\n        \"semantic_type\": \"\",\n        \"description\": \"\"\n      }\n    },\n    {\n      \"column\": \"No. of Workers\",\n      \"properties\": {\n        \"dtype\": \"number\",\n        \"std\": 22.199624614761486,\n        \"min\": 2.0,\n        \"max\": 89.0,\n        \"num_unique_values\": 61,\n        \"samples\": [\n          59.0,\n          55.0\n        ],\n        \"semantic_type\": \"\",\n        \"description\": \"\"\n      }\n    },\n    {\n      \"column\": \"Actual Productivity\",\n      \"properties\": {\n        \"dtype\": \"number\",\n        \"std\": 0.17537917230985867,\n        \"min\": 0.233705476,\n        \"max\": 1.1204375,\n        \"num_unique_values\": 866,\n        \"samples\": [\n          0.800842424,\n          0.840888889\n        ],\n        \"semantic_type\": \"\",\n        \"description\": \"\"\n      }\n    }\n  ]\n}"
            }
          },
          "metadata": {},
          "execution_count": 7
        }
      ]
    },
    {
      "cell_type": "markdown",
      "source": [
        "**here i'm checking the null values present in the respective column**"
      ],
      "metadata": {
        "id": "twdQ_kN1Suu4"
      }
    },
    {
      "cell_type": "code",
      "source": [
        "funnel.isnull().sum()\n"
      ],
      "metadata": {
        "id": "4FE4hjdGmpI7",
        "colab": {
          "base_uri": "https://localhost:8080/"
        },
        "outputId": "29a372b7-0899-4451-b321-c3998b07c110"
      },
      "execution_count": 8,
      "outputs": [
        {
          "output_type": "execute_result",
          "data": {
            "text/plain": [
              "Date                      0\n",
              "Quarter                   0\n",
              "Department                0\n",
              "Targeted Productivity     0\n",
              "Overtime                  0\n",
              "No. of Workers            0\n",
              "Actual Productivity      30\n",
              "dtype: int64"
            ]
          },
          "metadata": {},
          "execution_count": 8
        }
      ]
    },
    {
      "cell_type": "code",
      "source": [
        "funnel[\"Actual Productivity\"].describe()"
      ],
      "metadata": {
        "id": "LGEuKlcemvGT",
        "colab": {
          "base_uri": "https://localhost:8080/"
        },
        "outputId": "1c8ea2b9-28a5-44f2-8790-dc855e76edda"
      },
      "execution_count": 9,
      "outputs": [
        {
          "output_type": "execute_result",
          "data": {
            "text/plain": [
              "count    1131.000000\n",
              "mean        0.732945\n",
              "std         0.175379\n",
              "min         0.233705\n",
              "25%         0.650141\n",
              "50%         0.758229\n",
              "75%         0.850176\n",
              "max         1.120437\n",
              "Name: Actual Productivity, dtype: float64"
            ]
          },
          "metadata": {},
          "execution_count": 9
        }
      ]
    },
    {
      "cell_type": "markdown",
      "source": [
        "**I noticed there were 30 null values in the Actual Productivity column out of the 1161 entries which eventually sums to 2.58% of missing values..which isn't too much;to handle these NaN values I replaced them with mode..which seemed to be the most practical solution to me as it wont mess up the data**."
      ],
      "metadata": {
        "id": "BzvoKftoSpcS"
      }
    },
    {
      "cell_type": "code",
      "source": [
        "funnel[\"Actual Productivity\"].fillna(funnel[\"Actual Productivity\"].mode()[0], inplace=True)"
      ],
      "metadata": {
        "id": "B8OCGAQNo0mp"
      },
      "execution_count": 10,
      "outputs": []
    },
    {
      "cell_type": "code",
      "source": [
        "funnel.isnull().sum()\n",
        "# the missing values are filled"
      ],
      "metadata": {
        "id": "s2aQrAvvo6JA",
        "colab": {
          "base_uri": "https://localhost:8080/"
        },
        "outputId": "6ab2a3ae-9caf-4ea9-ae25-ffa076a41b4c"
      },
      "execution_count": 11,
      "outputs": [
        {
          "output_type": "execute_result",
          "data": {
            "text/plain": [
              "Date                     0\n",
              "Quarter                  0\n",
              "Department               0\n",
              "Targeted Productivity    0\n",
              "Overtime                 0\n",
              "No. of Workers           0\n",
              "Actual Productivity      0\n",
              "dtype: int64"
            ]
          },
          "metadata": {},
          "execution_count": 11
        }
      ]
    },
    {
      "cell_type": "code",
      "source": [
        "funnel.shape"
      ],
      "metadata": {
        "id": "EGpSh5F5pckT",
        "colab": {
          "base_uri": "https://localhost:8080/"
        },
        "outputId": "e5d9b912-1aad-44b4-e228-248e31e09373"
      },
      "execution_count": 12,
      "outputs": [
        {
          "output_type": "execute_result",
          "data": {
            "text/plain": [
              "(1161, 7)"
            ]
          },
          "metadata": {},
          "execution_count": 12
        }
      ]
    },
    {
      "cell_type": "markdown",
      "source": [
        "# solution for Q2"
      ],
      "metadata": {
        "id": "dXyQgEMhNJKN"
      }
    },
    {
      "cell_type": "code",
      "source": [
        "import numpy as np"
      ],
      "metadata": {
        "id": "ulbG7fRYEFGJ"
      },
      "execution_count": 13,
      "outputs": []
    },
    {
      "cell_type": "markdown",
      "source": [
        "here I have used the numpy library to compare the values of 2 columns and to get the result"
      ],
      "metadata": {
        "id": "WbLD2O9ySj_0"
      }
    },
    {
      "cell_type": "code",
      "source": [
        "funnel[\"Target Achieved\"]=np.where(funnel[\"Actual Productivity\"]>funnel[\"Targeted Productivity\"],\"Yes\",\"No\")\n"
      ],
      "metadata": {
        "id": "wrOussOWLMUK"
      },
      "execution_count": 14,
      "outputs": []
    },
    {
      "cell_type": "code",
      "source": [
        "funnel"
      ],
      "metadata": {
        "id": "R49wH6z3P5Qv",
        "colab": {
          "base_uri": "https://localhost:8080/",
          "height": 423
        },
        "outputId": "a1267e10-5c18-4a09-96a5-07453ac15b68"
      },
      "execution_count": 15,
      "outputs": [
        {
          "output_type": "execute_result",
          "data": {
            "text/plain": [
              "                     Date Quarter Department  Targeted Productivity  Overtime  \\\n",
              "0     2015-01-01 00:00:00      Q1     Sewing                   0.80      7080   \n",
              "1     2015-01-01 00:00:00      Q1  Finishing                   0.75       960   \n",
              "2     2015-01-01 00:00:00      Q1     Sewing                   0.80      3660   \n",
              "4     2015-01-01 00:00:00      Q1     Sewing                   0.80      1920   \n",
              "5     2015-01-01 00:00:00      Q1     Sewing                   0.80      6720   \n",
              "...                   ...     ...        ...                    ...       ...   \n",
              "1192  2015-11-03 00:00:00      Q2  Finishing                   0.75       960   \n",
              "1193  2015-11-03 00:00:00      Q2  Finishing                   0.70       960   \n",
              "1194  2015-11-03 00:00:00      Q2  Finishing                   0.65       960   \n",
              "1195  2015-11-03 00:00:00      Q2  Finishing                   0.75      1800   \n",
              "1196  2015-11-03 00:00:00      Q2  Finishing                   0.70       720   \n",
              "\n",
              "      No. of Workers  Actual Productivity Target Achieved  \n",
              "0               59.0             0.940725             Yes  \n",
              "1                8.0             0.886500             Yes  \n",
              "2               30.5             0.800570             Yes  \n",
              "4               56.0             0.800402             Yes  \n",
              "5               56.0             0.800125             Yes  \n",
              "...              ...                  ...             ...  \n",
              "1192             8.0             0.628333              No  \n",
              "1193             8.0             0.800402             Yes  \n",
              "1194             8.0             0.625625              No  \n",
              "1195            15.0             0.505889              No  \n",
              "1196             6.0             0.394722              No  \n",
              "\n",
              "[1161 rows x 8 columns]"
            ],
            "text/html": [
              "\n",
              "  <div id=\"df-13cff844-d772-4b4d-83ea-5ecc6a92ae4d\" class=\"colab-df-container\">\n",
              "    <div>\n",
              "<style scoped>\n",
              "    .dataframe tbody tr th:only-of-type {\n",
              "        vertical-align: middle;\n",
              "    }\n",
              "\n",
              "    .dataframe tbody tr th {\n",
              "        vertical-align: top;\n",
              "    }\n",
              "\n",
              "    .dataframe thead th {\n",
              "        text-align: right;\n",
              "    }\n",
              "</style>\n",
              "<table border=\"1\" class=\"dataframe\">\n",
              "  <thead>\n",
              "    <tr style=\"text-align: right;\">\n",
              "      <th></th>\n",
              "      <th>Date</th>\n",
              "      <th>Quarter</th>\n",
              "      <th>Department</th>\n",
              "      <th>Targeted Productivity</th>\n",
              "      <th>Overtime</th>\n",
              "      <th>No. of Workers</th>\n",
              "      <th>Actual Productivity</th>\n",
              "      <th>Target Achieved</th>\n",
              "    </tr>\n",
              "  </thead>\n",
              "  <tbody>\n",
              "    <tr>\n",
              "      <th>0</th>\n",
              "      <td>2015-01-01 00:00:00</td>\n",
              "      <td>Q1</td>\n",
              "      <td>Sewing</td>\n",
              "      <td>0.80</td>\n",
              "      <td>7080</td>\n",
              "      <td>59.0</td>\n",
              "      <td>0.940725</td>\n",
              "      <td>Yes</td>\n",
              "    </tr>\n",
              "    <tr>\n",
              "      <th>1</th>\n",
              "      <td>2015-01-01 00:00:00</td>\n",
              "      <td>Q1</td>\n",
              "      <td>Finishing</td>\n",
              "      <td>0.75</td>\n",
              "      <td>960</td>\n",
              "      <td>8.0</td>\n",
              "      <td>0.886500</td>\n",
              "      <td>Yes</td>\n",
              "    </tr>\n",
              "    <tr>\n",
              "      <th>2</th>\n",
              "      <td>2015-01-01 00:00:00</td>\n",
              "      <td>Q1</td>\n",
              "      <td>Sewing</td>\n",
              "      <td>0.80</td>\n",
              "      <td>3660</td>\n",
              "      <td>30.5</td>\n",
              "      <td>0.800570</td>\n",
              "      <td>Yes</td>\n",
              "    </tr>\n",
              "    <tr>\n",
              "      <th>4</th>\n",
              "      <td>2015-01-01 00:00:00</td>\n",
              "      <td>Q1</td>\n",
              "      <td>Sewing</td>\n",
              "      <td>0.80</td>\n",
              "      <td>1920</td>\n",
              "      <td>56.0</td>\n",
              "      <td>0.800402</td>\n",
              "      <td>Yes</td>\n",
              "    </tr>\n",
              "    <tr>\n",
              "      <th>5</th>\n",
              "      <td>2015-01-01 00:00:00</td>\n",
              "      <td>Q1</td>\n",
              "      <td>Sewing</td>\n",
              "      <td>0.80</td>\n",
              "      <td>6720</td>\n",
              "      <td>56.0</td>\n",
              "      <td>0.800125</td>\n",
              "      <td>Yes</td>\n",
              "    </tr>\n",
              "    <tr>\n",
              "      <th>...</th>\n",
              "      <td>...</td>\n",
              "      <td>...</td>\n",
              "      <td>...</td>\n",
              "      <td>...</td>\n",
              "      <td>...</td>\n",
              "      <td>...</td>\n",
              "      <td>...</td>\n",
              "      <td>...</td>\n",
              "    </tr>\n",
              "    <tr>\n",
              "      <th>1192</th>\n",
              "      <td>2015-11-03 00:00:00</td>\n",
              "      <td>Q2</td>\n",
              "      <td>Finishing</td>\n",
              "      <td>0.75</td>\n",
              "      <td>960</td>\n",
              "      <td>8.0</td>\n",
              "      <td>0.628333</td>\n",
              "      <td>No</td>\n",
              "    </tr>\n",
              "    <tr>\n",
              "      <th>1193</th>\n",
              "      <td>2015-11-03 00:00:00</td>\n",
              "      <td>Q2</td>\n",
              "      <td>Finishing</td>\n",
              "      <td>0.70</td>\n",
              "      <td>960</td>\n",
              "      <td>8.0</td>\n",
              "      <td>0.800402</td>\n",
              "      <td>Yes</td>\n",
              "    </tr>\n",
              "    <tr>\n",
              "      <th>1194</th>\n",
              "      <td>2015-11-03 00:00:00</td>\n",
              "      <td>Q2</td>\n",
              "      <td>Finishing</td>\n",
              "      <td>0.65</td>\n",
              "      <td>960</td>\n",
              "      <td>8.0</td>\n",
              "      <td>0.625625</td>\n",
              "      <td>No</td>\n",
              "    </tr>\n",
              "    <tr>\n",
              "      <th>1195</th>\n",
              "      <td>2015-11-03 00:00:00</td>\n",
              "      <td>Q2</td>\n",
              "      <td>Finishing</td>\n",
              "      <td>0.75</td>\n",
              "      <td>1800</td>\n",
              "      <td>15.0</td>\n",
              "      <td>0.505889</td>\n",
              "      <td>No</td>\n",
              "    </tr>\n",
              "    <tr>\n",
              "      <th>1196</th>\n",
              "      <td>2015-11-03 00:00:00</td>\n",
              "      <td>Q2</td>\n",
              "      <td>Finishing</td>\n",
              "      <td>0.70</td>\n",
              "      <td>720</td>\n",
              "      <td>6.0</td>\n",
              "      <td>0.394722</td>\n",
              "      <td>No</td>\n",
              "    </tr>\n",
              "  </tbody>\n",
              "</table>\n",
              "<p>1161 rows × 8 columns</p>\n",
              "</div>\n",
              "    <div class=\"colab-df-buttons\">\n",
              "\n",
              "  <div class=\"colab-df-container\">\n",
              "    <button class=\"colab-df-convert\" onclick=\"convertToInteractive('df-13cff844-d772-4b4d-83ea-5ecc6a92ae4d')\"\n",
              "            title=\"Convert this dataframe to an interactive table.\"\n",
              "            style=\"display:none;\">\n",
              "\n",
              "  <svg xmlns=\"http://www.w3.org/2000/svg\" height=\"24px\" viewBox=\"0 -960 960 960\">\n",
              "    <path d=\"M120-120v-720h720v720H120Zm60-500h600v-160H180v160Zm220 220h160v-160H400v160Zm0 220h160v-160H400v160ZM180-400h160v-160H180v160Zm440 0h160v-160H620v160ZM180-180h160v-160H180v160Zm440 0h160v-160H620v160Z\"/>\n",
              "  </svg>\n",
              "    </button>\n",
              "\n",
              "  <style>\n",
              "    .colab-df-container {\n",
              "      display:flex;\n",
              "      gap: 12px;\n",
              "    }\n",
              "\n",
              "    .colab-df-convert {\n",
              "      background-color: #E8F0FE;\n",
              "      border: none;\n",
              "      border-radius: 50%;\n",
              "      cursor: pointer;\n",
              "      display: none;\n",
              "      fill: #1967D2;\n",
              "      height: 32px;\n",
              "      padding: 0 0 0 0;\n",
              "      width: 32px;\n",
              "    }\n",
              "\n",
              "    .colab-df-convert:hover {\n",
              "      background-color: #E2EBFA;\n",
              "      box-shadow: 0px 1px 2px rgba(60, 64, 67, 0.3), 0px 1px 3px 1px rgba(60, 64, 67, 0.15);\n",
              "      fill: #174EA6;\n",
              "    }\n",
              "\n",
              "    .colab-df-buttons div {\n",
              "      margin-bottom: 4px;\n",
              "    }\n",
              "\n",
              "    [theme=dark] .colab-df-convert {\n",
              "      background-color: #3B4455;\n",
              "      fill: #D2E3FC;\n",
              "    }\n",
              "\n",
              "    [theme=dark] .colab-df-convert:hover {\n",
              "      background-color: #434B5C;\n",
              "      box-shadow: 0px 1px 3px 1px rgba(0, 0, 0, 0.15);\n",
              "      filter: drop-shadow(0px 1px 2px rgba(0, 0, 0, 0.3));\n",
              "      fill: #FFFFFF;\n",
              "    }\n",
              "  </style>\n",
              "\n",
              "    <script>\n",
              "      const buttonEl =\n",
              "        document.querySelector('#df-13cff844-d772-4b4d-83ea-5ecc6a92ae4d button.colab-df-convert');\n",
              "      buttonEl.style.display =\n",
              "        google.colab.kernel.accessAllowed ? 'block' : 'none';\n",
              "\n",
              "      async function convertToInteractive(key) {\n",
              "        const element = document.querySelector('#df-13cff844-d772-4b4d-83ea-5ecc6a92ae4d');\n",
              "        const dataTable =\n",
              "          await google.colab.kernel.invokeFunction('convertToInteractive',\n",
              "                                                    [key], {});\n",
              "        if (!dataTable) return;\n",
              "\n",
              "        const docLinkHtml = 'Like what you see? Visit the ' +\n",
              "          '<a target=\"_blank\" href=https://colab.research.google.com/notebooks/data_table.ipynb>data table notebook</a>'\n",
              "          + ' to learn more about interactive tables.';\n",
              "        element.innerHTML = '';\n",
              "        dataTable['output_type'] = 'display_data';\n",
              "        await google.colab.output.renderOutput(dataTable, element);\n",
              "        const docLink = document.createElement('div');\n",
              "        docLink.innerHTML = docLinkHtml;\n",
              "        element.appendChild(docLink);\n",
              "      }\n",
              "    </script>\n",
              "  </div>\n",
              "\n",
              "\n",
              "<div id=\"df-3c3e6e1b-7df7-40cf-a94a-2aabf48fd304\">\n",
              "  <button class=\"colab-df-quickchart\" onclick=\"quickchart('df-3c3e6e1b-7df7-40cf-a94a-2aabf48fd304')\"\n",
              "            title=\"Suggest charts\"\n",
              "            style=\"display:none;\">\n",
              "\n",
              "<svg xmlns=\"http://www.w3.org/2000/svg\" height=\"24px\"viewBox=\"0 0 24 24\"\n",
              "     width=\"24px\">\n",
              "    <g>\n",
              "        <path d=\"M19 3H5c-1.1 0-2 .9-2 2v14c0 1.1.9 2 2 2h14c1.1 0 2-.9 2-2V5c0-1.1-.9-2-2-2zM9 17H7v-7h2v7zm4 0h-2V7h2v10zm4 0h-2v-4h2v4z\"/>\n",
              "    </g>\n",
              "</svg>\n",
              "  </button>\n",
              "\n",
              "<style>\n",
              "  .colab-df-quickchart {\n",
              "      --bg-color: #E8F0FE;\n",
              "      --fill-color: #1967D2;\n",
              "      --hover-bg-color: #E2EBFA;\n",
              "      --hover-fill-color: #174EA6;\n",
              "      --disabled-fill-color: #AAA;\n",
              "      --disabled-bg-color: #DDD;\n",
              "  }\n",
              "\n",
              "  [theme=dark] .colab-df-quickchart {\n",
              "      --bg-color: #3B4455;\n",
              "      --fill-color: #D2E3FC;\n",
              "      --hover-bg-color: #434B5C;\n",
              "      --hover-fill-color: #FFFFFF;\n",
              "      --disabled-bg-color: #3B4455;\n",
              "      --disabled-fill-color: #666;\n",
              "  }\n",
              "\n",
              "  .colab-df-quickchart {\n",
              "    background-color: var(--bg-color);\n",
              "    border: none;\n",
              "    border-radius: 50%;\n",
              "    cursor: pointer;\n",
              "    display: none;\n",
              "    fill: var(--fill-color);\n",
              "    height: 32px;\n",
              "    padding: 0;\n",
              "    width: 32px;\n",
              "  }\n",
              "\n",
              "  .colab-df-quickchart:hover {\n",
              "    background-color: var(--hover-bg-color);\n",
              "    box-shadow: 0 1px 2px rgba(60, 64, 67, 0.3), 0 1px 3px 1px rgba(60, 64, 67, 0.15);\n",
              "    fill: var(--button-hover-fill-color);\n",
              "  }\n",
              "\n",
              "  .colab-df-quickchart-complete:disabled,\n",
              "  .colab-df-quickchart-complete:disabled:hover {\n",
              "    background-color: var(--disabled-bg-color);\n",
              "    fill: var(--disabled-fill-color);\n",
              "    box-shadow: none;\n",
              "  }\n",
              "\n",
              "  .colab-df-spinner {\n",
              "    border: 2px solid var(--fill-color);\n",
              "    border-color: transparent;\n",
              "    border-bottom-color: var(--fill-color);\n",
              "    animation:\n",
              "      spin 1s steps(1) infinite;\n",
              "  }\n",
              "\n",
              "  @keyframes spin {\n",
              "    0% {\n",
              "      border-color: transparent;\n",
              "      border-bottom-color: var(--fill-color);\n",
              "      border-left-color: var(--fill-color);\n",
              "    }\n",
              "    20% {\n",
              "      border-color: transparent;\n",
              "      border-left-color: var(--fill-color);\n",
              "      border-top-color: var(--fill-color);\n",
              "    }\n",
              "    30% {\n",
              "      border-color: transparent;\n",
              "      border-left-color: var(--fill-color);\n",
              "      border-top-color: var(--fill-color);\n",
              "      border-right-color: var(--fill-color);\n",
              "    }\n",
              "    40% {\n",
              "      border-color: transparent;\n",
              "      border-right-color: var(--fill-color);\n",
              "      border-top-color: var(--fill-color);\n",
              "    }\n",
              "    60% {\n",
              "      border-color: transparent;\n",
              "      border-right-color: var(--fill-color);\n",
              "    }\n",
              "    80% {\n",
              "      border-color: transparent;\n",
              "      border-right-color: var(--fill-color);\n",
              "      border-bottom-color: var(--fill-color);\n",
              "    }\n",
              "    90% {\n",
              "      border-color: transparent;\n",
              "      border-bottom-color: var(--fill-color);\n",
              "    }\n",
              "  }\n",
              "</style>\n",
              "\n",
              "  <script>\n",
              "    async function quickchart(key) {\n",
              "      const quickchartButtonEl =\n",
              "        document.querySelector('#' + key + ' button');\n",
              "      quickchartButtonEl.disabled = true;  // To prevent multiple clicks.\n",
              "      quickchartButtonEl.classList.add('colab-df-spinner');\n",
              "      try {\n",
              "        const charts = await google.colab.kernel.invokeFunction(\n",
              "            'suggestCharts', [key], {});\n",
              "      } catch (error) {\n",
              "        console.error('Error during call to suggestCharts:', error);\n",
              "      }\n",
              "      quickchartButtonEl.classList.remove('colab-df-spinner');\n",
              "      quickchartButtonEl.classList.add('colab-df-quickchart-complete');\n",
              "    }\n",
              "    (() => {\n",
              "      let quickchartButtonEl =\n",
              "        document.querySelector('#df-3c3e6e1b-7df7-40cf-a94a-2aabf48fd304 button');\n",
              "      quickchartButtonEl.style.display =\n",
              "        google.colab.kernel.accessAllowed ? 'block' : 'none';\n",
              "    })();\n",
              "  </script>\n",
              "</div>\n",
              "\n",
              "  <div id=\"id_f5c491ec-2707-418d-97a4-66be5f157569\">\n",
              "    <style>\n",
              "      .colab-df-generate {\n",
              "        background-color: #E8F0FE;\n",
              "        border: none;\n",
              "        border-radius: 50%;\n",
              "        cursor: pointer;\n",
              "        display: none;\n",
              "        fill: #1967D2;\n",
              "        height: 32px;\n",
              "        padding: 0 0 0 0;\n",
              "        width: 32px;\n",
              "      }\n",
              "\n",
              "      .colab-df-generate:hover {\n",
              "        background-color: #E2EBFA;\n",
              "        box-shadow: 0px 1px 2px rgba(60, 64, 67, 0.3), 0px 1px 3px 1px rgba(60, 64, 67, 0.15);\n",
              "        fill: #174EA6;\n",
              "      }\n",
              "\n",
              "      [theme=dark] .colab-df-generate {\n",
              "        background-color: #3B4455;\n",
              "        fill: #D2E3FC;\n",
              "      }\n",
              "\n",
              "      [theme=dark] .colab-df-generate:hover {\n",
              "        background-color: #434B5C;\n",
              "        box-shadow: 0px 1px 3px 1px rgba(0, 0, 0, 0.15);\n",
              "        filter: drop-shadow(0px 1px 2px rgba(0, 0, 0, 0.3));\n",
              "        fill: #FFFFFF;\n",
              "      }\n",
              "    </style>\n",
              "    <button class=\"colab-df-generate\" onclick=\"generateWithVariable('funnel')\"\n",
              "            title=\"Generate code using this dataframe.\"\n",
              "            style=\"display:none;\">\n",
              "\n",
              "  <svg xmlns=\"http://www.w3.org/2000/svg\" height=\"24px\"viewBox=\"0 0 24 24\"\n",
              "       width=\"24px\">\n",
              "    <path d=\"M7,19H8.4L18.45,9,17,7.55,7,17.6ZM5,21V16.75L18.45,3.32a2,2,0,0,1,2.83,0l1.4,1.43a1.91,1.91,0,0,1,.58,1.4,1.91,1.91,0,0,1-.58,1.4L9.25,21ZM18.45,9,17,7.55Zm-12,3A5.31,5.31,0,0,0,4.9,8.1,5.31,5.31,0,0,0,1,6.5,5.31,5.31,0,0,0,4.9,4.9,5.31,5.31,0,0,0,6.5,1,5.31,5.31,0,0,0,8.1,4.9,5.31,5.31,0,0,0,12,6.5,5.46,5.46,0,0,0,6.5,12Z\"/>\n",
              "  </svg>\n",
              "    </button>\n",
              "    <script>\n",
              "      (() => {\n",
              "      const buttonEl =\n",
              "        document.querySelector('#id_f5c491ec-2707-418d-97a4-66be5f157569 button.colab-df-generate');\n",
              "      buttonEl.style.display =\n",
              "        google.colab.kernel.accessAllowed ? 'block' : 'none';\n",
              "\n",
              "      buttonEl.onclick = () => {\n",
              "        google.colab.notebook.generateWithVariable('funnel');\n",
              "      }\n",
              "      })();\n",
              "    </script>\n",
              "  </div>\n",
              "\n",
              "    </div>\n",
              "  </div>\n"
            ],
            "application/vnd.google.colaboratory.intrinsic+json": {
              "type": "dataframe",
              "variable_name": "funnel",
              "summary": "{\n  \"name\": \"funnel\",\n  \"rows\": 1161,\n  \"fields\": [\n    {\n      \"column\": \"Date\",\n      \"properties\": {\n        \"dtype\": \"date\",\n        \"min\": \"2015-01-01 00:00:00\",\n        \"max\": \"2015-12-02 00:00:00\",\n        \"num_unique_values\": 59,\n        \"samples\": [\n          \"2015-01-01 00:00:00\",\n          \"2015-07-01 00:00:00\",\n          \"2015-10-02 00:00:00\"\n        ],\n        \"semantic_type\": \"\",\n        \"description\": \"\"\n      }\n    },\n    {\n      \"column\": \"Quarter\",\n      \"properties\": {\n        \"dtype\": \"category\",\n        \"num_unique_values\": 5,\n        \"samples\": [\n          \"Q2\",\n          \"Q5\",\n          \"Q3\"\n        ],\n        \"semantic_type\": \"\",\n        \"description\": \"\"\n      }\n    },\n    {\n      \"column\": \"Department\",\n      \"properties\": {\n        \"dtype\": \"category\",\n        \"num_unique_values\": 2,\n        \"samples\": [\n          \"Finishing\",\n          \"Sewing\"\n        ],\n        \"semantic_type\": \"\",\n        \"description\": \"\"\n      }\n    },\n    {\n      \"column\": \"Targeted Productivity\",\n      \"properties\": {\n        \"dtype\": \"number\",\n        \"std\": 0.098134720596219,\n        \"min\": 0.07,\n        \"max\": 0.8,\n        \"num_unique_values\": 9,\n        \"samples\": [\n          0.07,\n          0.75\n        ],\n        \"semantic_type\": \"\",\n        \"description\": \"\"\n      }\n    },\n    {\n      \"column\": \"Overtime\",\n      \"properties\": {\n        \"dtype\": \"number\",\n        \"std\": 3305,\n        \"min\": 0,\n        \"max\": 25920,\n        \"num_unique_values\": 143,\n        \"samples\": [\n          5820,\n          6780\n        ],\n        \"semantic_type\": \"\",\n        \"description\": \"\"\n      }\n    },\n    {\n      \"column\": \"No. of Workers\",\n      \"properties\": {\n        \"dtype\": \"number\",\n        \"std\": 22.199624614761486,\n        \"min\": 2.0,\n        \"max\": 89.0,\n        \"num_unique_values\": 61,\n        \"samples\": [\n          59.0,\n          55.0\n        ],\n        \"semantic_type\": \"\",\n        \"description\": \"\"\n      }\n    },\n    {\n      \"column\": \"Actual Productivity\",\n      \"properties\": {\n        \"dtype\": \"number\",\n        \"std\": 0.17342731926024038,\n        \"min\": 0.233705476,\n        \"max\": 1.1204375,\n        \"num_unique_values\": 866,\n        \"samples\": [\n          0.800842424,\n          0.840888889\n        ],\n        \"semantic_type\": \"\",\n        \"description\": \"\"\n      }\n    },\n    {\n      \"column\": \"Target Achieved\",\n      \"properties\": {\n        \"dtype\": \"category\",\n        \"num_unique_values\": 2,\n        \"samples\": [\n          \"No\",\n          \"Yes\"\n        ],\n        \"semantic_type\": \"\",\n        \"description\": \"\"\n      }\n    }\n  ]\n}"
            }
          },
          "metadata": {},
          "execution_count": 15
        }
      ]
    },
    {
      "cell_type": "markdown",
      "source": [
        "# Solution for Q2a"
      ],
      "metadata": {
        "id": "_UEPFkofNQ8_"
      }
    },
    {
      "cell_type": "code",
      "source": [
        "funnel[\"Target Achieved\"].unique()"
      ],
      "metadata": {
        "id": "dG5np4PWcM9P",
        "colab": {
          "base_uri": "https://localhost:8080/"
        },
        "outputId": "eaf8aef0-05bc-41f4-9da7-9a52a36e7796"
      },
      "execution_count": 16,
      "outputs": [
        {
          "output_type": "execute_result",
          "data": {
            "text/plain": [
              "array(['Yes', 'No'], dtype=object)"
            ]
          },
          "metadata": {},
          "execution_count": 16
        }
      ]
    },
    {
      "cell_type": "code",
      "source": [
        "import matplotlib.pyplot as plt\n",
        "import seaborn as sns"
      ],
      "metadata": {
        "id": "Aj7fJ36qRXmS"
      },
      "execution_count": 17,
      "outputs": []
    },
    {
      "cell_type": "code",
      "source": [
        "funnel[\"No. of Workers\"].dtype"
      ],
      "metadata": {
        "id": "4UqHkU2jaLRD",
        "colab": {
          "base_uri": "https://localhost:8080/"
        },
        "outputId": "5536465e-64c5-4daa-b159-7322b6aa557e"
      },
      "execution_count": 18,
      "outputs": [
        {
          "output_type": "execute_result",
          "data": {
            "text/plain": [
              "dtype('float64')"
            ]
          },
          "metadata": {},
          "execution_count": 18
        }
      ]
    },
    {
      "source": [
        "funnel[\"No. of Workers\"].groupby(funnel[\"Quarter\"]).sum()"
      ],
      "cell_type": "code",
      "metadata": {
        "id": "KKmnS8LMKibt",
        "colab": {
          "base_uri": "https://localhost:8080/"
        },
        "outputId": "1de948ca-1296-46d7-9404-e4756397ca28"
      },
      "execution_count": 19,
      "outputs": [
        {
          "output_type": "execute_result",
          "data": {
            "text/plain": [
              "Quarter\n",
              "Q1    11938.5\n",
              "Q2    10744.5\n",
              "Q3     7449.0\n",
              "Q4     8331.5\n",
              "Q5     1373.0\n",
              "Name: No. of Workers, dtype: float64"
            ]
          },
          "metadata": {},
          "execution_count": 19
        }
      ]
    },
    {
      "cell_type": "markdown",
      "source": [
        "\n",
        "**The below graph represents the target achieved by workers over quarterly phases.The mean number of workers who were able to achieve the targets were slightly less than 38(estimation) but the one who were notb able to achive the target are nearly equal to 27.This graph helps us to understand that the no.of workers(who were able to achieve the target in quarterly phases)..this will surely help us to predict that what will be the best time (to hire workers) for the work to be completed with yes**"
      ],
      "metadata": {
        "id": "TLfoeQBWSKGw"
      }
    },
    {
      "source": [
        "sns.barplot(data=funnel, x=\"Quarter\", y=\"No. of Workers\", hue=\"Target Achieved\",estimator=np.mean,errorbar=(\"ci\",0)).set(title=\"Workers achieved target over quaterly phase\")"
      ],
      "cell_type": "code",
      "metadata": {
        "id": "PRf_rgv9axbS",
        "colab": {
          "base_uri": "https://localhost:8080/",
          "height": 489
        },
        "outputId": "51d0e33a-d059-410b-bf9c-f6535b45eae8"
      },
      "execution_count": 20,
      "outputs": [
        {
          "output_type": "execute_result",
          "data": {
            "text/plain": [
              "[Text(0.5, 1.0, 'Workers achieved target over quaterly phase')]"
            ]
          },
          "metadata": {},
          "execution_count": 20
        },
        {
          "output_type": "display_data",
          "data": {
            "text/plain": [
              "<Figure size 640x480 with 1 Axes>"
            ],
            "image/png": "[encoded data removed]"
          },
          "metadata": {}
        }
      ]
    },
    {
      "cell_type": "markdown",
      "source": [
        "# Solution for Q2b"
      ],
      "metadata": {
        "id": "LK9mhOv7TK2Q"
      }
    },
    {
      "cell_type": "code",
      "source": [
        "import statsmodels.api as sm"
      ],
      "metadata": {
        "id": "vZeXaRjCl601"
      },
      "execution_count": 21,
      "outputs": []
    },
    {
      "cell_type": "code",
      "source": [
        "funnel"
      ],
      "metadata": {
        "id": "AbVVmvo-nfRF",
        "colab": {
          "base_uri": "https://localhost:8080/",
          "height": 423
        },
        "outputId": "c3a6a276-c3f1-4f49-d19b-e98fef15eff6"
      },
      "execution_count": 22,
      "outputs": [
        {
          "output_type": "execute_result",
          "data": {
            "text/plain": [
              "                     Date Quarter Department  Targeted Productivity  Overtime  \\\n",
              "0     2015-01-01 00:00:00      Q1     Sewing                   0.80      7080   \n",
              "1     2015-01-01 00:00:00      Q1  Finishing                   0.75       960   \n",
              "2     2015-01-01 00:00:00      Q1     Sewing                   0.80      3660   \n",
              "4     2015-01-01 00:00:00      Q1     Sewing                   0.80      1920   \n",
              "5     2015-01-01 00:00:00      Q1     Sewing                   0.80      6720   \n",
              "...                   ...     ...        ...                    ...       ...   \n",
              "1192  2015-11-03 00:00:00      Q2  Finishing                   0.75       960   \n",
              "1193  2015-11-03 00:00:00      Q2  Finishing                   0.70       960   \n",
              "1194  2015-11-03 00:00:00      Q2  Finishing                   0.65       960   \n",
              "1195  2015-11-03 00:00:00      Q2  Finishing                   0.75      1800   \n",
              "1196  2015-11-03 00:00:00      Q2  Finishing                   0.70       720   \n",
              "\n",
              "      No. of Workers  Actual Productivity Target Achieved  \n",
              "0               59.0             0.940725             Yes  \n",
              "1                8.0             0.886500             Yes  \n",
              "2               30.5             0.800570             Yes  \n",
              "4               56.0             0.800402             Yes  \n",
              "5               56.0             0.800125             Yes  \n",
              "...              ...                  ...             ...  \n",
              "1192             8.0             0.628333              No  \n",
              "1193             8.0             0.800402             Yes  \n",
              "1194             8.0             0.625625              No  \n",
              "1195            15.0             0.505889              No  \n",
              "1196             6.0             0.394722              No  \n",
              "\n",
              "[1161 rows x 8 columns]"
            ],
            "text/html": [
              "\n",
              "  <div id=\"df-8e21cc8a-2db5-4262-bee3-c3937758efbe\" class=\"colab-df-container\">\n",
              "    <div>\n",
              "<style scoped>\n",
              "    .dataframe tbody tr th:only-of-type {\n",
              "        vertical-align: middle;\n",
              "    }\n",
              "\n",
              "    .dataframe tbody tr th {\n",
              "        vertical-align: top;\n",
              "    }\n",
              "\n",
              "    .dataframe thead th {\n",
              "        text-align: right;\n",
              "    }\n",
              "</style>\n",
              "<table border=\"1\" class=\"dataframe\">\n",
              "  <thead>\n",
              "    <tr style=\"text-align: right;\">\n",
              "      <th></th>\n",
              "      <th>Date</th>\n",
              "      <th>Quarter</th>\n",
              "      <th>Department</th>\n",
              "      <th>Targeted Productivity</th>\n",
              "      <th>Overtime</th>\n",
              "      <th>No. of Workers</th>\n",
              "      <th>Actual Productivity</th>\n",
              "      <th>Target Achieved</th>\n",
              "    </tr>\n",
              "  </thead>\n",
              "  <tbody>\n",
              "    <tr>\n",
              "      <th>0</th>\n",
              "      <td>2015-01-01 00:00:00</td>\n",
              "      <td>Q1</td>\n",
              "      <td>Sewing</td>\n",
              "      <td>0.80</td>\n",
              "      <td>7080</td>\n",
              "      <td>59.0</td>\n",
              "      <td>0.940725</td>\n",
              "      <td>Yes</td>\n",
              "    </tr>\n",
              "    <tr>\n",
              "      <th>1</th>\n",
              "      <td>2015-01-01 00:00:00</td>\n",
              "      <td>Q1</td>\n",
              "      <td>Finishing</td>\n",
              "      <td>0.75</td>\n",
              "      <td>960</td>\n",
              "      <td>8.0</td>\n",
              "      <td>0.886500</td>\n",
              "      <td>Yes</td>\n",
              "    </tr>\n",
              "    <tr>\n",
              "      <th>2</th>\n",
              "      <td>2015-01-01 00:00:00</td>\n",
              "      <td>Q1</td>\n",
              "      <td>Sewing</td>\n",
              "      <td>0.80</td>\n",
              "      <td>3660</td>\n",
              "      <td>30.5</td>\n",
              "      <td>0.800570</td>\n",
              "      <td>Yes</td>\n",
              "    </tr>\n",
              "    <tr>\n",
              "      <th>4</th>\n",
              "      <td>2015-01-01 00:00:00</td>\n",
              "      <td>Q1</td>\n",
              "      <td>Sewing</td>\n",
              "      <td>0.80</td>\n",
              "      <td>1920</td>\n",
              "      <td>56.0</td>\n",
              "      <td>0.800402</td>\n",
              "      <td>Yes</td>\n",
              "    </tr>\n",
              "    <tr>\n",
              "      <th>5</th>\n",
              "      <td>2015-01-01 00:00:00</td>\n",
              "      <td>Q1</td>\n",
              "      <td>Sewing</td>\n",
              "      <td>0.80</td>\n",
              "      <td>6720</td>\n",
              "      <td>56.0</td>\n",
              "      <td>0.800125</td>\n",
              "      <td>Yes</td>\n",
              "    </tr>\n",
              "    <tr>\n",
              "      <th>...</th>\n",
              "      <td>...</td>\n",
              "      <td>...</td>\n",
              "      <td>...</td>\n",
              "      <td>...</td>\n",
              "      <td>...</td>\n",
              "      <td>...</td>\n",
              "      <td>...</td>\n",
              "      <td>...</td>\n",
              "    </tr>\n",
              "    <tr>\n",
              "      <th>1192</th>\n",
              "      <td>2015-11-03 00:00:00</td>\n",
              "      <td>Q2</td>\n",
              "      <td>Finishing</td>\n",
              "      <td>0.75</td>\n",
              "      <td>960</td>\n",
              "      <td>8.0</td>\n",
              "      <td>0.628333</td>\n",
              "      <td>No</td>\n",
              "    </tr>\n",
              "    <tr>\n",
              "      <th>1193</th>\n",
              "      <td>2015-11-03 00:00:00</td>\n",
              "      <td>Q2</td>\n",
              "      <td>Finishing</td>\n",
              "      <td>0.70</td>\n",
              "      <td>960</td>\n",
              "      <td>8.0</td>\n",
              "      <td>0.800402</td>\n",
              "      <td>Yes</td>\n",
              "    </tr>\n",
              "    <tr>\n",
              "      <th>1194</th>\n",
              "      <td>2015-11-03 00:00:00</td>\n",
              "      <td>Q2</td>\n",
              "      <td>Finishing</td>\n",
              "      <td>0.65</td>\n",
              "      <td>960</td>\n",
              "      <td>8.0</td>\n",
              "      <td>0.625625</td>\n",
              "      <td>No</td>\n",
              "    </tr>\n",
              "    <tr>\n",
              "      <th>1195</th>\n",
              "      <td>2015-11-03 00:00:00</td>\n",
              "      <td>Q2</td>\n",
              "      <td>Finishing</td>\n",
              "      <td>0.75</td>\n",
              "      <td>1800</td>\n",
              "      <td>15.0</td>\n",
              "      <td>0.505889</td>\n",
              "      <td>No</td>\n",
              "    </tr>\n",
              "    <tr>\n",
              "      <th>1196</th>\n",
              "      <td>2015-11-03 00:00:00</td>\n",
              "      <td>Q2</td>\n",
              "      <td>Finishing</td>\n",
              "      <td>0.70</td>\n",
              "      <td>720</td>\n",
              "      <td>6.0</td>\n",
              "      <td>0.394722</td>\n",
              "      <td>No</td>\n",
              "    </tr>\n",
              "  </tbody>\n",
              "</table>\n",
              "<p>1161 rows × 8 columns</p>\n",
              "</div>\n",
              "    <div class=\"colab-df-buttons\">\n",
              "\n",
              "  <div class=\"colab-df-container\">\n",
              "    <button class=\"colab-df-convert\" onclick=\"convertToInteractive('df-8e21cc8a-2db5-4262-bee3-c3937758efbe')\"\n",
              "            title=\"Convert this dataframe to an interactive table.\"\n",
              "            style=\"display:none;\">\n",
              "\n",
              "  <svg xmlns=\"http://www.w3.org/2000/svg\" height=\"24px\" viewBox=\"0 -960 960 960\">\n",
              "    <path d=\"M120-120v-720h720v720H120Zm60-500h600v-160H180v160Zm220 220h160v-160H400v160Zm0 220h160v-160H400v160ZM180-400h160v-160H180v160Zm440 0h160v-160H620v160ZM180-180h160v-160H180v160Zm440 0h160v-160H620v160Z\"/>\n",
              "  </svg>\n",
              "    </button>\n",
              "\n",
              "  <style>\n",
              "    .colab-df-container {\n",
              "      display:flex;\n",
              "      gap: 12px;\n",
              "    }\n",
              "\n",
              "    .colab-df-convert {\n",
              "      background-color: #E8F0FE;\n",
              "      border: none;\n",
              "      border-radius: 50%;\n",
              "      cursor: pointer;\n",
              "      display: none;\n",
              "      fill: #1967D2;\n",
              "      height: 32px;\n",
              "      padding: 0 0 0 0;\n",
              "      width: 32px;\n",
              "    }\n",
              "\n",
              "    .colab-df-convert:hover {\n",
              "      background-color: #E2EBFA;\n",
              "      box-shadow: 0px 1px 2px rgba(60, 64, 67, 0.3), 0px 1px 3px 1px rgba(60, 64, 67, 0.15);\n",
              "      fill: #174EA6;\n",
              "    }\n",
              "\n",
              "    .colab-df-buttons div {\n",
              "      margin-bottom: 4px;\n",
              "    }\n",
              "\n",
              "    [theme=dark] .colab-df-convert {\n",
              "      background-color: #3B4455;\n",
              "      fill: #D2E3FC;\n",
              "    }\n",
              "\n",
              "    [theme=dark] .colab-df-convert:hover {\n",
              "      background-color: #434B5C;\n",
              "      box-shadow: 0px 1px 3px 1px rgba(0, 0, 0, 0.15);\n",
              "      filter: drop-shadow(0px 1px 2px rgba(0, 0, 0, 0.3));\n",
              "      fill: #FFFFFF;\n",
              "    }\n",
              "  </style>\n",
              "\n",
              "    <script>\n",
              "      const buttonEl =\n",
              "        document.querySelector('#df-8e21cc8a-2db5-4262-bee3-c3937758efbe button.colab-df-convert');\n",
              "      buttonEl.style.display =\n",
              "        google.colab.kernel.accessAllowed ? 'block' : 'none';\n",
              "\n",
              "      async function convertToInteractive(key) {\n",
              "        const element = document.querySelector('#df-8e21cc8a-2db5-4262-bee3-c3937758efbe');\n",
              "        const dataTable =\n",
              "          await google.colab.kernel.invokeFunction('convertToInteractive',\n",
              "                                                    [key], {});\n",
              "        if (!dataTable) return;\n",
              "\n",
              "        const docLinkHtml = 'Like what you see? Visit the ' +\n",
              "          '<a target=\"_blank\" href=https://colab.research.google.com/notebooks/data_table.ipynb>data table notebook</a>'\n",
              "          + ' to learn more about interactive tables.';\n",
              "        element.innerHTML = '';\n",
              "        dataTable['output_type'] = 'display_data';\n",
              "        await google.colab.output.renderOutput(dataTable, element);\n",
              "        const docLink = document.createElement('div');\n",
              "        docLink.innerHTML = docLinkHtml;\n",
              "        element.appendChild(docLink);\n",
              "      }\n",
              "    </script>\n",
              "  </div>\n",
              "\n",
              "\n",
              "<div id=\"df-ebfc7c6c-bda7-4a85-8931-168508967325\">\n",
              "  <button class=\"colab-df-quickchart\" onclick=\"quickchart('df-ebfc7c6c-bda7-4a85-8931-168508967325')\"\n",
              "            title=\"Suggest charts\"\n",
              "            style=\"display:none;\">\n",
              "\n",
              "<svg xmlns=\"http://www.w3.org/2000/svg\" height=\"24px\"viewBox=\"0 0 24 24\"\n",
              "     width=\"24px\">\n",
              "    <g>\n",
              "        <path d=\"M19 3H5c-1.1 0-2 .9-2 2v14c0 1.1.9 2 2 2h14c1.1 0 2-.9 2-2V5c0-1.1-.9-2-2-2zM9 17H7v-7h2v7zm4 0h-2V7h2v10zm4 0h-2v-4h2v4z\"/>\n",
              "    </g>\n",
              "</svg>\n",
              "  </button>\n",
              "\n",
              "<style>\n",
              "  .colab-df-quickchart {\n",
              "      --bg-color: #E8F0FE;\n",
              "      --fill-color: #1967D2;\n",
              "      --hover-bg-color: #E2EBFA;\n",
              "      --hover-fill-color: #174EA6;\n",
              "      --disabled-fill-color: #AAA;\n",
              "      --disabled-bg-color: #DDD;\n",
              "  }\n",
              "\n",
              "  [theme=dark] .colab-df-quickchart {\n",
              "      --bg-color: #3B4455;\n",
              "      --fill-color: #D2E3FC;\n",
              "      --hover-bg-color: #434B5C;\n",
              "      --hover-fill-color: #FFFFFF;\n",
              "      --disabled-bg-color: #3B4455;\n",
              "      --disabled-fill-color: #666;\n",
              "  }\n",
              "\n",
              "  .colab-df-quickchart {\n",
              "    background-color: var(--bg-color);\n",
              "    border: none;\n",
              "    border-radius: 50%;\n",
              "    cursor: pointer;\n",
              "    display: none;\n",
              "    fill: var(--fill-color);\n",
              "    height: 32px;\n",
              "    padding: 0;\n",
              "    width: 32px;\n",
              "  }\n",
              "\n",
              "  .colab-df-quickchart:hover {\n",
              "    background-color: var(--hover-bg-color);\n",
              "    box-shadow: 0 1px 2px rgba(60, 64, 67, 0.3), 0 1px 3px 1px rgba(60, 64, 67, 0.15);\n",
              "    fill: var(--button-hover-fill-color);\n",
              "  }\n",
              "\n",
              "  .colab-df-quickchart-complete:disabled,\n",
              "  .colab-df-quickchart-complete:disabled:hover {\n",
              "    background-color: var(--disabled-bg-color);\n",
              "    fill: var(--disabled-fill-color);\n",
              "    box-shadow: none;\n",
              "  }\n",
              "\n",
              "  .colab-df-spinner {\n",
              "    border: 2px solid var(--fill-color);\n",
              "    border-color: transparent;\n",
              "    border-bottom-color: var(--fill-color);\n",
              "    animation:\n",
              "      spin 1s steps(1) infinite;\n",
              "  }\n",
              "\n",
              "  @keyframes spin {\n",
              "    0% {\n",
              "      border-color: transparent;\n",
              "      border-bottom-color: var(--fill-color);\n",
              "      border-left-color: var(--fill-color);\n",
              "    }\n",
              "    20% {\n",
              "      border-color: transparent;\n",
              "      border-left-color: var(--fill-color);\n",
              "      border-top-color: var(--fill-color);\n",
              "    }\n",
              "    30% {\n",
              "      border-color: transparent;\n",
              "      border-left-color: var(--fill-color);\n",
              "      border-top-color: var(--fill-color);\n",
              "      border-right-color: var(--fill-color);\n",
              "    }\n",
              "    40% {\n",
              "      border-color: transparent;\n",
              "      border-right-color: var(--fill-color);\n",
              "      border-top-color: var(--fill-color);\n",
              "    }\n",
              "    60% {\n",
              "      border-color: transparent;\n",
              "      border-right-color: var(--fill-color);\n",
              "    }\n",
              "    80% {\n",
              "      border-color: transparent;\n",
              "      border-right-color: var(--fill-color);\n",
              "      border-bottom-color: var(--fill-color);\n",
              "    }\n",
              "    90% {\n",
              "      border-color: transparent;\n",
              "      border-bottom-color: var(--fill-color);\n",
              "    }\n",
              "  }\n",
              "</style>\n",
              "\n",
              "  <script>\n",
              "    async function quickchart(key) {\n",
              "      const quickchartButtonEl =\n",
              "        document.querySelector('#' + key + ' button');\n",
              "      quickchartButtonEl.disabled = true;  // To prevent multiple clicks.\n",
              "      quickchartButtonEl.classList.add('colab-df-spinner');\n",
              "      try {\n",
              "        const charts = await google.colab.kernel.invokeFunction(\n",
              "            'suggestCharts', [key], {});\n",
              "      } catch (error) {\n",
              "        console.error('Error during call to suggestCharts:', error);\n",
              "      }\n",
              "      quickchartButtonEl.classList.remove('colab-df-spinner');\n",
              "      quickchartButtonEl.classList.add('colab-df-quickchart-complete');\n",
              "    }\n",
              "    (() => {\n",
              "      let quickchartButtonEl =\n",
              "        document.querySelector('#df-ebfc7c6c-bda7-4a85-8931-168508967325 button');\n",
              "      quickchartButtonEl.style.display =\n",
              "        google.colab.kernel.accessAllowed ? 'block' : 'none';\n",
              "    })();\n",
              "  </script>\n",
              "</div>\n",
              "\n",
              "  <div id=\"id_d39e5ef8-bc8f-4b32-98a3-7ad45d964814\">\n",
              "    <style>\n",
              "      .colab-df-generate {\n",
              "        background-color: #E8F0FE;\n",
              "        border: none;\n",
              "        border-radius: 50%;\n",
              "        cursor: pointer;\n",
              "        display: none;\n",
              "        fill: #1967D2;\n",
              "        height: 32px;\n",
              "        padding: 0 0 0 0;\n",
              "        width: 32px;\n",
              "      }\n",
              "\n",
              "      .colab-df-generate:hover {\n",
              "        background-color: #E2EBFA;\n",
              "        box-shadow: 0px 1px 2px rgba(60, 64, 67, 0.3), 0px 1px 3px 1px rgba(60, 64, 67, 0.15);\n",
              "        fill: #174EA6;\n",
              "      }\n",
              "\n",
              "      [theme=dark] .colab-df-generate {\n",
              "        background-color: #3B4455;\n",
              "        fill: #D2E3FC;\n",
              "      }\n",
              "\n",
              "      [theme=dark] .colab-df-generate:hover {\n",
              "        background-color: #434B5C;\n",
              "        box-shadow: 0px 1px 3px 1px rgba(0, 0, 0, 0.15);\n",
              "        filter: drop-shadow(0px 1px 2px rgba(0, 0, 0, 0.3));\n",
              "        fill: #FFFFFF;\n",
              "      }\n",
              "    </style>\n",
              "    <button class=\"colab-df-generate\" onclick=\"generateWithVariable('funnel')\"\n",
              "            title=\"Generate code using this dataframe.\"\n",
              "            style=\"display:none;\">\n",
              "\n",
              "  <svg xmlns=\"http://www.w3.org/2000/svg\" height=\"24px\"viewBox=\"0 0 24 24\"\n",
              "       width=\"24px\">\n",
              "    <path d=\"M7,19H8.4L18.45,9,17,7.55,7,17.6ZM5,21V16.75L18.45,3.32a2,2,0,0,1,2.83,0l1.4,1.43a1.91,1.91,0,0,1,.58,1.4,1.91,1.91,0,0,1-.58,1.4L9.25,21ZM18.45,9,17,7.55Zm-12,3A5.31,5.31,0,0,0,4.9,8.1,5.31,5.31,0,0,0,1,6.5,5.31,5.31,0,0,0,4.9,4.9,5.31,5.31,0,0,0,6.5,1,5.31,5.31,0,0,0,8.1,4.9,5.31,5.31,0,0,0,12,6.5,5.46,5.46,0,0,0,6.5,12Z\"/>\n",
              "  </svg>\n",
              "    </button>\n",
              "    <script>\n",
              "      (() => {\n",
              "      const buttonEl =\n",
              "        document.querySelector('#id_d39e5ef8-bc8f-4b32-98a3-7ad45d964814 button.colab-df-generate');\n",
              "      buttonEl.style.display =\n",
              "        google.colab.kernel.accessAllowed ? 'block' : 'none';\n",
              "\n",
              "      buttonEl.onclick = () => {\n",
              "        google.colab.notebook.generateWithVariable('funnel');\n",
              "      }\n",
              "      })();\n",
              "    </script>\n",
              "  </div>\n",
              "\n",
              "    </div>\n",
              "  </div>\n"
            ],
            "application/vnd.google.colaboratory.intrinsic+json": {
              "type": "dataframe",
              "variable_name": "funnel",
              "summary": "{\n  \"name\": \"funnel\",\n  \"rows\": 1161,\n  \"fields\": [\n    {\n      \"column\": \"Date\",\n      \"properties\": {\n        \"dtype\": \"date\",\n        \"min\": \"2015-01-01 00:00:00\",\n        \"max\": \"2015-12-02 00:00:00\",\n        \"num_unique_values\": 59,\n        \"samples\": [\n          \"2015-01-01 00:00:00\",\n          \"2015-07-01 00:00:00\",\n          \"2015-10-02 00:00:00\"\n        ],\n        \"semantic_type\": \"\",\n        \"description\": \"\"\n      }\n    },\n    {\n      \"column\": \"Quarter\",\n      \"properties\": {\n        \"dtype\": \"category\",\n        \"num_unique_values\": 5,\n        \"samples\": [\n          \"Q2\",\n          \"Q5\",\n          \"Q3\"\n        ],\n        \"semantic_type\": \"\",\n        \"description\": \"\"\n      }\n    },\n    {\n      \"column\": \"Department\",\n      \"properties\": {\n        \"dtype\": \"category\",\n        \"num_unique_values\": 2,\n        \"samples\": [\n          \"Finishing\",\n          \"Sewing\"\n        ],\n        \"semantic_type\": \"\",\n        \"description\": \"\"\n      }\n    },\n    {\n      \"column\": \"Targeted Productivity\",\n      \"properties\": {\n        \"dtype\": \"number\",\n        \"std\": 0.098134720596219,\n        \"min\": 0.07,\n        \"max\": 0.8,\n        \"num_unique_values\": 9,\n        \"samples\": [\n          0.07,\n          0.75\n        ],\n        \"semantic_type\": \"\",\n        \"description\": \"\"\n      }\n    },\n    {\n      \"column\": \"Overtime\",\n      \"properties\": {\n        \"dtype\": \"number\",\n        \"std\": 3305,\n        \"min\": 0,\n        \"max\": 25920,\n        \"num_unique_values\": 143,\n        \"samples\": [\n          5820,\n          6780\n        ],\n        \"semantic_type\": \"\",\n        \"description\": \"\"\n      }\n    },\n    {\n      \"column\": \"No. of Workers\",\n      \"properties\": {\n        \"dtype\": \"number\",\n        \"std\": 22.199624614761486,\n        \"min\": 2.0,\n        \"max\": 89.0,\n        \"num_unique_values\": 61,\n        \"samples\": [\n          59.0,\n          55.0\n        ],\n        \"semantic_type\": \"\",\n        \"description\": \"\"\n      }\n    },\n    {\n      \"column\": \"Actual Productivity\",\n      \"properties\": {\n        \"dtype\": \"number\",\n        \"std\": 0.17342731926024038,\n        \"min\": 0.233705476,\n        \"max\": 1.1204375,\n        \"num_unique_values\": 866,\n        \"samples\": [\n          0.800842424,\n          0.840888889\n        ],\n        \"semantic_type\": \"\",\n        \"description\": \"\"\n      }\n    },\n    {\n      \"column\": \"Target Achieved\",\n      \"properties\": {\n        \"dtype\": \"category\",\n        \"num_unique_values\": 2,\n        \"samples\": [\n          \"No\",\n          \"Yes\"\n        ],\n        \"semantic_type\": \"\",\n        \"description\": \"\"\n      }\n    }\n  ]\n}"
            }
          },
          "metadata": {},
          "execution_count": 22
        }
      ]
    },
    {
      "cell_type": "code",
      "source": [
        "funnel['Date'] = pd.to_datetime(funnel['Date'])\n"
      ],
      "metadata": {
        "id": "eHGSXTkLKwV5"
      },
      "execution_count": 23,
      "outputs": []
    },
    {
      "cell_type": "code",
      "source": [
        "funnel"
      ],
      "metadata": {
        "id": "vGMGdR4OKxjP",
        "colab": {
          "base_uri": "https://localhost:8080/",
          "height": 423
        },
        "outputId": "d19ba2d6-4402-4178-b994-e40ab9b5d9de"
      },
      "execution_count": 24,
      "outputs": [
        {
          "output_type": "execute_result",
          "data": {
            "text/plain": [
              "           Date Quarter Department  Targeted Productivity  Overtime  \\\n",
              "0    2015-01-01      Q1     Sewing                   0.80      7080   \n",
              "1    2015-01-01      Q1  Finishing                   0.75       960   \n",
              "2    2015-01-01      Q1     Sewing                   0.80      3660   \n",
              "4    2015-01-01      Q1     Sewing                   0.80      1920   \n",
              "5    2015-01-01      Q1     Sewing                   0.80      6720   \n",
              "...         ...     ...        ...                    ...       ...   \n",
              "1192 2015-11-03      Q2  Finishing                   0.75       960   \n",
              "1193 2015-11-03      Q2  Finishing                   0.70       960   \n",
              "1194 2015-11-03      Q2  Finishing                   0.65       960   \n",
              "1195 2015-11-03      Q2  Finishing                   0.75      1800   \n",
              "1196 2015-11-03      Q2  Finishing                   0.70       720   \n",
              "\n",
              "      No. of Workers  Actual Productivity Target Achieved  \n",
              "0               59.0             0.940725             Yes  \n",
              "1                8.0             0.886500             Yes  \n",
              "2               30.5             0.800570             Yes  \n",
              "4               56.0             0.800402             Yes  \n",
              "5               56.0             0.800125             Yes  \n",
              "...              ...                  ...             ...  \n",
              "1192             8.0             0.628333              No  \n",
              "1193             8.0             0.800402             Yes  \n",
              "1194             8.0             0.625625              No  \n",
              "1195            15.0             0.505889              No  \n",
              "1196             6.0             0.394722              No  \n",
              "\n",
              "[1161 rows x 8 columns]"
            ],
            "text/html": [
              "\n",
              "  <div id=\"df-6abea606-cc39-4118-a025-83f3724baf02\" class=\"colab-df-container\">\n",
              "    <div>\n",
              "<style scoped>\n",
              "    .dataframe tbody tr th:only-of-type {\n",
              "        vertical-align: middle;\n",
              "    }\n",
              "\n",
              "    .dataframe tbody tr th {\n",
              "        vertical-align: top;\n",
              "    }\n",
              "\n",
              "    .dataframe thead th {\n",
              "        text-align: right;\n",
              "    }\n",
              "</style>\n",
              "<table border=\"1\" class=\"dataframe\">\n",
              "  <thead>\n",
              "    <tr style=\"text-align: right;\">\n",
              "      <th></th>\n",
              "      <th>Date</th>\n",
              "      <th>Quarter</th>\n",
              "      <th>Department</th>\n",
              "      <th>Targeted Productivity</th>\n",
              "      <th>Overtime</th>\n",
              "      <th>No. of Workers</th>\n",
              "      <th>Actual Productivity</th>\n",
              "      <th>Target Achieved</th>\n",
              "    </tr>\n",
              "  </thead>\n",
              "  <tbody>\n",
              "    <tr>\n",
              "      <th>0</th>\n",
              "      <td>2015-01-01</td>\n",
              "      <td>Q1</td>\n",
              "      <td>Sewing</td>\n",
              "      <td>0.80</td>\n",
              "      <td>7080</td>\n",
              "      <td>59.0</td>\n",
              "      <td>0.940725</td>\n",
              "      <td>Yes</td>\n",
              "    </tr>\n",
              "    <tr>\n",
              "      <th>1</th>\n",
              "      <td>2015-01-01</td>\n",
              "      <td>Q1</td>\n",
              "      <td>Finishing</td>\n",
              "      <td>0.75</td>\n",
              "      <td>960</td>\n",
              "      <td>8.0</td>\n",
              "      <td>0.886500</td>\n",
              "      <td>Yes</td>\n",
              "    </tr>\n",
              "    <tr>\n",
              "      <th>2</th>\n",
              "      <td>2015-01-01</td>\n",
              "      <td>Q1</td>\n",
              "      <td>Sewing</td>\n",
              "      <td>0.80</td>\n",
              "      <td>3660</td>\n",
              "      <td>30.5</td>\n",
              "      <td>0.800570</td>\n",
              "      <td>Yes</td>\n",
              "    </tr>\n",
              "    <tr>\n",
              "      <th>4</th>\n",
              "      <td>2015-01-01</td>\n",
              "      <td>Q1</td>\n",
              "      <td>Sewing</td>\n",
              "      <td>0.80</td>\n",
              "      <td>1920</td>\n",
              "      <td>56.0</td>\n",
              "      <td>0.800402</td>\n",
              "      <td>Yes</td>\n",
              "    </tr>\n",
              "    <tr>\n",
              "      <th>5</th>\n",
              "      <td>2015-01-01</td>\n",
              "      <td>Q1</td>\n",
              "      <td>Sewing</td>\n",
              "      <td>0.80</td>\n",
              "      <td>6720</td>\n",
              "      <td>56.0</td>\n",
              "      <td>0.800125</td>\n",
              "      <td>Yes</td>\n",
              "    </tr>\n",
              "    <tr>\n",
              "      <th>...</th>\n",
              "      <td>...</td>\n",
              "      <td>...</td>\n",
              "      <td>...</td>\n",
              "      <td>...</td>\n",
              "      <td>...</td>\n",
              "      <td>...</td>\n",
              "      <td>...</td>\n",
              "      <td>...</td>\n",
              "    </tr>\n",
              "    <tr>\n",
              "      <th>1192</th>\n",
              "      <td>2015-11-03</td>\n",
              "      <td>Q2</td>\n",
              "      <td>Finishing</td>\n",
              "      <td>0.75</td>\n",
              "      <td>960</td>\n",
              "      <td>8.0</td>\n",
              "      <td>0.628333</td>\n",
              "      <td>No</td>\n",
              "    </tr>\n",
              "    <tr>\n",
              "      <th>1193</th>\n",
              "      <td>2015-11-03</td>\n",
              "      <td>Q2</td>\n",
              "      <td>Finishing</td>\n",
              "      <td>0.70</td>\n",
              "      <td>960</td>\n",
              "      <td>8.0</td>\n",
              "      <td>0.800402</td>\n",
              "      <td>Yes</td>\n",
              "    </tr>\n",
              "    <tr>\n",
              "      <th>1194</th>\n",
              "      <td>2015-11-03</td>\n",
              "      <td>Q2</td>\n",
              "      <td>Finishing</td>\n",
              "      <td>0.65</td>\n",
              "      <td>960</td>\n",
              "      <td>8.0</td>\n",
              "      <td>0.625625</td>\n",
              "      <td>No</td>\n",
              "    </tr>\n",
              "    <tr>\n",
              "      <th>1195</th>\n",
              "      <td>2015-11-03</td>\n",
              "      <td>Q2</td>\n",
              "      <td>Finishing</td>\n",
              "      <td>0.75</td>\n",
              "      <td>1800</td>\n",
              "      <td>15.0</td>\n",
              "      <td>0.505889</td>\n",
              "      <td>No</td>\n",
              "    </tr>\n",
              "    <tr>\n",
              "      <th>1196</th>\n",
              "      <td>2015-11-03</td>\n",
              "      <td>Q2</td>\n",
              "      <td>Finishing</td>\n",
              "      <td>0.70</td>\n",
              "      <td>720</td>\n",
              "      <td>6.0</td>\n",
              "      <td>0.394722</td>\n",
              "      <td>No</td>\n",
              "    </tr>\n",
              "  </tbody>\n",
              "</table>\n",
              "<p>1161 rows × 8 columns</p>\n",
              "</div>\n",
              "    <div class=\"colab-df-buttons\">\n",
              "\n",
              "  <div class=\"colab-df-container\">\n",
              "    <button class=\"colab-df-convert\" onclick=\"convertToInteractive('df-6abea606-cc39-4118-a025-83f3724baf02')\"\n",
              "            title=\"Convert this dataframe to an interactive table.\"\n",
              "            style=\"display:none;\">\n",
              "\n",
              "  <svg xmlns=\"http://www.w3.org/2000/svg\" height=\"24px\" viewBox=\"0 -960 960 960\">\n",
              "    <path d=\"M120-120v-720h720v720H120Zm60-500h600v-160H180v160Zm220 220h160v-160H400v160Zm0 220h160v-160H400v160ZM180-400h160v-160H180v160Zm440 0h160v-160H620v160ZM180-180h160v-160H180v160Zm440 0h160v-160H620v160Z\"/>\n",
              "  </svg>\n",
              "    </button>\n",
              "\n",
              "  <style>\n",
              "    .colab-df-container {\n",
              "      display:flex;\n",
              "      gap: 12px;\n",
              "    }\n",
              "\n",
              "    .colab-df-convert {\n",
              "      background-color: #E8F0FE;\n",
              "      border: none;\n",
              "      border-radius: 50%;\n",
              "      cursor: pointer;\n",
              "      display: none;\n",
              "      fill: #1967D2;\n",
              "      height: 32px;\n",
              "      padding: 0 0 0 0;\n",
              "      width: 32px;\n",
              "    }\n",
              "\n",
              "    .colab-df-convert:hover {\n",
              "      background-color: #E2EBFA;\n",
              "      box-shadow: 0px 1px 2px rgba(60, 64, 67, 0.3), 0px 1px 3px 1px rgba(60, 64, 67, 0.15);\n",
              "      fill: #174EA6;\n",
              "    }\n",
              "\n",
              "    .colab-df-buttons div {\n",
              "      margin-bottom: 4px;\n",
              "    }\n",
              "\n",
              "    [theme=dark] .colab-df-convert {\n",
              "      background-color: #3B4455;\n",
              "      fill: #D2E3FC;\n",
              "    }\n",
              "\n",
              "    [theme=dark] .colab-df-convert:hover {\n",
              "      background-color: #434B5C;\n",
              "      box-shadow: 0px 1px 3px 1px rgba(0, 0, 0, 0.15);\n",
              "      filter: drop-shadow(0px 1px 2px rgba(0, 0, 0, 0.3));\n",
              "      fill: #FFFFFF;\n",
              "    }\n",
              "  </style>\n",
              "\n",
              "    <script>\n",
              "      const buttonEl =\n",
              "        document.querySelector('#df-6abea606-cc39-4118-a025-83f3724baf02 button.colab-df-convert');\n",
              "      buttonEl.style.display =\n",
              "        google.colab.kernel.accessAllowed ? 'block' : 'none';\n",
              "\n",
              "      async function convertToInteractive(key) {\n",
              "        const element = document.querySelector('#df-6abea606-cc39-4118-a025-83f3724baf02');\n",
              "        const dataTable =\n",
              "          await google.colab.kernel.invokeFunction('convertToInteractive',\n",
              "                                                    [key], {});\n",
              "        if (!dataTable) return;\n",
              "\n",
              "        const docLinkHtml = 'Like what you see? Visit the ' +\n",
              "          '<a target=\"_blank\" href=https://colab.research.google.com/notebooks/data_table.ipynb>data table notebook</a>'\n",
              "          + ' to learn more about interactive tables.';\n",
              "        element.innerHTML = '';\n",
              "        dataTable['output_type'] = 'display_data';\n",
              "        await google.colab.output.renderOutput(dataTable, element);\n",
              "        const docLink = document.createElement('div');\n",
              "        docLink.innerHTML = docLinkHtml;\n",
              "        element.appendChild(docLink);\n",
              "      }\n",
              "    </script>\n",
              "  </div>\n",
              "\n",
              "\n",
              "<div id=\"df-85ad4d02-1567-4965-b234-8d48fa417703\">\n",
              "  <button class=\"colab-df-quickchart\" onclick=\"quickchart('df-85ad4d02-1567-4965-b234-8d48fa417703')\"\n",
              "            title=\"Suggest charts\"\n",
              "            style=\"display:none;\">\n",
              "\n",
              "<svg xmlns=\"http://www.w3.org/2000/svg\" height=\"24px\"viewBox=\"0 0 24 24\"\n",
              "     width=\"24px\">\n",
              "    <g>\n",
              "        <path d=\"M19 3H5c-1.1 0-2 .9-2 2v14c0 1.1.9 2 2 2h14c1.1 0 2-.9 2-2V5c0-1.1-.9-2-2-2zM9 17H7v-7h2v7zm4 0h-2V7h2v10zm4 0h-2v-4h2v4z\"/>\n",
              "    </g>\n",
              "</svg>\n",
              "  </button>\n",
              "\n",
              "<style>\n",
              "  .colab-df-quickchart {\n",
              "      --bg-color: #E8F0FE;\n",
              "      --fill-color: #1967D2;\n",
              "      --hover-bg-color: #E2EBFA;\n",
              "      --hover-fill-color: #174EA6;\n",
              "      --disabled-fill-color: #AAA;\n",
              "      --disabled-bg-color: #DDD;\n",
              "  }\n",
              "\n",
              "  [theme=dark] .colab-df-quickchart {\n",
              "      --bg-color: #3B4455;\n",
              "      --fill-color: #D2E3FC;\n",
              "      --hover-bg-color: #434B5C;\n",
              "      --hover-fill-color: #FFFFFF;\n",
              "      --disabled-bg-color: #3B4455;\n",
              "      --disabled-fill-color: #666;\n",
              "  }\n",
              "\n",
              "  .colab-df-quickchart {\n",
              "    background-color: var(--bg-color);\n",
              "    border: none;\n",
              "    border-radius: 50%;\n",
              "    cursor: pointer;\n",
              "    display: none;\n",
              "    fill: var(--fill-color);\n",
              "    height: 32px;\n",
              "    padding: 0;\n",
              "    width: 32px;\n",
              "  }\n",
              "\n",
              "  .colab-df-quickchart:hover {\n",
              "    background-color: var(--hover-bg-color);\n",
              "    box-shadow: 0 1px 2px rgba(60, 64, 67, 0.3), 0 1px 3px 1px rgba(60, 64, 67, 0.15);\n",
              "    fill: var(--button-hover-fill-color);\n",
              "  }\n",
              "\n",
              "  .colab-df-quickchart-complete:disabled,\n",
              "  .colab-df-quickchart-complete:disabled:hover {\n",
              "    background-color: var(--disabled-bg-color);\n",
              "    fill: var(--disabled-fill-color);\n",
              "    box-shadow: none;\n",
              "  }\n",
              "\n",
              "  .colab-df-spinner {\n",
              "    border: 2px solid var(--fill-color);\n",
              "    border-color: transparent;\n",
              "    border-bottom-color: var(--fill-color);\n",
              "    animation:\n",
              "      spin 1s steps(1) infinite;\n",
              "  }\n",
              "\n",
              "  @keyframes spin {\n",
              "    0% {\n",
              "      border-color: transparent;\n",
              "      border-bottom-color: var(--fill-color);\n",
              "      border-left-color: var(--fill-color);\n",
              "    }\n",
              "    20% {\n",
              "      border-color: transparent;\n",
              "      border-left-color: var(--fill-color);\n",
              "      border-top-color: var(--fill-color);\n",
              "    }\n",
              "    30% {\n",
              "      border-color: transparent;\n",
              "      border-left-color: var(--fill-color);\n",
              "      border-top-color: var(--fill-color);\n",
              "      border-right-color: var(--fill-color);\n",
              "    }\n",
              "    40% {\n",
              "      border-color: transparent;\n",
              "      border-right-color: var(--fill-color);\n",
              "      border-top-color: var(--fill-color);\n",
              "    }\n",
              "    60% {\n",
              "      border-color: transparent;\n",
              "      border-right-color: var(--fill-color);\n",
              "    }\n",
              "    80% {\n",
              "      border-color: transparent;\n",
              "      border-right-color: var(--fill-color);\n",
              "      border-bottom-color: var(--fill-color);\n",
              "    }\n",
              "    90% {\n",
              "      border-color: transparent;\n",
              "      border-bottom-color: var(--fill-color);\n",
              "    }\n",
              "  }\n",
              "</style>\n",
              "\n",
              "  <script>\n",
              "    async function quickchart(key) {\n",
              "      const quickchartButtonEl =\n",
              "        document.querySelector('#' + key + ' button');\n",
              "      quickchartButtonEl.disabled = true;  // To prevent multiple clicks.\n",
              "      quickchartButtonEl.classList.add('colab-df-spinner');\n",
              "      try {\n",
              "        const charts = await google.colab.kernel.invokeFunction(\n",
              "            'suggestCharts', [key], {});\n",
              "      } catch (error) {\n",
              "        console.error('Error during call to suggestCharts:', error);\n",
              "      }\n",
              "      quickchartButtonEl.classList.remove('colab-df-spinner');\n",
              "      quickchartButtonEl.classList.add('colab-df-quickchart-complete');\n",
              "    }\n",
              "    (() => {\n",
              "      let quickchartButtonEl =\n",
              "        document.querySelector('#df-85ad4d02-1567-4965-b234-8d48fa417703 button');\n",
              "      quickchartButtonEl.style.display =\n",
              "        google.colab.kernel.accessAllowed ? 'block' : 'none';\n",
              "    })();\n",
              "  </script>\n",
              "</div>\n",
              "\n",
              "  <div id=\"id_68c21f0c-77c0-4e5c-b999-2d6f1d2e88d1\">\n",
              "    <style>\n",
              "      .colab-df-generate {\n",
              "        background-color: #E8F0FE;\n",
              "        border: none;\n",
              "        border-radius: 50%;\n",
              "        cursor: pointer;\n",
              "        display: none;\n",
              "        fill: #1967D2;\n",
              "        height: 32px;\n",
              "        padding: 0 0 0 0;\n",
              "        width: 32px;\n",
              "      }\n",
              "\n",
              "      .colab-df-generate:hover {\n",
              "        background-color: #E2EBFA;\n",
              "        box-shadow: 0px 1px 2px rgba(60, 64, 67, 0.3), 0px 1px 3px 1px rgba(60, 64, 67, 0.15);\n",
              "        fill: #174EA6;\n",
              "      }\n",
              "\n",
              "      [theme=dark] .colab-df-generate {\n",
              "        background-color: #3B4455;\n",
              "        fill: #D2E3FC;\n",
              "      }\n",
              "\n",
              "      [theme=dark] .colab-df-generate:hover {\n",
              "        background-color: #434B5C;\n",
              "        box-shadow: 0px 1px 3px 1px rgba(0, 0, 0, 0.15);\n",
              "        filter: drop-shadow(0px 1px 2px rgba(0, 0, 0, 0.3));\n",
              "        fill: #FFFFFF;\n",
              "      }\n",
              "    </style>\n",
              "    <button class=\"colab-df-generate\" onclick=\"generateWithVariable('funnel')\"\n",
              "            title=\"Generate code using this dataframe.\"\n",
              "            style=\"display:none;\">\n",
              "\n",
              "  <svg xmlns=\"http://www.w3.org/2000/svg\" height=\"24px\"viewBox=\"0 0 24 24\"\n",
              "       width=\"24px\">\n",
              "    <path d=\"M7,19H8.4L18.45,9,17,7.55,7,17.6ZM5,21V16.75L18.45,3.32a2,2,0,0,1,2.83,0l1.4,1.43a1.91,1.91,0,0,1,.58,1.4,1.91,1.91,0,0,1-.58,1.4L9.25,21ZM18.45,9,17,7.55Zm-12,3A5.31,5.31,0,0,0,4.9,8.1,5.31,5.31,0,0,0,1,6.5,5.31,5.31,0,0,0,4.9,4.9,5.31,5.31,0,0,0,6.5,1,5.31,5.31,0,0,0,8.1,4.9,5.31,5.31,0,0,0,12,6.5,5.46,5.46,0,0,0,6.5,12Z\"/>\n",
              "  </svg>\n",
              "    </button>\n",
              "    <script>\n",
              "      (() => {\n",
              "      const buttonEl =\n",
              "        document.querySelector('#id_68c21f0c-77c0-4e5c-b999-2d6f1d2e88d1 button.colab-df-generate');\n",
              "      buttonEl.style.display =\n",
              "        google.colab.kernel.accessAllowed ? 'block' : 'none';\n",
              "\n",
              "      buttonEl.onclick = () => {\n",
              "        google.colab.notebook.generateWithVariable('funnel');\n",
              "      }\n",
              "      })();\n",
              "    </script>\n",
              "  </div>\n",
              "\n",
              "    </div>\n",
              "  </div>\n"
            ],
            "application/vnd.google.colaboratory.intrinsic+json": {
              "type": "dataframe",
              "variable_name": "funnel",
              "summary": "{\n  \"name\": \"funnel\",\n  \"rows\": 1161,\n  \"fields\": [\n    {\n      \"column\": \"Date\",\n      \"properties\": {\n        \"dtype\": \"date\",\n        \"min\": \"2015-01-01 00:00:00\",\n        \"max\": \"2015-12-02 00:00:00\",\n        \"num_unique_values\": 59,\n        \"samples\": [\n          \"2015-01-01 00:00:00\",\n          \"2015-07-01 00:00:00\",\n          \"2015-10-02 00:00:00\"\n        ],\n        \"semantic_type\": \"\",\n        \"description\": \"\"\n      }\n    },\n    {\n      \"column\": \"Quarter\",\n      \"properties\": {\n        \"dtype\": \"category\",\n        \"num_unique_values\": 5,\n        \"samples\": [\n          \"Q2\",\n          \"Q5\",\n          \"Q3\"\n        ],\n        \"semantic_type\": \"\",\n        \"description\": \"\"\n      }\n    },\n    {\n      \"column\": \"Department\",\n      \"properties\": {\n        \"dtype\": \"category\",\n        \"num_unique_values\": 2,\n        \"samples\": [\n          \"Finishing\",\n          \"Sewing\"\n        ],\n        \"semantic_type\": \"\",\n        \"description\": \"\"\n      }\n    },\n    {\n      \"column\": \"Targeted Productivity\",\n      \"properties\": {\n        \"dtype\": \"number\",\n        \"std\": 0.098134720596219,\n        \"min\": 0.07,\n        \"max\": 0.8,\n        \"num_unique_values\": 9,\n        \"samples\": [\n          0.07,\n          0.75\n        ],\n        \"semantic_type\": \"\",\n        \"description\": \"\"\n      }\n    },\n    {\n      \"column\": \"Overtime\",\n      \"properties\": {\n        \"dtype\": \"number\",\n        \"std\": 3305,\n        \"min\": 0,\n        \"max\": 25920,\n        \"num_unique_values\": 143,\n        \"samples\": [\n          5820,\n          6780\n        ],\n        \"semantic_type\": \"\",\n        \"description\": \"\"\n      }\n    },\n    {\n      \"column\": \"No. of Workers\",\n      \"properties\": {\n        \"dtype\": \"number\",\n        \"std\": 22.199624614761486,\n        \"min\": 2.0,\n        \"max\": 89.0,\n        \"num_unique_values\": 61,\n        \"samples\": [\n          59.0,\n          55.0\n        ],\n        \"semantic_type\": \"\",\n        \"description\": \"\"\n      }\n    },\n    {\n      \"column\": \"Actual Productivity\",\n      \"properties\": {\n        \"dtype\": \"number\",\n        \"std\": 0.17342731926024038,\n        \"min\": 0.233705476,\n        \"max\": 1.1204375,\n        \"num_unique_values\": 866,\n        \"samples\": [\n          0.800842424,\n          0.840888889\n        ],\n        \"semantic_type\": \"\",\n        \"description\": \"\"\n      }\n    },\n    {\n      \"column\": \"Target Achieved\",\n      \"properties\": {\n        \"dtype\": \"category\",\n        \"num_unique_values\": 2,\n        \"samples\": [\n          \"No\",\n          \"Yes\"\n        ],\n        \"semantic_type\": \"\",\n        \"description\": \"\"\n      }\n    }\n  ]\n}"
            }
          },
          "metadata": {},
          "execution_count": 24
        }
      ]
    },
    {
      "cell_type": "code",
      "source": [
        "funnel[[\"Actual Productivity\"]].plot()"
      ],
      "metadata": {
        "id": "ckSx0shmKym7",
        "colab": {
          "base_uri": "https://localhost:8080/",
          "height": 447
        },
        "outputId": "d8933ed5-0427-4ab8-9179-0576071f79e9"
      },
      "execution_count": 25,
      "outputs": [
        {
          "output_type": "execute_result",
          "data": {
            "text/plain": [
              "<Axes: >"
            ]
          },
          "metadata": {},
          "execution_count": 25
        },
        {
          "output_type": "display_data",
          "data": {
            "text/plain": [
              "<Figure size 640x480 with 1 Axes>"
            ],
            "image/png": "[encoded data removed]"
          },
          "metadata": {}
        }
      ]
    },
    {
      "cell_type": "markdown",
      "source": [
        "# Check for stationarity"
      ],
      "metadata": {
        "id": "c2LSP1B6LPlz"
      }
    },
    {
      "cell_type": "code",
      "source": [
        "from statsmodels.tsa.stattools import adfuller\n",
        "def ad_test(funnel):\n",
        "  dftest=adfuller(funnel,autolag=\"AIC\")\n",
        "  print(\"1. ADF \",dftest[0])\n",
        "  print(\"2. P value \",dftest[1])\n",
        "  print(\"3. Num of lags \",dftest[2])\n",
        "  print(\"4. Num of observations used for ADF Regression and critical value calculation:  \",dftest[3])\n",
        "  print(\"5. Critical Values: \")\n",
        "  for key,val in dftest[4].items():\n",
        "    print(\"\\t\",key,\":\",val)"
      ],
      "metadata": {
        "id": "HLjdpKxsK57K"
      },
      "execution_count": 26,
      "outputs": []
    },
    {
      "cell_type": "code",
      "source": [
        "ad_test(funnel[\"Actual Productivity\"])"
      ],
      "metadata": {
        "id": "DnqAKcp-MPa0",
        "colab": {
          "base_uri": "https://localhost:8080/"
        },
        "outputId": "b3e0e272-6eb3-4f6b-855a-9d33473f864d"
      },
      "execution_count": 27,
      "outputs": [
        {
          "output_type": "stream",
          "name": "stdout",
          "text": [
            "1. ADF  -4.141775151123371\n",
            "2. P value  0.0008254848330088624\n",
            "3. Num of lags  20\n",
            "4. Num of observations used for ADF Regression and critical value calculation:   1140\n",
            "5. Critical Values: \n",
            "\t 1% : -3.4360991979671205\n",
            "\t 5% : -2.864078635828568\n",
            "\t 10% : -2.568121635118498\n"
          ]
        }
      ]
    },
    {
      "cell_type": "markdown",
      "source": [
        "# The probability is less than 0.05 so we can conclude that the dataset is stationary"
      ],
      "metadata": {
        "id": "qYo1UY2iMqEN"
      }
    },
    {
      "source": [
        "!pip install pmdarima\n",
        "from pmdarima import auto_arima\n",
        "import warnings\n",
        "warnings.filterwarnings(\"ignore\")"
      ],
      "cell_type": "code",
      "metadata": {
        "id": "_7Az-G9Gvrdb",
        "colab": {
          "base_uri": "https://localhost:8080/"
        },
        "outputId": "3dc1b107-2087-4782-e613-68faebfc6ad3"
      },
      "execution_count": 28,
      "outputs": [
        {
          "output_type": "stream",
          "name": "stdout",
          "text": [
            "Collecting pmdarima\n",
            "  Downloading pmdarima-2.0.4-cp310-cp310-manylinux_2_17_x86_64.manylinux2014_x86_64.manylinux_2_28_x86_64.whl (2.1 MB)\n",
            "\u001b[2K     \u001b[90m━━━━━━━━━━━━━━━━━━━━━━━━━━━━━━━━━━━━━━━━\u001b[0m \u001b[32m2.1/2.1 MB\u001b[0m \u001b[31m10.5 MB/s\u001b[0m eta \u001b[36m0:00:00\u001b[0m\n",
            "\u001b[?25hRequirement already satisfied: joblib>=0.11 in /usr/local/lib/python3.10/dist-packages (from pmdarima) (1.3.2)\n",
            "Requirement already satisfied: Cython!=0.29.18,!=0.29.31,>=0.29 in /usr/local/lib/python3.10/dist-packages (from pmdarima) (3.0.9)\n",
            "Requirement already satisfied: numpy>=1.21.2 in /usr/local/lib/python3.10/dist-packages (from pmdarima) (1.25.2)\n",
            "Requirement already satisfied: pandas>=0.19 in /usr/local/lib/python3.10/dist-packages (from pmdarima) (1.5.3)\n",
            "Requirement already satisfied: scikit-learn>=0.22 in /usr/local/lib/python3.10/dist-packages (from pmdarima) (1.2.2)\n",
            "Requirement already satisfied: scipy>=1.3.2 in /usr/local/lib/python3.10/dist-packages (from pmdarima) (1.11.4)\n",
            "Requirement already satisfied: statsmodels>=0.13.2 in /usr/local/lib/python3.10/dist-packages (from pmdarima) (0.14.1)\n",
            "Requirement already satisfied: urllib3 in /usr/local/lib/python3.10/dist-packages (from pmdarima) (2.0.7)\n",
            "Requirement already satisfied: setuptools!=50.0.0,>=38.6.0 in /usr/local/lib/python3.10/dist-packages (from pmdarima) (67.7.2)\n",
            "Requirement already satisfied: packaging>=17.1 in /usr/local/lib/python3.10/dist-packages (from pmdarima) (24.0)\n",
            "Requirement already satisfied: python-dateutil>=2.8.1 in /usr/local/lib/python3.10/dist-packages (from pandas>=0.19->pmdarima) (2.8.2)\n",
            "Requirement already satisfied: pytz>=2020.1 in /usr/local/lib/python3.10/dist-packages (from pandas>=0.19->pmdarima) (2023.4)\n",
            "Requirement already satisfied: threadpoolctl>=2.0.0 in /usr/local/lib/python3.10/dist-packages (from scikit-learn>=0.22->pmdarima) (3.3.0)\n",
            "Requirement already satisfied: patsy>=0.5.4 in /usr/local/lib/python3.10/dist-packages (from statsmodels>=0.13.2->pmdarima) (0.5.6)\n",
            "Requirement already satisfied: six in /usr/local/lib/python3.10/dist-packages (from patsy>=0.5.4->statsmodels>=0.13.2->pmdarima) (1.16.0)\n",
            "Installing collected packages: pmdarima\n",
            "Successfully installed pmdarima-2.0.4\n"
          ]
        }
      ]
    },
    {
      "cell_type": "code",
      "source": [
        "stepwise_fit=auto_arima(funnel[\"Actual Productivity\"],trace=True,supress_warnings=True)\n",
        "stepwise_fit.summary()"
      ],
      "metadata": {
        "id": "30K47tENNOEe",
        "colab": {
          "base_uri": "https://localhost:8080/",
          "height": 768
        },
        "outputId": "30838705-7660-4654-a154-7873212cb147"
      },
      "execution_count": 29,
      "outputs": [
        {
          "output_type": "stream",
          "name": "stdout",
          "text": [
            "Performing stepwise search to minimize aic\n",
            " ARIMA(2,1,2)(0,0,0)[0] intercept   : AIC=inf, Time=2.72 sec\n",
            " ARIMA(0,1,0)(0,0,0)[0] intercept   : AIC=-1051.098, Time=0.17 sec\n",
            " ARIMA(1,1,0)(0,0,0)[0] intercept   : AIC=-1078.862, Time=0.10 sec\n",
            " ARIMA(0,1,1)(0,0,0)[0] intercept   : AIC=-1089.726, Time=0.65 sec\n",
            " ARIMA(0,1,0)(0,0,0)[0]             : AIC=-1053.088, Time=0.13 sec\n",
            " ARIMA(1,1,1)(0,0,0)[0] intercept   : AIC=inf, Time=2.26 sec\n",
            " ARIMA(0,1,2)(0,0,0)[0] intercept   : AIC=-1122.431, Time=0.64 sec\n",
            " ARIMA(1,1,2)(0,0,0)[0] intercept   : AIC=-1252.344, Time=2.23 sec\n",
            " ARIMA(1,1,3)(0,0,0)[0] intercept   : AIC=inf, Time=6.92 sec\n",
            " ARIMA(0,1,3)(0,0,0)[0] intercept   : AIC=inf, Time=5.92 sec\n",
            " ARIMA(2,1,1)(0,0,0)[0] intercept   : AIC=inf, Time=5.73 sec\n",
            " ARIMA(2,1,3)(0,0,0)[0] intercept   : AIC=inf, Time=6.55 sec\n",
            " ARIMA(1,1,2)(0,0,0)[0]             : AIC=inf, Time=1.81 sec\n",
            "\n",
            "Best model:  ARIMA(1,1,2)(0,0,0)[0] intercept\n",
            "Total fit time: 35.897 seconds\n"
          ]
        },
        {
          "output_type": "execute_result",
          "data": {
            "text/plain": [
              "<class 'statsmodels.iolib.summary.Summary'>\n",
              "\"\"\"\n",
              "                               SARIMAX Results                                \n",
              "==============================================================================\n",
              "Dep. Variable:                      y   No. Observations:                 1161\n",
              "Model:               SARIMAX(1, 1, 2)   Log Likelihood                 631.172\n",
              "Date:                Sun, 17 Mar 2024   AIC                          -1252.344\n",
              "Time:                        14:45:39   BIC                          -1227.063\n",
              "Sample:                             0   HQIC                         -1242.805\n",
              "                               - 1161                                         \n",
              "Covariance Type:                  opg                                         \n",
              "==============================================================================\n",
              "                 coef    std err          z      P>|z|      [0.025      0.975]\n",
              "------------------------------------------------------------------------------\n",
              "intercept  -5.979e-05      0.001     -0.116      0.907      -0.001       0.001\n",
              "ar.L1          0.4435      0.064      6.932      0.000       0.318       0.569\n",
              "ma.L1         -0.7579      0.070    -10.848      0.000      -0.895      -0.621\n",
              "ma.L2         -0.1786      0.055     -3.260      0.001      -0.286      -0.071\n",
              "sigma2         0.0197      0.001     27.154      0.000       0.018       0.021\n",
              "===================================================================================\n",
              "Ljung-Box (L1) (Q):                   0.59   Jarque-Bera (JB):              2378.04\n",
              "Prob(Q):                              0.44   Prob(JB):                         0.00\n",
              "Heteroskedasticity (H):               1.17   Skew:                             1.74\n",
              "Prob(H) (two-sided):                  0.13   Kurtosis:                         9.09\n",
              "===================================================================================\n",
              "\n",
              "Warnings:\n",
              "[1] Covariance matrix calculated using the outer product of gradients (complex-step).\n",
              "\"\"\""
            ],
            "text/html": [
              "<table class=\"simpletable\">\n",
              "<caption>SARIMAX Results</caption>\n",
              "<tr>\n",
              "  <th>Dep. Variable:</th>           <td>y</td>        <th>  No. Observations:  </th>   <td>1161</td>   \n",
              "</tr>\n",
              "<tr>\n",
              "  <th>Model:</th>           <td>SARIMAX(1, 1, 2)</td> <th>  Log Likelihood     </th>  <td>631.172</td> \n",
              "</tr>\n",
              "<tr>\n",
              "  <th>Date:</th>            <td>Sun, 17 Mar 2024</td> <th>  AIC                </th> <td>-1252.344</td>\n",
              "</tr>\n",
              "<tr>\n",
              "  <th>Time:</th>                <td>14:45:39</td>     <th>  BIC                </th> <td>-1227.063</td>\n",
              "</tr>\n",
              "<tr>\n",
              "  <th>Sample:</th>                  <td>0</td>        <th>  HQIC               </th> <td>-1242.805</td>\n",
              "</tr>\n",
              "<tr>\n",
              "  <th></th>                      <td> - 1161</td>     <th>                     </th>     <td> </td>    \n",
              "</tr>\n",
              "<tr>\n",
              "  <th>Covariance Type:</th>        <td>opg</td>       <th>                     </th>     <td> </td>    \n",
              "</tr>\n",
              "</table>\n",
              "<table class=\"simpletable\">\n",
              "<tr>\n",
              "      <td></td>         <th>coef</th>     <th>std err</th>      <th>z</th>      <th>P>|z|</th>  <th>[0.025</th>    <th>0.975]</th>  \n",
              "</tr>\n",
              "<tr>\n",
              "  <th>intercept</th> <td>-5.979e-05</td> <td>    0.001</td> <td>   -0.116</td> <td> 0.907</td> <td>   -0.001</td> <td>    0.001</td>\n",
              "</tr>\n",
              "<tr>\n",
              "  <th>ar.L1</th>     <td>    0.4435</td> <td>    0.064</td> <td>    6.932</td> <td> 0.000</td> <td>    0.318</td> <td>    0.569</td>\n",
              "</tr>\n",
              "<tr>\n",
              "  <th>ma.L1</th>     <td>   -0.7579</td> <td>    0.070</td> <td>  -10.848</td> <td> 0.000</td> <td>   -0.895</td> <td>   -0.621</td>\n",
              "</tr>\n",
              "<tr>\n",
              "  <th>ma.L2</th>     <td>   -0.1786</td> <td>    0.055</td> <td>   -3.260</td> <td> 0.001</td> <td>   -0.286</td> <td>   -0.071</td>\n",
              "</tr>\n",
              "<tr>\n",
              "  <th>sigma2</th>    <td>    0.0197</td> <td>    0.001</td> <td>   27.154</td> <td> 0.000</td> <td>    0.018</td> <td>    0.021</td>\n",
              "</tr>\n",
              "</table>\n",
              "<table class=\"simpletable\">\n",
              "<tr>\n",
              "  <th>Ljung-Box (L1) (Q):</th>     <td>0.59</td> <th>  Jarque-Bera (JB):  </th> <td>2378.04</td>\n",
              "</tr>\n",
              "<tr>\n",
              "  <th>Prob(Q):</th>                <td>0.44</td> <th>  Prob(JB):          </th>  <td>0.00</td>  \n",
              "</tr>\n",
              "<tr>\n",
              "  <th>Heteroskedasticity (H):</th> <td>1.17</td> <th>  Skew:              </th>  <td>1.74</td>  \n",
              "</tr>\n",
              "<tr>\n",
              "  <th>Prob(H) (two-sided):</th>    <td>0.13</td> <th>  Kurtosis:          </th>  <td>9.09</td>  \n",
              "</tr>\n",
              "</table><br/><br/>Warnings:<br/>[1] Covariance matrix calculated using the outer product of gradients (complex-step)."
            ],
            "text/latex": "\\begin{center}\n\\begin{tabular}{lclc}\n\\toprule\n\\textbf{Dep. Variable:}          &        y         & \\textbf{  No. Observations:  } &    1161     \\\\\n\\textbf{Model:}                  & SARIMAX(1, 1, 2) & \\textbf{  Log Likelihood     } &  631.172    \\\\\n\\textbf{Date:}                   & Sun, 17 Mar 2024 & \\textbf{  AIC                } & -1252.344   \\\\\n\\textbf{Time:}                   &     14:45:39     & \\textbf{  BIC                } & -1227.063   \\\\\n\\textbf{Sample:}                 &        0         & \\textbf{  HQIC               } & -1242.805   \\\\\n\\textbf{}                        &      - 1161      & \\textbf{                     } &             \\\\\n\\textbf{Covariance Type:}        &       opg        & \\textbf{                     } &             \\\\\n\\bottomrule\n\\end{tabular}\n\\begin{tabular}{lcccccc}\n                   & \\textbf{coef} & \\textbf{std err} & \\textbf{z} & \\textbf{P$> |$z$|$} & \\textbf{[0.025} & \\textbf{0.975]}  \\\\\n\\midrule\n\\textbf{intercept} &   -5.979e-05  &        0.001     &    -0.116  &         0.907        &       -0.001    &        0.001     \\\\\n\\textbf{ar.L1}     &       0.4435  &        0.064     &     6.932  &         0.000        &        0.318    &        0.569     \\\\\n\\textbf{ma.L1}     &      -0.7579  &        0.070     &   -10.848  &         0.000        &       -0.895    &       -0.621     \\\\\n\\textbf{ma.L2}     &      -0.1786  &        0.055     &    -3.260  &         0.001        &       -0.286    &       -0.071     \\\\\n\\textbf{sigma2}    &       0.0197  &        0.001     &    27.154  &         0.000        &        0.018    &        0.021     \\\\\n\\bottomrule\n\\end{tabular}\n\\begin{tabular}{lclc}\n\\textbf{Ljung-Box (L1) (Q):}     & 0.59 & \\textbf{  Jarque-Bera (JB):  } & 2378.04  \\\\\n\\textbf{Prob(Q):}                & 0.44 & \\textbf{  Prob(JB):          } &   0.00   \\\\\n\\textbf{Heteroskedasticity (H):} & 1.17 & \\textbf{  Skew:              } &   1.74   \\\\\n\\textbf{Prob(H) (two-sided):}    & 0.13 & \\textbf{  Kurtosis:          } &   9.09   \\\\\n\\bottomrule\n\\end{tabular}\n%\\caption{SARIMAX Results}\n\\end{center}\n\nWarnings: \\newline\n [1] Covariance matrix calculated using the outer product of gradients (complex-step)."
          },
          "metadata": {},
          "execution_count": 29
        }
      ]
    },
    {
      "cell_type": "markdown",
      "source": [
        "split data into training and testing"
      ],
      "metadata": {
        "id": "icaFTzu1OK37"
      }
    },
    {
      "cell_type": "code",
      "source": [
        "print(funnel.shape)"
      ],
      "metadata": {
        "id": "VkyfhKE7OI4_",
        "colab": {
          "base_uri": "https://localhost:8080/"
        },
        "outputId": "9ac3f38c-9a0b-4955-855e-1b49c1566c7e"
      },
      "execution_count": 30,
      "outputs": [
        {
          "output_type": "stream",
          "name": "stdout",
          "text": [
            "(1161, 8)\n"
          ]
        }
      ]
    },
    {
      "cell_type": "code",
      "source": [
        "train=funnel.iloc[:-30]\n",
        "test=funnel.iloc[-30:]\n",
        "print(train.shape,test.shape)"
      ],
      "metadata": {
        "id": "swqIkZH6P45J",
        "colab": {
          "base_uri": "https://localhost:8080/"
        },
        "outputId": "5a915f88-43ae-4b10-a9af-a501cf8dfa0d"
      },
      "execution_count": 31,
      "outputs": [
        {
          "output_type": "stream",
          "name": "stdout",
          "text": [
            "(1131, 8) (30, 8)\n"
          ]
        }
      ]
    },
    {
      "source": [
        "!pip install statsmodels\n",
        "\n",
        "import statsmodels.tsa.arima.model as sm_arima\n",
        "from statsmodels.tsa.arima_model import ARIMA\n",
        "model = sm_arima.ARIMA(train[\"Actual Productivity\"], order=(1, 0, 5))\n",
        "model = model.fit()\n",
        "model.summary()"
      ],
      "cell_type": "code",
      "metadata": {
        "id": "SGw2h_Y4QcPz",
        "colab": {
          "base_uri": "https://localhost:8080/",
          "height": 693
        },
        "outputId": "8ce07e10-8efc-4bd3-dd08-50be40bc903d"
      },
      "execution_count": 32,
      "outputs": [
        {
          "output_type": "stream",
          "name": "stdout",
          "text": [
            "Requirement already satisfied: statsmodels in /usr/local/lib/python3.10/dist-packages (0.14.1)\n",
            "Requirement already satisfied: numpy<2,>=1.18 in /usr/local/lib/python3.10/dist-packages (from statsmodels) (1.25.2)\n",
            "Requirement already satisfied: scipy!=1.9.2,>=1.4 in /usr/local/lib/python3.10/dist-packages (from statsmodels) (1.11.4)\n",
            "Requirement already satisfied: pandas!=2.1.0,>=1.0 in /usr/local/lib/python3.10/dist-packages (from statsmodels) (1.5.3)\n",
            "Requirement already satisfied: patsy>=0.5.4 in /usr/local/lib/python3.10/dist-packages (from statsmodels) (0.5.6)\n",
            "Requirement already satisfied: packaging>=21.3 in /usr/local/lib/python3.10/dist-packages (from statsmodels) (24.0)\n",
            "Requirement already satisfied: python-dateutil>=2.8.1 in /usr/local/lib/python3.10/dist-packages (from pandas!=2.1.0,>=1.0->statsmodels) (2.8.2)\n",
            "Requirement already satisfied: pytz>=2020.1 in /usr/local/lib/python3.10/dist-packages (from pandas!=2.1.0,>=1.0->statsmodels) (2023.4)\n",
            "Requirement already satisfied: six in /usr/local/lib/python3.10/dist-packages (from patsy>=0.5.4->statsmodels) (1.16.0)\n"
          ]
        },
        {
          "output_type": "execute_result",
          "data": {
            "text/plain": [
              "<class 'statsmodels.iolib.summary.Summary'>\n",
              "\"\"\"\n",
              "                                SARIMAX Results                                \n",
              "===============================================================================\n",
              "Dep. Variable:     Actual Productivity   No. Observations:                 1131\n",
              "Model:                  ARIMA(1, 0, 5)   Log Likelihood                 635.487\n",
              "Date:                 Sun, 17 Mar 2024   AIC                          -1254.975\n",
              "Time:                         14:45:57   BIC                          -1214.728\n",
              "Sample:                              0   HQIC                         -1239.770\n",
              "                                - 1131                                         \n",
              "Covariance Type:                   opg                                         \n",
              "==============================================================================\n",
              "                 coef    std err          z      P>|z|      [0.025      0.975]\n",
              "------------------------------------------------------------------------------\n",
              "const          0.7356      0.019     37.730      0.000       0.697       0.774\n",
              "ar.L1         -0.0814      3.027     -0.027      0.979      -6.014       5.851\n",
              "ma.L1          0.7122      3.030      0.235      0.814      -5.226       6.650\n",
              "ma.L2          0.4401      1.914      0.230      0.818      -3.312       4.192\n",
              "ma.L3          0.2424      1.186      0.204      0.838      -2.083       2.567\n",
              "ma.L4          0.1187      0.638      0.186      0.852      -1.132       1.369\n",
              "ma.L5          0.0309      0.285      0.109      0.914      -0.527       0.589\n",
              "sigma2         0.0190      0.001     28.530      0.000       0.018       0.020\n",
              "===================================================================================\n",
              "Ljung-Box (L1) (Q):                   0.00   Jarque-Bera (JB):              2090.82\n",
              "Prob(Q):                              0.99   Prob(JB):                         0.00\n",
              "Heteroskedasticity (H):               1.22   Skew:                             1.60\n",
              "Prob(H) (two-sided):                  0.05   Kurtosis:                         8.84\n",
              "===================================================================================\n",
              "\n",
              "Warnings:\n",
              "[1] Covariance matrix calculated using the outer product of gradients (complex-step).\n",
              "\"\"\""
            ],
            "text/html": [
              "<table class=\"simpletable\">\n",
              "<caption>SARIMAX Results</caption>\n",
              "<tr>\n",
              "  <th>Dep. Variable:</th>   <td>Actual Productivity</td> <th>  No. Observations:  </th>   <td>1131</td>   \n",
              "</tr>\n",
              "<tr>\n",
              "  <th>Model:</th>             <td>ARIMA(1, 0, 5)</td>    <th>  Log Likelihood     </th>  <td>635.487</td> \n",
              "</tr>\n",
              "<tr>\n",
              "  <th>Date:</th>             <td>Sun, 17 Mar 2024</td>   <th>  AIC                </th> <td>-1254.975</td>\n",
              "</tr>\n",
              "<tr>\n",
              "  <th>Time:</th>                 <td>14:45:57</td>       <th>  BIC                </th> <td>-1214.728</td>\n",
              "</tr>\n",
              "<tr>\n",
              "  <th>Sample:</th>                   <td>0</td>          <th>  HQIC               </th> <td>-1239.770</td>\n",
              "</tr>\n",
              "<tr>\n",
              "  <th></th>                       <td> - 1131</td>       <th>                     </th>     <td> </td>    \n",
              "</tr>\n",
              "<tr>\n",
              "  <th>Covariance Type:</th>         <td>opg</td>         <th>                     </th>     <td> </td>    \n",
              "</tr>\n",
              "</table>\n",
              "<table class=\"simpletable\">\n",
              "<tr>\n",
              "     <td></td>       <th>coef</th>     <th>std err</th>      <th>z</th>      <th>P>|z|</th>  <th>[0.025</th>    <th>0.975]</th>  \n",
              "</tr>\n",
              "<tr>\n",
              "  <th>const</th>  <td>    0.7356</td> <td>    0.019</td> <td>   37.730</td> <td> 0.000</td> <td>    0.697</td> <td>    0.774</td>\n",
              "</tr>\n",
              "<tr>\n",
              "  <th>ar.L1</th>  <td>   -0.0814</td> <td>    3.027</td> <td>   -0.027</td> <td> 0.979</td> <td>   -6.014</td> <td>    5.851</td>\n",
              "</tr>\n",
              "<tr>\n",
              "  <th>ma.L1</th>  <td>    0.7122</td> <td>    3.030</td> <td>    0.235</td> <td> 0.814</td> <td>   -5.226</td> <td>    6.650</td>\n",
              "</tr>\n",
              "<tr>\n",
              "  <th>ma.L2</th>  <td>    0.4401</td> <td>    1.914</td> <td>    0.230</td> <td> 0.818</td> <td>   -3.312</td> <td>    4.192</td>\n",
              "</tr>\n",
              "<tr>\n",
              "  <th>ma.L3</th>  <td>    0.2424</td> <td>    1.186</td> <td>    0.204</td> <td> 0.838</td> <td>   -2.083</td> <td>    2.567</td>\n",
              "</tr>\n",
              "<tr>\n",
              "  <th>ma.L4</th>  <td>    0.1187</td> <td>    0.638</td> <td>    0.186</td> <td> 0.852</td> <td>   -1.132</td> <td>    1.369</td>\n",
              "</tr>\n",
              "<tr>\n",
              "  <th>ma.L5</th>  <td>    0.0309</td> <td>    0.285</td> <td>    0.109</td> <td> 0.914</td> <td>   -0.527</td> <td>    0.589</td>\n",
              "</tr>\n",
              "<tr>\n",
              "  <th>sigma2</th> <td>    0.0190</td> <td>    0.001</td> <td>   28.530</td> <td> 0.000</td> <td>    0.018</td> <td>    0.020</td>\n",
              "</tr>\n",
              "</table>\n",
              "<table class=\"simpletable\">\n",
              "<tr>\n",
              "  <th>Ljung-Box (L1) (Q):</th>     <td>0.00</td> <th>  Jarque-Bera (JB):  </th> <td>2090.82</td>\n",
              "</tr>\n",
              "<tr>\n",
              "  <th>Prob(Q):</th>                <td>0.99</td> <th>  Prob(JB):          </th>  <td>0.00</td>  \n",
              "</tr>\n",
              "<tr>\n",
              "  <th>Heteroskedasticity (H):</th> <td>1.22</td> <th>  Skew:              </th>  <td>1.60</td>  \n",
              "</tr>\n",
              "<tr>\n",
              "  <th>Prob(H) (two-sided):</th>    <td>0.05</td> <th>  Kurtosis:          </th>  <td>8.84</td>  \n",
              "</tr>\n",
              "</table><br/><br/>Warnings:<br/>[1] Covariance matrix calculated using the outer product of gradients (complex-step)."
            ],
            "text/latex": "\\begin{center}\n\\begin{tabular}{lclc}\n\\toprule\n\\textbf{Dep. Variable:}          & Actual Productivity & \\textbf{  No. Observations:  } &    1131     \\\\\n\\textbf{Model:}                  &    ARIMA(1, 0, 5)   & \\textbf{  Log Likelihood     } &  635.487    \\\\\n\\textbf{Date:}                   &   Sun, 17 Mar 2024  & \\textbf{  AIC                } & -1254.975   \\\\\n\\textbf{Time:}                   &       14:45:57      & \\textbf{  BIC                } & -1214.728   \\\\\n\\textbf{Sample:}                 &          0          & \\textbf{  HQIC               } & -1239.770   \\\\\n\\textbf{}                        &        - 1131       & \\textbf{                     } &             \\\\\n\\textbf{Covariance Type:}        &         opg         & \\textbf{                     } &             \\\\\n\\bottomrule\n\\end{tabular}\n\\begin{tabular}{lcccccc}\n                & \\textbf{coef} & \\textbf{std err} & \\textbf{z} & \\textbf{P$> |$z$|$} & \\textbf{[0.025} & \\textbf{0.975]}  \\\\\n\\midrule\n\\textbf{const}  &       0.7356  &        0.019     &    37.730  &         0.000        &        0.697    &        0.774     \\\\\n\\textbf{ar.L1}  &      -0.0814  &        3.027     &    -0.027  &         0.979        &       -6.014    &        5.851     \\\\\n\\textbf{ma.L1}  &       0.7122  &        3.030     &     0.235  &         0.814        &       -5.226    &        6.650     \\\\\n\\textbf{ma.L2}  &       0.4401  &        1.914     &     0.230  &         0.818        &       -3.312    &        4.192     \\\\\n\\textbf{ma.L3}  &       0.2424  &        1.186     &     0.204  &         0.838        &       -2.083    &        2.567     \\\\\n\\textbf{ma.L4}  &       0.1187  &        0.638     &     0.186  &         0.852        &       -1.132    &        1.369     \\\\\n\\textbf{ma.L5}  &       0.0309  &        0.285     &     0.109  &         0.914        &       -0.527    &        0.589     \\\\\n\\textbf{sigma2} &       0.0190  &        0.001     &    28.530  &         0.000        &        0.018    &        0.020     \\\\\n\\bottomrule\n\\end{tabular}\n\\begin{tabular}{lclc}\n\\textbf{Ljung-Box (L1) (Q):}     & 0.00 & \\textbf{  Jarque-Bera (JB):  } & 2090.82  \\\\\n\\textbf{Prob(Q):}                & 0.99 & \\textbf{  Prob(JB):          } &   0.00   \\\\\n\\textbf{Heteroskedasticity (H):} & 1.22 & \\textbf{  Skew:              } &   1.60   \\\\\n\\textbf{Prob(H) (two-sided):}    & 0.05 & \\textbf{  Kurtosis:          } &   8.84   \\\\\n\\bottomrule\n\\end{tabular}\n%\\caption{SARIMAX Results}\n\\end{center}\n\nWarnings: \\newline\n [1] Covariance matrix calculated using the outer product of gradients (complex-step)."
          },
          "metadata": {},
          "execution_count": 32
        }
      ]
    },
    {
      "cell_type": "code",
      "source": [
        "start=len(train)\n",
        "end=len(train)+len(test)-1\n",
        "pred=model.predict(start=start,end=end,typ=\"levels\")\n",
        "print(pred)\n"
      ],
      "metadata": {
        "id": "rY9psOWASPoR",
        "colab": {
          "base_uri": "https://localhost:8080/"
        },
        "outputId": "209c7451-13a8-4fda-f190-309490598700"
      },
      "execution_count": 33,
      "outputs": [
        {
          "output_type": "stream",
          "name": "stdout",
          "text": [
            "1131    0.713554\n",
            "1132    0.722734\n",
            "1133    0.729055\n",
            "1134    0.733459\n",
            "1135    0.735384\n",
            "1136    0.735628\n",
            "1137    0.735608\n",
            "1138    0.735610\n",
            "1139    0.735610\n",
            "1140    0.735610\n",
            "1141    0.735610\n",
            "1142    0.735610\n",
            "1143    0.735610\n",
            "1144    0.735610\n",
            "1145    0.735610\n",
            "1146    0.735610\n",
            "1147    0.735610\n",
            "1148    0.735610\n",
            "1149    0.735610\n",
            "1150    0.735610\n",
            "1151    0.735610\n",
            "1152    0.735610\n",
            "1153    0.735610\n",
            "1154    0.735610\n",
            "1155    0.735610\n",
            "1156    0.735610\n",
            "1157    0.735610\n",
            "1158    0.735610\n",
            "1159    0.735610\n",
            "1160    0.735610\n",
            "Name: predicted_mean, dtype: float64\n"
          ]
        }
      ]
    },
    {
      "cell_type": "code",
      "source": [
        "pred.plot(legend=True)\n",
        "test[\"Actual Productivity\"].plot(legend=True)"
      ],
      "metadata": {
        "id": "NDcxa58RS7_H",
        "colab": {
          "base_uri": "https://localhost:8080/",
          "height": 447
        },
        "outputId": "e06c6668-a816-427c-9c7b-5e495d744be9"
      },
      "execution_count": 34,
      "outputs": [
        {
          "output_type": "execute_result",
          "data": {
            "text/plain": [
              "<Axes: >"
            ]
          },
          "metadata": {},
          "execution_count": 34
        },
        {
          "output_type": "display_data",
          "data": {
            "text/plain": [
              "<Figure size 640x480 with 1 Axes>"
            ],
            "image/png": "[encoded data removed]"
          },
          "metadata": {}
        }
      ]
    },
    {
      "cell_type": "code",
      "source": [
        "funnel[\"Actual Productivity\"].mean()"
      ],
      "metadata": {
        "id": "fI8a0HmnUKLZ",
        "colab": {
          "base_uri": "https://localhost:8080/"
        },
        "outputId": "b3096c5b-e31b-4c96-ef82-c921e0c3dd43"
      },
      "execution_count": 35,
      "outputs": [
        {
          "output_type": "execute_result",
          "data": {
            "text/plain": [
              "0.7346881252454781"
            ]
          },
          "metadata": {},
          "execution_count": 35
        }
      ]
    },
    {
      "cell_type": "code",
      "source": [
        "from sklearn.metrics import mean_squared_error\n",
        "from math import sqrt\n",
        "rmse=sqrt(mean_squared_error(pred,test[\"Actual Productivity\"]))\n",
        "print(rmse)"
      ],
      "metadata": {
        "id": "-ckRAnW4UYfg",
        "colab": {
          "base_uri": "https://localhost:8080/"
        },
        "outputId": "8da1d5ba-1fd3-4985-b638-dc9d00a33906"
      },
      "execution_count": 36,
      "outputs": [
        {
          "output_type": "stream",
          "name": "stdout",
          "text": [
            "0.1278938928623579\n"
          ]
        }
      ]
    },
    {
      "source": [
        "!pip install statsmodels\n",
        "import statsmodels.tsa.arima.model as smt\n",
        "model2 = smt.ARIMA(funnel[\"Actual Productivity\"], order=(1, 0, 5))\n",
        "model2 = model2.fit()\n",
        "funnel.tail()"
      ],
      "cell_type": "code",
      "metadata": {
        "id": "Y5o46ldtVOqy",
        "colab": {
          "base_uri": "https://localhost:8080/",
          "height": 362
        },
        "outputId": "47a5d538-cfc0-46c8-fa1b-111950f0ba9c"
      },
      "execution_count": 37,
      "outputs": [
        {
          "output_type": "stream",
          "name": "stdout",
          "text": [
            "Requirement already satisfied: statsmodels in /usr/local/lib/python3.10/dist-packages (0.14.1)\n",
            "Requirement already satisfied: numpy<2,>=1.18 in /usr/local/lib/python3.10/dist-packages (from statsmodels) (1.25.2)\n",
            "Requirement already satisfied: scipy!=1.9.2,>=1.4 in /usr/local/lib/python3.10/dist-packages (from statsmodels) (1.11.4)\n",
            "Requirement already satisfied: pandas!=2.1.0,>=1.0 in /usr/local/lib/python3.10/dist-packages (from statsmodels) (1.5.3)\n",
            "Requirement already satisfied: patsy>=0.5.4 in /usr/local/lib/python3.10/dist-packages (from statsmodels) (0.5.6)\n",
            "Requirement already satisfied: packaging>=21.3 in /usr/local/lib/python3.10/dist-packages (from statsmodels) (24.0)\n",
            "Requirement already satisfied: python-dateutil>=2.8.1 in /usr/local/lib/python3.10/dist-packages (from pandas!=2.1.0,>=1.0->statsmodels) (2.8.2)\n",
            "Requirement already satisfied: pytz>=2020.1 in /usr/local/lib/python3.10/dist-packages (from pandas!=2.1.0,>=1.0->statsmodels) (2023.4)\n",
            "Requirement already satisfied: six in /usr/local/lib/python3.10/dist-packages (from patsy>=0.5.4->statsmodels) (1.16.0)\n"
          ]
        },
        {
          "output_type": "execute_result",
          "data": {
            "text/plain": [
              "           Date Quarter Department  Targeted Productivity  Overtime  \\\n",
              "1192 2015-11-03      Q2  Finishing                   0.75       960   \n",
              "1193 2015-11-03      Q2  Finishing                   0.70       960   \n",
              "1194 2015-11-03      Q2  Finishing                   0.65       960   \n",
              "1195 2015-11-03      Q2  Finishing                   0.75      1800   \n",
              "1196 2015-11-03      Q2  Finishing                   0.70       720   \n",
              "\n",
              "      No. of Workers  Actual Productivity Target Achieved  \n",
              "1192             8.0             0.628333              No  \n",
              "1193             8.0             0.800402             Yes  \n",
              "1194             8.0             0.625625              No  \n",
              "1195            15.0             0.505889              No  \n",
              "1196             6.0             0.394722              No  "
            ],
            "text/html": [
              "\n",
              "  <div id=\"df-981216fb-2324-4f3a-9931-ad9f4b8c5c0b\" class=\"colab-df-container\">\n",
              "    <div>\n",
              "<style scoped>\n",
              "    .dataframe tbody tr th:only-of-type {\n",
              "        vertical-align: middle;\n",
              "    }\n",
              "\n",
              "    .dataframe tbody tr th {\n",
              "        vertical-align: top;\n",
              "    }\n",
              "\n",
              "    .dataframe thead th {\n",
              "        text-align: right;\n",
              "    }\n",
              "</style>\n",
              "<table border=\"1\" class=\"dataframe\">\n",
              "  <thead>\n",
              "    <tr style=\"text-align: right;\">\n",
              "      <th></th>\n",
              "      <th>Date</th>\n",
              "      <th>Quarter</th>\n",
              "      <th>Department</th>\n",
              "      <th>Targeted Productivity</th>\n",
              "      <th>Overtime</th>\n",
              "      <th>No. of Workers</th>\n",
              "      <th>Actual Productivity</th>\n",
              "      <th>Target Achieved</th>\n",
              "    </tr>\n",
              "  </thead>\n",
              "  <tbody>\n",
              "    <tr>\n",
              "      <th>1192</th>\n",
              "      <td>2015-11-03</td>\n",
              "      <td>Q2</td>\n",
              "      <td>Finishing</td>\n",
              "      <td>0.75</td>\n",
              "      <td>960</td>\n",
              "      <td>8.0</td>\n",
              "      <td>0.628333</td>\n",
              "      <td>No</td>\n",
              "    </tr>\n",
              "    <tr>\n",
              "      <th>1193</th>\n",
              "      <td>2015-11-03</td>\n",
              "      <td>Q2</td>\n",
              "      <td>Finishing</td>\n",
              "      <td>0.70</td>\n",
              "      <td>960</td>\n",
              "      <td>8.0</td>\n",
              "      <td>0.800402</td>\n",
              "      <td>Yes</td>\n",
              "    </tr>\n",
              "    <tr>\n",
              "      <th>1194</th>\n",
              "      <td>2015-11-03</td>\n",
              "      <td>Q2</td>\n",
              "      <td>Finishing</td>\n",
              "      <td>0.65</td>\n",
              "      <td>960</td>\n",
              "      <td>8.0</td>\n",
              "      <td>0.625625</td>\n",
              "      <td>No</td>\n",
              "    </tr>\n",
              "    <tr>\n",
              "      <th>1195</th>\n",
              "      <td>2015-11-03</td>\n",
              "      <td>Q2</td>\n",
              "      <td>Finishing</td>\n",
              "      <td>0.75</td>\n",
              "      <td>1800</td>\n",
              "      <td>15.0</td>\n",
              "      <td>0.505889</td>\n",
              "      <td>No</td>\n",
              "    </tr>\n",
              "    <tr>\n",
              "      <th>1196</th>\n",
              "      <td>2015-11-03</td>\n",
              "      <td>Q2</td>\n",
              "      <td>Finishing</td>\n",
              "      <td>0.70</td>\n",
              "      <td>720</td>\n",
              "      <td>6.0</td>\n",
              "      <td>0.394722</td>\n",
              "      <td>No</td>\n",
              "    </tr>\n",
              "  </tbody>\n",
              "</table>\n",
              "</div>\n",
              "    <div class=\"colab-df-buttons\">\n",
              "\n",
              "  <div class=\"colab-df-container\">\n",
              "    <button class=\"colab-df-convert\" onclick=\"convertToInteractive('df-981216fb-2324-4f3a-9931-ad9f4b8c5c0b')\"\n",
              "            title=\"Convert this dataframe to an interactive table.\"\n",
              "            style=\"display:none;\">\n",
              "\n",
              "  <svg xmlns=\"http://www.w3.org/2000/svg\" height=\"24px\" viewBox=\"0 -960 960 960\">\n",
              "    <path d=\"M120-120v-720h720v720H120Zm60-500h600v-160H180v160Zm220 220h160v-160H400v160Zm0 220h160v-160H400v160ZM180-400h160v-160H180v160Zm440 0h160v-160H620v160ZM180-180h160v-160H180v160Zm440 0h160v-160H620v160Z\"/>\n",
              "  </svg>\n",
              "    </button>\n",
              "\n",
              "  <style>\n",
              "    .colab-df-container {\n",
              "      display:flex;\n",
              "      gap: 12px;\n",
              "    }\n",
              "\n",
              "    .colab-df-convert {\n",
              "      background-color: #E8F0FE;\n",
              "      border: none;\n",
              "      border-radius: 50%;\n",
              "      cursor: pointer;\n",
              "      display: none;\n",
              "      fill: #1967D2;\n",
              "      height: 32px;\n",
              "      padding: 0 0 0 0;\n",
              "      width: 32px;\n",
              "    }\n",
              "\n",
              "    .colab-df-convert:hover {\n",
              "      background-color: #E2EBFA;\n",
              "      box-shadow: 0px 1px 2px rgba(60, 64, 67, 0.3), 0px 1px 3px 1px rgba(60, 64, 67, 0.15);\n",
              "      fill: #174EA6;\n",
              "    }\n",
              "\n",
              "    .colab-df-buttons div {\n",
              "      margin-bottom: 4px;\n",
              "    }\n",
              "\n",
              "    [theme=dark] .colab-df-convert {\n",
              "      background-color: #3B4455;\n",
              "      fill: #D2E3FC;\n",
              "    }\n",
              "\n",
              "    [theme=dark] .colab-df-convert:hover {\n",
              "      background-color: #434B5C;\n",
              "      box-shadow: 0px 1px 3px 1px rgba(0, 0, 0, 0.15);\n",
              "      filter: drop-shadow(0px 1px 2px rgba(0, 0, 0, 0.3));\n",
              "      fill: #FFFFFF;\n",
              "    }\n",
              "  </style>\n",
              "\n",
              "    <script>\n",
              "      const buttonEl =\n",
              "        document.querySelector('#df-981216fb-2324-4f3a-9931-ad9f4b8c5c0b button.colab-df-convert');\n",
              "      buttonEl.style.display =\n",
              "        google.colab.kernel.accessAllowed ? 'block' : 'none';\n",
              "\n",
              "      async function convertToInteractive(key) {\n",
              "        const element = document.querySelector('#df-981216fb-2324-4f3a-9931-ad9f4b8c5c0b');\n",
              "        const dataTable =\n",
              "          await google.colab.kernel.invokeFunction('convertToInteractive',\n",
              "                                                    [key], {});\n",
              "        if (!dataTable) return;\n",
              "\n",
              "        const docLinkHtml = 'Like what you see? Visit the ' +\n",
              "          '<a target=\"_blank\" href=https://colab.research.google.com/notebooks/data_table.ipynb>data table notebook</a>'\n",
              "          + ' to learn more about interactive tables.';\n",
              "        element.innerHTML = '';\n",
              "        dataTable['output_type'] = 'display_data';\n",
              "        await google.colab.output.renderOutput(dataTable, element);\n",
              "        const docLink = document.createElement('div');\n",
              "        docLink.innerHTML = docLinkHtml;\n",
              "        element.appendChild(docLink);\n",
              "      }\n",
              "    </script>\n",
              "  </div>\n",
              "\n",
              "\n",
              "<div id=\"df-b745ef60-4d08-47f5-9666-a726ac950e9f\">\n",
              "  <button class=\"colab-df-quickchart\" onclick=\"quickchart('df-b745ef60-4d08-47f5-9666-a726ac950e9f')\"\n",
              "            title=\"Suggest charts\"\n",
              "            style=\"display:none;\">\n",
              "\n",
              "<svg xmlns=\"http://www.w3.org/2000/svg\" height=\"24px\"viewBox=\"0 0 24 24\"\n",
              "     width=\"24px\">\n",
              "    <g>\n",
              "        <path d=\"M19 3H5c-1.1 0-2 .9-2 2v14c0 1.1.9 2 2 2h14c1.1 0 2-.9 2-2V5c0-1.1-.9-2-2-2zM9 17H7v-7h2v7zm4 0h-2V7h2v10zm4 0h-2v-4h2v4z\"/>\n",
              "    </g>\n",
              "</svg>\n",
              "  </button>\n",
              "\n",
              "<style>\n",
              "  .colab-df-quickchart {\n",
              "      --bg-color: #E8F0FE;\n",
              "      --fill-color: #1967D2;\n",
              "      --hover-bg-color: #E2EBFA;\n",
              "      --hover-fill-color: #174EA6;\n",
              "      --disabled-fill-color: #AAA;\n",
              "      --disabled-bg-color: #DDD;\n",
              "  }\n",
              "\n",
              "  [theme=dark] .colab-df-quickchart {\n",
              "      --bg-color: #3B4455;\n",
              "      --fill-color: #D2E3FC;\n",
              "      --hover-bg-color: #434B5C;\n",
              "      --hover-fill-color: #FFFFFF;\n",
              "      --disabled-bg-color: #3B4455;\n",
              "      --disabled-fill-color: #666;\n",
              "  }\n",
              "\n",
              "  .colab-df-quickchart {\n",
              "    background-color: var(--bg-color);\n",
              "    border: none;\n",
              "    border-radius: 50%;\n",
              "    cursor: pointer;\n",
              "    display: none;\n",
              "    fill: var(--fill-color);\n",
              "    height: 32px;\n",
              "    padding: 0;\n",
              "    width: 32px;\n",
              "  }\n",
              "\n",
              "  .colab-df-quickchart:hover {\n",
              "    background-color: var(--hover-bg-color);\n",
              "    box-shadow: 0 1px 2px rgba(60, 64, 67, 0.3), 0 1px 3px 1px rgba(60, 64, 67, 0.15);\n",
              "    fill: var(--button-hover-fill-color);\n",
              "  }\n",
              "\n",
              "  .colab-df-quickchart-complete:disabled,\n",
              "  .colab-df-quickchart-complete:disabled:hover {\n",
              "    background-color: var(--disabled-bg-color);\n",
              "    fill: var(--disabled-fill-color);\n",
              "    box-shadow: none;\n",
              "  }\n",
              "\n",
              "  .colab-df-spinner {\n",
              "    border: 2px solid var(--fill-color);\n",
              "    border-color: transparent;\n",
              "    border-bottom-color: var(--fill-color);\n",
              "    animation:\n",
              "      spin 1s steps(1) infinite;\n",
              "  }\n",
              "\n",
              "  @keyframes spin {\n",
              "    0% {\n",
              "      border-color: transparent;\n",
              "      border-bottom-color: var(--fill-color);\n",
              "      border-left-color: var(--fill-color);\n",
              "    }\n",
              "    20% {\n",
              "      border-color: transparent;\n",
              "      border-left-color: var(--fill-color);\n",
              "      border-top-color: var(--fill-color);\n",
              "    }\n",
              "    30% {\n",
              "      border-color: transparent;\n",
              "      border-left-color: var(--fill-color);\n",
              "      border-top-color: var(--fill-color);\n",
              "      border-right-color: var(--fill-color);\n",
              "    }\n",
              "    40% {\n",
              "      border-color: transparent;\n",
              "      border-right-color: var(--fill-color);\n",
              "      border-top-color: var(--fill-color);\n",
              "    }\n",
              "    60% {\n",
              "      border-color: transparent;\n",
              "      border-right-color: var(--fill-color);\n",
              "    }\n",
              "    80% {\n",
              "      border-color: transparent;\n",
              "      border-right-color: var(--fill-color);\n",
              "      border-bottom-color: var(--fill-color);\n",
              "    }\n",
              "    90% {\n",
              "      border-color: transparent;\n",
              "      border-bottom-color: var(--fill-color);\n",
              "    }\n",
              "  }\n",
              "</style>\n",
              "\n",
              "  <script>\n",
              "    async function quickchart(key) {\n",
              "      const quickchartButtonEl =\n",
              "        document.querySelector('#' + key + ' button');\n",
              "      quickchartButtonEl.disabled = true;  // To prevent multiple clicks.\n",
              "      quickchartButtonEl.classList.add('colab-df-spinner');\n",
              "      try {\n",
              "        const charts = await google.colab.kernel.invokeFunction(\n",
              "            'suggestCharts', [key], {});\n",
              "      } catch (error) {\n",
              "        console.error('Error during call to suggestCharts:', error);\n",
              "      }\n",
              "      quickchartButtonEl.classList.remove('colab-df-spinner');\n",
              "      quickchartButtonEl.classList.add('colab-df-quickchart-complete');\n",
              "    }\n",
              "    (() => {\n",
              "      let quickchartButtonEl =\n",
              "        document.querySelector('#df-b745ef60-4d08-47f5-9666-a726ac950e9f button');\n",
              "      quickchartButtonEl.style.display =\n",
              "        google.colab.kernel.accessAllowed ? 'block' : 'none';\n",
              "    })();\n",
              "  </script>\n",
              "</div>\n",
              "\n",
              "    </div>\n",
              "  </div>\n"
            ],
            "application/vnd.google.colaboratory.intrinsic+json": {
              "type": "dataframe",
              "summary": "{\n  \"name\": \"funnel\",\n  \"rows\": 5,\n  \"fields\": [\n    {\n      \"column\": \"Date\",\n      \"properties\": {\n        \"dtype\": \"date\",\n        \"min\": \"2015-11-03 00:00:00\",\n        \"max\": \"2015-11-03 00:00:00\",\n        \"num_unique_values\": 1,\n        \"samples\": [\n          \"2015-11-03 00:00:00\"\n        ],\n        \"semantic_type\": \"\",\n        \"description\": \"\"\n      }\n    },\n    {\n      \"column\": \"Quarter\",\n      \"properties\": {\n        \"dtype\": \"category\",\n        \"num_unique_values\": 1,\n        \"samples\": [\n          \"Q2\"\n        ],\n        \"semantic_type\": \"\",\n        \"description\": \"\"\n      }\n    },\n    {\n      \"column\": \"Department\",\n      \"properties\": {\n        \"dtype\": \"category\",\n        \"num_unique_values\": 1,\n        \"samples\": [\n          \"Finishing\"\n        ],\n        \"semantic_type\": \"\",\n        \"description\": \"\"\n      }\n    },\n    {\n      \"column\": \"Targeted Productivity\",\n      \"properties\": {\n        \"dtype\": \"number\",\n        \"std\": 0.04183300132670377,\n        \"min\": 0.65,\n        \"max\": 0.75,\n        \"num_unique_values\": 3,\n        \"samples\": [\n          0.75\n        ],\n        \"semantic_type\": \"\",\n        \"description\": \"\"\n      }\n    },\n    {\n      \"column\": \"Overtime\",\n      \"properties\": {\n        \"dtype\": \"number\",\n        \"std\": 415,\n        \"min\": 720,\n        \"max\": 1800,\n        \"num_unique_values\": 3,\n        \"samples\": [\n          960\n        ],\n        \"semantic_type\": \"\",\n        \"description\": \"\"\n      }\n    },\n    {\n      \"column\": \"No. of Workers\",\n      \"properties\": {\n        \"dtype\": \"number\",\n        \"std\": 3.4641016151377544,\n        \"min\": 6.0,\n        \"max\": 15.0,\n        \"num_unique_values\": 3,\n        \"samples\": [\n          8.0\n        ],\n        \"semantic_type\": \"\",\n        \"description\": \"\"\n      }\n    },\n    {\n      \"column\": \"Actual Productivity\",\n      \"properties\": {\n        \"dtype\": \"number\",\n        \"std\": 0.15183108775648618,\n        \"min\": 0.394722222,\n        \"max\": 0.800401961,\n        \"num_unique_values\": 5,\n        \"samples\": [\n          0.800401961\n        ],\n        \"semantic_type\": \"\",\n        \"description\": \"\"\n      }\n    },\n    {\n      \"column\": \"Target Achieved\",\n      \"properties\": {\n        \"dtype\": \"category\",\n        \"num_unique_values\": 2,\n        \"samples\": [\n          \"Yes\"\n        ],\n        \"semantic_type\": \"\",\n        \"description\": \"\"\n      }\n    }\n  ]\n}"
            }
          },
          "metadata": {},
          "execution_count": 37
        }
      ]
    },
    {
      "cell_type": "code",
      "source": [
        "index_future_dates=pd.date_range(start=\"2015-11-03\",end=\"2015-12-03\")\n",
        "\n",
        "pred=model2.predict(start=len(funnel),end=len(funnel)+30,typ=\"levels\").rename(\"ARIMA Predictions\")\n",
        "\n",
        "pred.index = index_future_dates[:31]\n",
        "print(pred)"
      ],
      "metadata": {
        "id": "iHl6ix_zVE4J",
        "colab": {
          "base_uri": "https://localhost:8080/"
        },
        "outputId": "858358d5-8f74-44e1-aa61-1084d17b8035"
      },
      "execution_count": 38,
      "outputs": [
        {
          "output_type": "stream",
          "name": "stdout",
          "text": [
            "2015-11-03    0.526462\n",
            "2015-11-04    0.610704\n",
            "2015-11-05    0.672812\n",
            "2015-11-06    0.711095\n",
            "2015-11-07    0.730439\n",
            "2015-11-08    0.734843\n",
            "2015-11-09    0.734511\n",
            "2015-11-10    0.734536\n",
            "2015-11-11    0.734534\n",
            "2015-11-12    0.734534\n",
            "2015-11-13    0.734534\n",
            "2015-11-14    0.734534\n",
            "2015-11-15    0.734534\n",
            "2015-11-16    0.734534\n",
            "2015-11-17    0.734534\n",
            "2015-11-18    0.734534\n",
            "2015-11-19    0.734534\n",
            "2015-11-20    0.734534\n",
            "2015-11-21    0.734534\n",
            "2015-11-22    0.734534\n",
            "2015-11-23    0.734534\n",
            "2015-11-24    0.734534\n",
            "2015-11-25    0.734534\n",
            "2015-11-26    0.734534\n",
            "2015-11-27    0.734534\n",
            "2015-11-28    0.734534\n",
            "2015-11-29    0.734534\n",
            "2015-11-30    0.734534\n",
            "2015-12-01    0.734534\n",
            "2015-12-02    0.734534\n",
            "2015-12-03    0.734534\n",
            "Freq: D, Name: ARIMA Predictions, dtype: float64\n"
          ]
        }
      ]
    },
    {
      "source": [
        "pred.plot(figsize=(12,5),legend=True)"
      ],
      "cell_type": "code",
      "metadata": {
        "id": "QfEC3AozWiZR",
        "colab": {
          "base_uri": "https://localhost:8080/",
          "height": 511
        },
        "outputId": "95902690-244b-4bab-d50c-b1d5e0d61006"
      },
      "execution_count": 39,
      "outputs": [
        {
          "output_type": "execute_result",
          "data": {
            "text/plain": [
              "<Axes: >"
            ]
          },
          "metadata": {},
          "execution_count": 39
        },
        {
          "output_type": "display_data",
          "data": {
            "text/plain": [
              "<Figure size 1200x500 with 1 Axes>"
            ],
            "image/png": "[encoded data removed]"
          },
          "metadata": {}
        }
      ]
    },
    {
      "cell_type": "markdown",
      "source": [
        "# Rolling Averages"
      ],
      "metadata": {
        "id": "r439g03J-QIl"
      }
    },
    {
      "cell_type": "code",
      "source": [
        "sns.lineplot(data=funnel,x=\"Date\",y=\"Actual Productivity\")"
      ],
      "metadata": {
        "id": "ailB2qzvV5Be",
        "colab": {
          "base_uri": "https://localhost:8080/",
          "height": 466
        },
        "outputId": "c1814aae-a42a-4080-8c6e-0c283b32a14e"
      },
      "execution_count": 40,
      "outputs": [
        {
          "output_type": "execute_result",
          "data": {
            "text/plain": [
              "<Axes: xlabel='Date', ylabel='Actual Productivity'>"
            ]
          },
          "metadata": {},
          "execution_count": 40
        },
        {
          "output_type": "display_data",
          "data": {
            "text/plain": [
              "<Figure size 640x480 with 1 Axes>"
            ],
            "image/png": "[encoded data removed]"
          },
          "metadata": {}
        }
      ]
    },
    {
      "cell_type": "code",
      "source": [
        "funnel[\"Rolling_30\"]=funnel[\"Actual Productivity\"].rolling(window=30,min_periods=1).mean()\n",
        "funnel[\"Rolling_50\"]=funnel[\"Actual Productivity\"].rolling(window=50,min_periods=1).mean()\n",
        "funnel[\"Rolling_100\"]=funnel[\"Actual Productivity\"].rolling(window=100,min_periods=1).mean()\n",
        "funnel[\"Rolling_120\"]=funnel[\"Actual Productivity\"].rolling(window=120,min_periods=1).mean()"
      ],
      "metadata": {
        "id": "oq4nONez7XYX"
      },
      "execution_count": 41,
      "outputs": []
    },
    {
      "cell_type": "code",
      "source": [
        "funnel.plot.line(x=\"Date\",y=[\"Rolling_30\",\"Rolling_50\",\"Rolling_100\",\"Rolling_120\"],legend=\"auto\")"
      ],
      "metadata": {
        "id": "mMELTX4T8MiU",
        "colab": {
          "base_uri": "https://localhost:8080/",
          "height": 450
        },
        "outputId": "4084c4d0-72e9-4a65-9936-6495437a784a"
      },
      "execution_count": 42,
      "outputs": [
        {
          "output_type": "execute_result",
          "data": {
            "text/plain": [
              "<Axes: xlabel='Date'>"
            ]
          },
          "metadata": {},
          "execution_count": 42
        },
        {
          "output_type": "display_data",
          "data": {
            "text/plain": [
              "<Figure size 640x480 with 1 Axes>"
            ],
            "image/png": "[encoded data removed]"
          },
          "metadata": {}
        }
      ]
    },
    {
      "cell_type": "markdown",
      "source": [
        "# Q2c"
      ],
      "metadata": {
        "id": "TskHG57fDhb9"
      }
    },
    {
      "cell_type": "code",
      "source": [
        "funnel.columns"
      ],
      "metadata": {
        "id": "l0ehSRqY888d",
        "colab": {
          "base_uri": "https://localhost:8080/"
        },
        "outputId": "af576d95-6e2d-4226-a43e-1a32ddb77766"
      },
      "execution_count": 43,
      "outputs": [
        {
          "output_type": "execute_result",
          "data": {
            "text/plain": [
              "Index(['Date', 'Quarter', 'Department', 'Targeted Productivity', 'Overtime',\n",
              "       'No. of Workers', 'Actual Productivity', 'Target Achieved',\n",
              "       'Rolling_30', 'Rolling_50', 'Rolling_100', 'Rolling_120'],\n",
              "      dtype='object')"
            ]
          },
          "metadata": {},
          "execution_count": 43
        }
      ]
    },
    {
      "cell_type": "code",
      "source": [
        "X=funnel.iloc[:,0:1]\n",
        "y=funnel.iloc[:,-1]"
      ],
      "metadata": {
        "id": "62Q7fD7y_8JJ"
      },
      "execution_count": 44,
      "outputs": []
    },
    {
      "cell_type": "code",
      "source": [
        "y"
      ],
      "metadata": {
        "id": "vGTM2la1_15e",
        "colab": {
          "base_uri": "https://localhost:8080/"
        },
        "outputId": "626c4f4f-d6c3-4114-be28-cf61305d25bb"
      },
      "execution_count": 45,
      "outputs": [
        {
          "output_type": "execute_result",
          "data": {
            "text/plain": [
              "0       0.940725\n",
              "1       0.913613\n",
              "2       0.875932\n",
              "4       0.857049\n",
              "5       0.845665\n",
              "          ...   \n",
              "1192    0.733697\n",
              "1193    0.732640\n",
              "1194    0.730613\n",
              "1195    0.728057\n",
              "1196    0.724595\n",
              "Name: Rolling_120, Length: 1161, dtype: float64"
            ]
          },
          "metadata": {},
          "execution_count": 45
        }
      ]
    },
    {
      "cell_type": "code",
      "source": [
        "from sklearn.model_selection import train_test_split\n",
        "X_train,X_test,y_train,y_test=train_test_split(X,y,test_size=0.2,random_state=2)"
      ],
      "metadata": {
        "id": "ueW29LAJ-9Hn"
      },
      "execution_count": 46,
      "outputs": []
    },
    {
      "cell_type": "code",
      "source": [
        "from sklearn.linear_model import LinearRegression"
      ],
      "metadata": {
        "id": "UaTtXnuNAI4h"
      },
      "execution_count": 47,
      "outputs": []
    },
    {
      "cell_type": "code",
      "source": [
        "lr=LinearRegression()"
      ],
      "metadata": {
        "id": "LlM5MHTuAcj6"
      },
      "execution_count": 48,
      "outputs": []
    },
    {
      "cell_type": "code",
      "source": [
        "lr.fit(X_train,y_train)"
      ],
      "metadata": {
        "id": "yTvR7m9wAfyy",
        "colab": {
          "base_uri": "https://localhost:8080/",
          "height": 74
        },
        "outputId": "27201700-85b7-4471-bc8e-5a9ce1b38555"
      },
      "execution_count": 49,
      "outputs": [
        {
          "output_type": "execute_result",
          "data": {
            "text/plain": [
              "LinearRegression()"
            ],
            "text/html": [
              "<style>#sk-container-id-1 {color: black;background-color: white;}#sk-container-id-1 pre{padding: 0;}#sk-container-id-1 div.sk-toggleable {background-color: white;}#sk-container-id-1 label.sk-toggleable__label {cursor: pointer;display: block;width: 100%;margin-bottom: 0;padding: 0.3em;box-sizing: border-box;text-align: center;}#sk-container-id-1 label.sk-toggleable__label-arrow:before {content: \"▸\";float: left;margin-right: 0.25em;color: #696969;}#sk-container-id-1 label.sk-toggleable__label-arrow:hover:before {color: black;}#sk-container-id-1 div.sk-estimator:hover label.sk-toggleable__label-arrow:before {color: black;}#sk-container-id-1 div.sk-toggleable__content {max-height: 0;max-width: 0;overflow: hidden;text-align: left;background-color: #f0f8ff;}#sk-container-id-1 div.sk-toggleable__content pre {margin: 0.2em;color: black;border-radius: 0.25em;background-color: #f0f8ff;}#sk-container-id-1 input.sk-toggleable__control:checked~div.sk-toggleable__content {max-height: 200px;max-width: 100%;overflow: auto;}#sk-container-id-1 input.sk-toggleable__control:checked~label.sk-toggleable__label-arrow:before {content: \"▾\";}#sk-container-id-1 div.sk-estimator input.sk-toggleable__control:checked~label.sk-toggleable__label {background-color: #d4ebff;}#sk-container-id-1 div.sk-label input.sk-toggleable__control:checked~label.sk-toggleable__label {background-color: #d4ebff;}#sk-container-id-1 input.sk-hidden--visually {border: 0;clip: rect(1px 1px 1px 1px);clip: rect(1px, 1px, 1px, 1px);height: 1px;margin: -1px;overflow: hidden;padding: 0;position: absolute;width: 1px;}#sk-container-id-1 div.sk-estimator {font-family: monospace;background-color: #f0f8ff;border: 1px dotted black;border-radius: 0.25em;box-sizing: border-box;margin-bottom: 0.5em;}#sk-container-id-1 div.sk-estimator:hover {background-color: #d4ebff;}#sk-container-id-1 div.sk-parallel-item::after {content: \"\";width: 100%;border-bottom: 1px solid gray;flex-grow: 1;}#sk-container-id-1 div.sk-label:hover label.sk-toggleable__label {background-color: #d4ebff;}#sk-container-id-1 div.sk-serial::before {content: \"\";position: absolute;border-left: 1px solid gray;box-sizing: border-box;top: 0;bottom: 0;left: 50%;z-index: 0;}#sk-container-id-1 div.sk-serial {display: flex;flex-direction: column;align-items: center;background-color: white;padding-right: 0.2em;padding-left: 0.2em;position: relative;}#sk-container-id-1 div.sk-item {position: relative;z-index: 1;}#sk-container-id-1 div.sk-parallel {display: flex;align-items: stretch;justify-content: center;background-color: white;position: relative;}#sk-container-id-1 div.sk-item::before, #sk-container-id-1 div.sk-parallel-item::before {content: \"\";position: absolute;border-left: 1px solid gray;box-sizing: border-box;top: 0;bottom: 0;left: 50%;z-index: -1;}#sk-container-id-1 div.sk-parallel-item {display: flex;flex-direction: column;z-index: 1;position: relative;background-color: white;}#sk-container-id-1 div.sk-parallel-item:first-child::after {align-self: flex-end;width: 50%;}#sk-container-id-1 div.sk-parallel-item:last-child::after {align-self: flex-start;width: 50%;}#sk-container-id-1 div.sk-parallel-item:only-child::after {width: 0;}#sk-container-id-1 div.sk-dashed-wrapped {border: 1px dashed gray;margin: 0 0.4em 0.5em 0.4em;box-sizing: border-box;padding-bottom: 0.4em;background-color: white;}#sk-container-id-1 div.sk-label label {font-family: monospace;font-weight: bold;display: inline-block;line-height: 1.2em;}#sk-container-id-1 div.sk-label-container {text-align: center;}#sk-container-id-1 div.sk-container {/* jupyter's `normalize.less` sets `[hidden] { display: none; }` but bootstrap.min.css set `[hidden] { display: none !important; }` so we also need the `!important` here to be able to override the default hidden behavior on the sphinx rendered scikit-learn.org. See: https://github.com/scikit-learn/scikit-learn/issues/21755 */display: inline-block !important;position: relative;}#sk-container-id-1 div.sk-text-repr-fallback {display: none;}</style><div id=\"sk-container-id-1\" class=\"sk-top-container\"><div class=\"sk-text-repr-fallback\"><pre>LinearRegression()</pre><b>In a Jupyter environment, please rerun this cell to show the HTML representation or trust the notebook. <br />On GitHub, the HTML representation is unable to render, please try loading this page with nbviewer.org.</b></div><div class=\"sk-container\" hidden><div class=\"sk-item\"><div class=\"sk-estimator sk-toggleable\"><input class=\"sk-toggleable__control sk-hidden--visually\" id=\"sk-estimator-id-1\" type=\"checkbox\" checked><label for=\"sk-estimator-id-1\" class=\"sk-toggleable__label sk-toggleable__label-arrow\">LinearRegression</label><div class=\"sk-toggleable__content\"><pre>LinearRegression()</pre></div></div></div></div></div>"
            ]
          },
          "metadata": {},
          "execution_count": 49
        }
      ]
    },
    {
      "source": [
        "# Convert the 'Date' column to a string for compatibility with LinearRegression\n",
        "funnel['Date'] = funnel['Date'].astype(str)\n",
        "\n",
        "X_train, X_test, y_train, y_test = train_test_split(funnel[\"Targeted Productivity\"], funnel[\"Actual Productivity\"], test_size=0.2, random_state=2)\n",
        "\n",
        "lr = LinearRegression()\n",
        "lr.fit(X_train.values.reshape(-1, 1), y_train)\n",
        "\n",
        "plt.scatter(funnel[\"Targeted Productivity\"], funnel[\"Actual Productivity\"])\n",
        "plt.plot(X_train, lr.predict(X_train.values.reshape(-1, 1)), color=\"red\")\n",
        "plt.show()"
      ],
      "cell_type": "code",
      "metadata": {
        "id": "iv44YbXkBQKh",
        "colab": {
          "base_uri": "https://localhost:8080/",
          "height": 430
        },
        "outputId": "0dcb54c3-1549-4dcd-fbfa-8ab7a250f560"
      },
      "execution_count": 50,
      "outputs": [
        {
          "output_type": "display_data",
          "data": {
            "text/plain": [
              "<Figure size 640x480 with 1 Axes>"
            ],
            "image/png": "[encoded data removed]"
          },
          "metadata": {}
        }
      ]
    },
    {
      "cell_type": "code",
      "source": [
        "from sklearn.metrics import mean_squared_error,r2_score,mean_absolute_percentage_error,mean_absolute_error"
      ],
      "metadata": {
        "id": "qfTy2rQVA-Id"
      },
      "execution_count": 51,
      "outputs": []
    },
    {
      "source": [
        "# Reshape X_test to a 2D array using numpy\n",
        "X_test = np.array(X_test).reshape(-1, 1)\n",
        "\n",
        "# Predict using the reshaped X_test\n",
        "y_pred = lr.predict(X_test)"
      ],
      "cell_type": "code",
      "metadata": {
        "id": "Zt8emxbfU-u7"
      },
      "execution_count": 52,
      "outputs": []
    },
    {
      "cell_type": "code",
      "source": [
        "y_pred"
      ],
      "metadata": {
        "id": "NoSHDiiWBv7P",
        "colab": {
          "base_uri": "https://localhost:8080/"
        },
        "outputId": "915f158e-49fb-42f3-b523-9f0a7b7c6cc1"
      },
      "execution_count": 53,
      "outputs": [
        {
          "output_type": "execute_result",
          "data": {
            "text/plain": [
              "array([0.78568803, 0.67615346, 0.74917651, 0.78568803, 0.63964193,\n",
              "       0.71266498, 0.74917651, 0.71266498, 0.4570843 , 0.78568803,\n",
              "       0.71266498, 0.71266498, 0.74917651, 0.71266498, 0.78568803,\n",
              "       0.49359583, 0.63964193, 0.71266498, 0.71266498, 0.78568803,\n",
              "       0.78568803, 0.71266498, 0.71266498, 0.56661888, 0.63964193,\n",
              "       0.4570843 , 0.78568803, 0.74917651, 0.78568803, 0.78568803,\n",
              "       0.78568803, 0.78568803, 0.74917651, 0.56661888, 0.71266498,\n",
              "       0.71266498, 0.78568803, 0.78568803, 0.56661888, 0.78568803,\n",
              "       0.78568803, 0.78568803, 0.78568803, 0.78568803, 0.78568803,\n",
              "       0.78568803, 0.74917651, 0.78568803, 0.78568803, 0.78568803,\n",
              "       0.78568803, 0.78568803, 0.78568803, 0.78568803, 0.78568803,\n",
              "       0.74917651, 0.78568803, 0.63964193, 0.71266498, 0.56661888,\n",
              "       0.78568803, 0.71266498, 0.63964193, 0.74917651, 0.71266498,\n",
              "       0.56661888, 0.78568803, 0.78568803, 0.71266498, 0.78568803,\n",
              "       0.67615346, 0.78568803, 0.78568803, 0.74917651, 0.78568803,\n",
              "       0.74917651, 0.63964193, 0.78568803, 0.78568803, 0.78568803,\n",
              "       0.74917651, 0.71266498, 0.56661888, 0.63964193, 0.71266498,\n",
              "       0.63964193, 0.71266498, 0.78568803, 0.71266498, 0.78568803,\n",
              "       0.71266498, 0.56661888, 0.67615346, 0.71266498, 0.74917651,\n",
              "       0.56661888, 0.78568803, 0.74917651, 0.71266498, 0.74917651,\n",
              "       0.78568803, 0.78568803, 0.71266498, 0.74917651, 0.78568803,\n",
              "       0.71266498, 0.71266498, 0.78568803, 0.78568803, 0.78568803,\n",
              "       0.78568803, 0.67615346, 0.78568803, 0.71266498, 0.78568803,\n",
              "       0.67615346, 0.71266498, 0.74917651, 0.4570843 , 0.78568803,\n",
              "       0.78568803, 0.74917651, 0.74917651, 0.74917651, 0.63964193,\n",
              "       0.71266498, 0.74917651, 0.63964193, 0.71266498, 0.71266498,\n",
              "       0.78568803, 0.78568803, 0.74917651, 0.78568803, 0.74917651,\n",
              "       0.78568803, 0.67615346, 0.74917651, 0.71266498, 0.78568803,\n",
              "       0.67615346, 0.74917651, 0.74917651, 0.71266498, 0.78568803,\n",
              "       0.74917651, 0.71266498, 0.78568803, 0.74917651, 0.78568803,\n",
              "       0.63964193, 0.78568803, 0.78568803, 0.78568803, 0.78568803,\n",
              "       0.71266498, 0.67615346, 0.78568803, 0.78568803, 0.78568803,\n",
              "       0.78568803, 0.78568803, 0.78568803, 0.71266498, 0.63964193,\n",
              "       0.78568803, 0.78568803, 0.71266498, 0.78568803, 0.63964193,\n",
              "       0.74917651, 0.71266498, 0.78568803, 0.74917651, 0.25261976,\n",
              "       0.78568803, 0.67615346, 0.74917651, 0.78568803, 0.78568803,\n",
              "       0.78568803, 0.78568803, 0.78568803, 0.74917651, 0.78568803,\n",
              "       0.71266498, 0.78568803, 0.78568803, 0.56661888, 0.74917651,\n",
              "       0.71266498, 0.74917651, 0.78568803, 0.78568803, 0.78568803,\n",
              "       0.78568803, 0.71266498, 0.78568803, 0.71266498, 0.78568803,\n",
              "       0.67615346, 0.78568803, 0.78568803, 0.63964193, 0.63964193,\n",
              "       0.74917651, 0.78568803, 0.78568803, 0.71266498, 0.74917651,\n",
              "       0.71266498, 0.78568803, 0.74917651, 0.74917651, 0.78568803,\n",
              "       0.71266498, 0.78568803, 0.4570843 , 0.74917651, 0.71266498,\n",
              "       0.63964193, 0.71266498, 0.71266498, 0.74917651, 0.78568803,\n",
              "       0.78568803, 0.78568803, 0.78568803, 0.71266498, 0.78568803,\n",
              "       0.78568803, 0.63964193, 0.74917651])"
            ]
          },
          "metadata": {},
          "execution_count": 53
        }
      ]
    },
    {
      "cell_type": "code",
      "source": [
        "y_test.values"
      ],
      "metadata": {
        "id": "ZjdMeshCCBrS",
        "colab": {
          "base_uri": "https://localhost:8080/"
        },
        "outputId": "2d831004-3719-47cc-e7d3-df071b66f481"
      },
      "execution_count": 54,
      "outputs": [
        {
          "output_type": "execute_result",
          "data": {
            "text/plain": [
              "array([0.80040196, 0.65096228, 0.59114168, 0.80047051, 0.60098291,\n",
              "       0.80056609, 0.87539062, 0.70054044, 0.26369382, 0.8000345 ,\n",
              "       0.70051357, 0.70035455, 0.80590909, 0.80090961, 0.89172348,\n",
              "       0.80040196, 0.60022419, 0.49654971, 0.70005833, 0.80040196,\n",
              "       0.96105903, 0.70043672, 0.35325965, 0.50012336, 0.80040196,\n",
              "       0.75548611, 1.10048392, 1.05962121, 0.80084242, 0.69018282,\n",
              "       0.30750146, 0.9918    , 0.80040196, 0.76884722, 0.700422  ,\n",
              "       0.53166667, 0.97186667, 0.80040196, 0.2565    , 0.80034377,\n",
              "       0.90012976, 0.92564394, 0.60741667, 0.85695   , 0.24625   ,\n",
              "       0.60765432, 0.76083333, 0.90012976, 0.58204546, 0.80024675,\n",
              "       0.919125  , 0.80070175, 0.8001171 , 0.80080864, 0.96675926,\n",
              "       0.763375  , 0.84506944, 0.950625  , 0.69998442, 0.50080172,\n",
              "       0.85814394, 1.03357008, 0.35542803, 0.80040196, 0.9425    ,\n",
              "       0.37046657, 0.85031268, 1.00001855, 0.70050893, 0.68106061,\n",
              "       0.56825959, 0.9008    , 0.8319375 , 0.9520202 , 0.85052217,\n",
              "       0.79456667, 0.80555556, 0.66225589, 0.80010714, 0.80024601,\n",
              "       0.75064667, 0.39875   , 0.50080172, 0.60043643, 0.96666667,\n",
              "       0.63040292, 0.70060345, 0.64025   , 0.700422  , 0.87644444,\n",
              "       0.671875  , 0.50011768, 0.65022372, 0.54151786, 0.68402778,\n",
              "       0.8721    , 0.80040196, 0.75039551, 0.95919192, 0.95515151,\n",
              "       0.87115   , 0.80059806, 0.41155357, 0.41083333, 0.80059447,\n",
              "       0.70025078, 0.70061403, 0.85053214, 0.85011396, 0.65343137,\n",
              "       0.93041667, 0.65019865, 0.80025096, 0.75016237, 0.99999524,\n",
              "       0.65006644, 0.8211125 , 0.93034038, 0.34998951, 0.80040196,\n",
              "       0.90012976, 0.75029394, 0.89545454, 0.75309753, 0.80053448,\n",
              "       0.850045  , 0.271875  , 0.77011398, 0.41791667, 0.700422  ,\n",
              "       1.00023041, 0.80040196, 0.75079701, 0.80040196, 0.99138889,\n",
              "       1.00023041, 0.97186667, 0.75005785, 0.75003797, 0.65666667,\n",
              "       0.53791944, 0.59862745, 0.75054546, 0.7500319 , 0.66183712,\n",
              "       0.75002778, 0.70061823, 0.59074074, 0.7503719 , 0.70557658,\n",
              "       0.28033333, 0.55550013, 0.96043333, 0.31120746, 0.90047076,\n",
              "       0.62657778, 0.84545833, 0.85050231, 0.93635556, 0.80051667,\n",
              "       0.80007184, 0.89366319, 0.8000345 , 0.80064381, 0.60012522,\n",
              "       0.90012976, 0.94072542, 0.741     , 0.80923611, 0.40635417,\n",
              "       0.97852564, 0.30357447, 0.80070175, 0.62833333, 0.52284483,\n",
              "       0.93916667, 0.65004407, 0.94527778, 0.79996322, 0.80484848,\n",
              "       0.8001171 , 0.80031864, 0.99953333, 0.75039551, 0.80039322,\n",
              "       0.70065965, 0.79996322, 0.99999524, 0.50003535, 0.80040196,\n",
              "       0.38883036, 0.4078125 , 0.60194444, 0.80038636, 0.95627083,\n",
              "       0.96675926, 1.03315556, 0.80057895, 0.7005417 , 0.36871875,\n",
              "       0.46340395, 0.81337121, 0.95018596, 0.60071061, 0.60036969,\n",
              "       0.75034733, 0.55725245, 0.64057765, 0.46769327, 0.8       ,\n",
              "       0.440375  , 0.960625  , 0.7505931 , 0.841     , 0.69204546,\n",
              "       0.70009416, 0.72734954, 0.9520202 , 0.80051331, 0.75006275,\n",
              "       0.86458333, 0.24941667, 0.85017011, 0.88075417, 0.82680303,\n",
              "       0.80034377, 0.85013677, 0.54979167, 0.7005731 , 0.80011582,\n",
              "       0.83866667, 0.75927083, 0.75043727])"
            ]
          },
          "metadata": {},
          "execution_count": 54
        }
      ]
    },
    {
      "cell_type": "markdown",
      "source": [
        "# MAE"
      ],
      "metadata": {
        "id": "4BuWK-XACu5S"
      }
    },
    {
      "cell_type": "code",
      "source": [
        "print(\"MAE\",mean_absolute_error(y_test,y_pred))"
      ],
      "metadata": {
        "id": "kA3aJ8FFCMy8",
        "colab": {
          "base_uri": "https://localhost:8080/"
        },
        "outputId": "34d418fc-c259-4ce0-e06e-4ee15c7ddd79"
      },
      "execution_count": 55,
      "outputs": [
        {
          "output_type": "stream",
          "name": "stdout",
          "text": [
            "MAE 0.11977274377627958\n"
          ]
        }
      ]
    },
    {
      "cell_type": "markdown",
      "source": [
        "# MSE"
      ],
      "metadata": {
        "id": "cRbNz15qC9su"
      }
    },
    {
      "cell_type": "code",
      "source": [
        "print(\"MSE\",mean_squared_error(y_test,y_pred))"
      ],
      "metadata": {
        "id": "Hzjm1S6SCY9g",
        "colab": {
          "base_uri": "https://localhost:8080/"
        },
        "outputId": "3dfbff57-2e11-4327-d1c1-8fc10edb844d"
      },
      "execution_count": 56,
      "outputs": [
        {
          "output_type": "stream",
          "name": "stdout",
          "text": [
            "MSE 0.02795983328495559\n"
          ]
        }
      ]
    },
    {
      "cell_type": "markdown",
      "source": [
        "# MAPE"
      ],
      "metadata": {
        "id": "dsJSq24DDOkN"
      }
    },
    {
      "cell_type": "code",
      "source": [
        "print(\"MAPE\",mean_absolute_percentage_error(y_test,y_pred))"
      ],
      "metadata": {
        "id": "C8sTe57CC8lM",
        "colab": {
          "base_uri": "https://localhost:8080/"
        },
        "outputId": "457af828-160e-4714-8ca2-b42ed49df9cd"
      },
      "execution_count": 57,
      "outputs": [
        {
          "output_type": "stream",
          "name": "stdout",
          "text": [
            "MAPE 0.2120568113392035\n"
          ]
        }
      ]
    },
    {
      "cell_type": "markdown",
      "source": [
        "# RMSE"
      ],
      "metadata": {
        "id": "lSLlsMPBDV-4"
      }
    },
    {
      "cell_type": "code",
      "source": [
        "print(\"RMSE\",np.sqrt(mean_squared_error(y_test,y_pred)))"
      ],
      "metadata": {
        "id": "BH5veV3KDN_w",
        "colab": {
          "base_uri": "https://localhost:8080/"
        },
        "outputId": "52295983-d3dd-4f1e-f593-fac38bb2f370"
      },
      "execution_count": 58,
      "outputs": [
        {
          "output_type": "stream",
          "name": "stdout",
          "text": [
            "RMSE 0.16721194121520028\n"
          ]
        }
      ]
    },
    {
      "cell_type": "markdown",
      "source": [
        "# R2 Score"
      ],
      "metadata": {
        "id": "0H303Cf3D01g"
      }
    },
    {
      "cell_type": "code",
      "source": [
        "print(\"RMSE\",r2_score(y_test,y_pred))"
      ],
      "metadata": {
        "id": "fmwBtgqvDzjK",
        "colab": {
          "base_uri": "https://localhost:8080/"
        },
        "outputId": "d7e809cd-0603-4657-f4a7-184a6bb61b15"
      },
      "execution_count": 59,
      "outputs": [
        {
          "output_type": "stream",
          "name": "stdout",
          "text": [
            "RMSE 0.1356079153072881\n"
          ]
        }
      ]
    },
    {
      "cell_type": "markdown",
      "source": [
        "# Section 2"
      ],
      "metadata": {
        "id": "4q0FENU5Qox6"
      }
    },
    {
      "cell_type": "markdown",
      "source": [
        "# Q1"
      ],
      "metadata": {
        "id": "iQm66-VbQr1m"
      }
    },
    {
      "cell_type": "code",
      "source": [
        "uploaded1=files.upload()"
      ],
      "metadata": {
        "id": "Zfp3ngsCD-sb",
        "colab": {
          "base_uri": "https://localhost:8080/",
          "height": 73
        },
        "outputId": "fe1148f7-8dea-472c-c490-ffa825164a61"
      },
      "execution_count": 60,
      "outputs": [
        {
          "output_type": "display_data",
          "data": {
            "text/plain": [
              "<IPython.core.display.HTML object>"
            ],
            "text/html": [
              "\n",
              "     <input type=\"file\" id=\"files-754dbaa7-6143-454f-ae4c-f89b41ec35a8\" name=\"files[]\" multiple disabled\n",
              "        style=\"border:none\" />\n",
              "     <output id=\"result-754dbaa7-6143-454f-ae4c-f89b41ec35a8\">\n",
              "      Upload widget is only available when the cell has been executed in the\n",
              "      current browser session. Please rerun this cell to enable.\n",
              "      </output>\n",
              "      <script>// Copyright 2017 Google LLC\n",
              "//\n",
              "// Licensed under the Apache License, Version 2.0 (the \"License\");\n",
              "// you may not use this file except in compliance with the License.\n",
              "// You may obtain a copy of the License at\n",
              "//\n",
              "//      http://www.apache.org/licenses/LICENSE-2.0\n",
              "//\n",
              "// Unless required by applicable law or agreed to in writing, software\n",
              "// distributed under the License is distributed on an \"AS IS\" BASIS,\n",
              "// WITHOUT WARRANTIES OR CONDITIONS OF ANY KIND, either express or implied.\n",
              "// See the License for the specific language governing permissions and\n",
              "// limitations under the License.\n",
              "\n",
              "/**\n",
              " * @fileoverview Helpers for google.colab Python module.\n",
              " */\n",
              "(function(scope) {\n",
              "function span(text, styleAttributes = {}) {\n",
              "  const element = document.createElement('span');\n",
              "  element.textContent = text;\n",
              "  for (const key of Object.keys(styleAttributes)) {\n",
              "    element.style[key] = styleAttributes[key];\n",
              "  }\n",
              "  return element;\n",
              "}\n",
              "\n",
              "// Max number of bytes which will be uploaded at a time.\n",
              "const MAX_PAYLOAD_SIZE = 100 * 1024;\n",
              "\n",
              "function _uploadFiles(inputId, outputId) {\n",
              "  const steps = uploadFilesStep(inputId, outputId);\n",
              "  const outputElement = document.getElementById(outputId);\n",
              "  // Cache steps on the outputElement to make it available for the next call\n",
              "  // to uploadFilesContinue from Python.\n",
              "  outputElement.steps = steps;\n",
              "\n",
              "  return _uploadFilesContinue(outputId);\n",
              "}\n",
              "\n",
              "// This is roughly an async generator (not supported in the browser yet),\n",
              "// where there are multiple asynchronous steps and the Python side is going\n",
              "// to poll for completion of each step.\n",
              "// This uses a Promise to block the python side on completion of each step,\n",
              "// then passes the result of the previous step as the input to the next step.\n",
              "function _uploadFilesContinue(outputId) {\n",
              "  const outputElement = document.getElementById(outputId);\n",
              "  const steps = outputElement.steps;\n",
              "\n",
              "  const next = steps.next(outputElement.lastPromiseValue);\n",
              "  return Promise.resolve(next.value.promise).then((value) => {\n",
              "    // Cache the last promise value to make it available to the next\n",
              "    // step of the generator.\n",
              "    outputElement.lastPromiseValue = value;\n",
              "    return next.value.response;\n",
              "  });\n",
              "}\n",
              "\n",
              "/**\n",
              " * Generator function which is called between each async step of the upload\n",
              " * process.\n",
              " * @param {string} inputId Element ID of the input file picker element.\n",
              " * @param {string} outputId Element ID of the output display.\n",
              " * @return {!Iterable<!Object>} Iterable of next steps.\n",
              " */\n",
              "function* uploadFilesStep(inputId, outputId) {\n",
              "  const inputElement = document.getElementById(inputId);\n",
              "  inputElement.disabled = false;\n",
              "\n",
              "  const outputElement = document.getElementById(outputId);\n",
              "  outputElement.innerHTML = '';\n",
              "\n",
              "  const pickedPromise = new Promise((resolve) => {\n",
              "    inputElement.addEventListener('change', (e) => {\n",
              "      resolve(e.target.files);\n",
              "    });\n",
              "  });\n",
              "\n",
              "  const cancel = document.createElement('button');\n",
              "  inputElement.parentElement.appendChild(cancel);\n",
              "  cancel.textContent = 'Cancel upload';\n",
              "  const cancelPromise = new Promise((resolve) => {\n",
              "    cancel.onclick = () => {\n",
              "      resolve(null);\n",
              "    };\n",
              "  });\n",
              "\n",
              "  // Wait for the user to pick the files.\n",
              "  const files = yield {\n",
              "    promise: Promise.race([pickedPromise, cancelPromise]),\n",
              "    response: {\n",
              "      action: 'starting',\n",
              "    }\n",
              "  };\n",
              "\n",
              "  cancel.remove();\n",
              "\n",
              "  // Disable the input element since further picks are not allowed.\n",
              "  inputElement.disabled = true;\n",
              "\n",
              "  if (!files) {\n",
              "    return {\n",
              "      response: {\n",
              "        action: 'complete',\n",
              "      }\n",
              "    };\n",
              "  }\n",
              "\n",
              "  for (const file of files) {\n",
              "    const li = document.createElement('li');\n",
              "    li.append(span(file.name, {fontWeight: 'bold'}));\n",
              "    li.append(span(\n",
              "        `(${file.type || 'n/a'}) - ${file.size} bytes, ` +\n",
              "        `last modified: ${\n",
              "            file.lastModifiedDate ? file.lastModifiedDate.toLocaleDateString() :\n",
              "                                    'n/a'} - `));\n",
              "    const percent = span('0% done');\n",
              "    li.appendChild(percent);\n",
              "\n",
              "    outputElement.appendChild(li);\n",
              "\n",
              "    const fileDataPromise = new Promise((resolve) => {\n",
              "      const reader = new FileReader();\n",
              "      reader.onload = (e) => {\n",
              "        resolve(e.target.result);\n",
              "      };\n",
              "      reader.readAsArrayBuffer(file);\n",
              "    });\n",
              "    // Wait for the data to be ready.\n",
              "    let fileData = yield {\n",
              "      promise: fileDataPromise,\n",
              "      response: {\n",
              "        action: 'continue',\n",
              "      }\n",
              "    };\n",
              "\n",
              "    // Use a chunked sending to avoid message size limits. See b/62115660.\n",
              "    let position = 0;\n",
              "    do {\n",
              "      const length = Math.min(fileData.byteLength - position, MAX_PAYLOAD_SIZE);\n",
              "      const chunk = new Uint8Array(fileData, position, length);\n",
              "      position += length;\n",
              "\n",
              "      const base64 = btoa(String.fromCharCode.apply(null, chunk));\n",
              "      yield {\n",
              "        response: {\n",
              "          action: 'append',\n",
              "          file: file.name,\n",
              "          data: base64,\n",
              "        },\n",
              "      };\n",
              "\n",
              "      let percentDone = fileData.byteLength === 0 ?\n",
              "          100 :\n",
              "          Math.round((position / fileData.byteLength) * 100);\n",
              "      percent.textContent = `${percentDone}% done`;\n",
              "\n",
              "    } while (position < fileData.byteLength);\n",
              "  }\n",
              "\n",
              "  // All done.\n",
              "  yield {\n",
              "    response: {\n",
              "      action: 'complete',\n",
              "    }\n",
              "  };\n",
              "}\n",
              "\n",
              "scope.google = scope.google || {};\n",
              "scope.google.colab = scope.google.colab || {};\n",
              "scope.google.colab._files = {\n",
              "  _uploadFiles,\n",
              "  _uploadFilesContinue,\n",
              "};\n",
              "})(self);\n",
              "</script> "
            ]
          },
          "metadata": {}
        },
        {
          "output_type": "stream",
          "name": "stdout",
          "text": [
            "Saving ABTest.xlsx to ABTest.xlsx\n"
          ]
        }
      ]
    },
    {
      "cell_type": "code",
      "source": [
        "abtest=pd.read_excel(\"ABTest.xlsx\")\n",
        "abtest"
      ],
      "metadata": {
        "id": "OwurLo5mRjzI",
        "colab": {
          "base_uri": "https://localhost:8080/",
          "height": 423
        },
        "outputId": "2baee363-028f-45a0-a6b7-c871df195667"
      },
      "execution_count": 61,
      "outputs": [
        {
          "output_type": "execute_result",
          "data": {
            "text/plain": [
              "            Date  Device                                            Address  \\\n",
              "0     2023-05-18  Mobile  fyttlyf/business/campaign/campaigns-business/c...   \n",
              "1     2023-05-18  Laptop              fyttlyf/business/campaign/get-paid///   \n",
              "2     2023-05-18  Mobile  fyttlyf/business/campaign/campaigns-business/s...   \n",
              "3     2023-05-18  Laptop  fyttlyf/business/product/business-financial-se...   \n",
              "4     2023-05-18  Laptop  fyttlyf/business/product/business-accept-payme...   \n",
              "...          ...     ...                                                ...   \n",
              "18094 2023-05-17  Tablet    fyttlyf/personal/campaign/weekoneoffer-terms///   \n",
              "18095 2023-05-17  Mobile           fyttlyf/personal//send-money-to-india///   \n",
              "18096 2023-05-17  Laptop           fyttlyf/personal/buy/fyttlyf-benefits///   \n",
              "18097 2023-05-17  Tablet  fyttlyf/enterprise/product/enterprise-pay-late...   \n",
              "18098 2023-05-17  Laptop  fyttlyf/business/product/business-operations/r...   \n",
              "\n",
              "       Clicks  Visitors       Group  \n",
              "0         159       199     Control  \n",
              "1          18      1413  Experiment  \n",
              "2         142       759     Control  \n",
              "3         126       473     Control  \n",
              "4         129       183     Control  \n",
              "...       ...       ...         ...  \n",
              "18094      12        13     Control  \n",
              "18095       4        15  Experiment  \n",
              "18096      12        42     Control  \n",
              "18097      15        13     Control  \n",
              "18098       9        21     Control  \n",
              "\n",
              "[18099 rows x 6 columns]"
            ],
            "text/html": [
              "\n",
              "  <div id=\"df-3da823f2-5c2e-4ad6-9162-5034684bc827\" class=\"colab-df-container\">\n",
              "    <div>\n",
              "<style scoped>\n",
              "    .dataframe tbody tr th:only-of-type {\n",
              "        vertical-align: middle;\n",
              "    }\n",
              "\n",
              "    .dataframe tbody tr th {\n",
              "        vertical-align: top;\n",
              "    }\n",
              "\n",
              "    .dataframe thead th {\n",
              "        text-align: right;\n",
              "    }\n",
              "</style>\n",
              "<table border=\"1\" class=\"dataframe\">\n",
              "  <thead>\n",
              "    <tr style=\"text-align: right;\">\n",
              "      <th></th>\n",
              "      <th>Date</th>\n",
              "      <th>Device</th>\n",
              "      <th>Address</th>\n",
              "      <th>Clicks</th>\n",
              "      <th>Visitors</th>\n",
              "      <th>Group</th>\n",
              "    </tr>\n",
              "  </thead>\n",
              "  <tbody>\n",
              "    <tr>\n",
              "      <th>0</th>\n",
              "      <td>2023-05-18</td>\n",
              "      <td>Mobile</td>\n",
              "      <td>fyttlyf/business/campaign/campaigns-business/c...</td>\n",
              "      <td>159</td>\n",
              "      <td>199</td>\n",
              "      <td>Control</td>\n",
              "    </tr>\n",
              "    <tr>\n",
              "      <th>1</th>\n",
              "      <td>2023-05-18</td>\n",
              "      <td>Laptop</td>\n",
              "      <td>fyttlyf/business/campaign/get-paid///</td>\n",
              "      <td>18</td>\n",
              "      <td>1413</td>\n",
              "      <td>Experiment</td>\n",
              "    </tr>\n",
              "    <tr>\n",
              "      <th>2</th>\n",
              "      <td>2023-05-18</td>\n",
              "      <td>Mobile</td>\n",
              "      <td>fyttlyf/business/campaign/campaigns-business/s...</td>\n",
              "      <td>142</td>\n",
              "      <td>759</td>\n",
              "      <td>Control</td>\n",
              "    </tr>\n",
              "    <tr>\n",
              "      <th>3</th>\n",
              "      <td>2023-05-18</td>\n",
              "      <td>Laptop</td>\n",
              "      <td>fyttlyf/business/product/business-financial-se...</td>\n",
              "      <td>126</td>\n",
              "      <td>473</td>\n",
              "      <td>Control</td>\n",
              "    </tr>\n",
              "    <tr>\n",
              "      <th>4</th>\n",
              "      <td>2023-05-18</td>\n",
              "      <td>Laptop</td>\n",
              "      <td>fyttlyf/business/product/business-accept-payme...</td>\n",
              "      <td>129</td>\n",
              "      <td>183</td>\n",
              "      <td>Control</td>\n",
              "    </tr>\n",
              "    <tr>\n",
              "      <th>...</th>\n",
              "      <td>...</td>\n",
              "      <td>...</td>\n",
              "      <td>...</td>\n",
              "      <td>...</td>\n",
              "      <td>...</td>\n",
              "      <td>...</td>\n",
              "    </tr>\n",
              "    <tr>\n",
              "      <th>18094</th>\n",
              "      <td>2023-05-17</td>\n",
              "      <td>Tablet</td>\n",
              "      <td>fyttlyf/personal/campaign/weekoneoffer-terms///</td>\n",
              "      <td>12</td>\n",
              "      <td>13</td>\n",
              "      <td>Control</td>\n",
              "    </tr>\n",
              "    <tr>\n",
              "      <th>18095</th>\n",
              "      <td>2023-05-17</td>\n",
              "      <td>Mobile</td>\n",
              "      <td>fyttlyf/personal//send-money-to-india///</td>\n",
              "      <td>4</td>\n",
              "      <td>15</td>\n",
              "      <td>Experiment</td>\n",
              "    </tr>\n",
              "    <tr>\n",
              "      <th>18096</th>\n",
              "      <td>2023-05-17</td>\n",
              "      <td>Laptop</td>\n",
              "      <td>fyttlyf/personal/buy/fyttlyf-benefits///</td>\n",
              "      <td>12</td>\n",
              "      <td>42</td>\n",
              "      <td>Control</td>\n",
              "    </tr>\n",
              "    <tr>\n",
              "      <th>18097</th>\n",
              "      <td>2023-05-17</td>\n",
              "      <td>Tablet</td>\n",
              "      <td>fyttlyf/enterprise/product/enterprise-pay-late...</td>\n",
              "      <td>15</td>\n",
              "      <td>13</td>\n",
              "      <td>Control</td>\n",
              "    </tr>\n",
              "    <tr>\n",
              "      <th>18098</th>\n",
              "      <td>2023-05-17</td>\n",
              "      <td>Laptop</td>\n",
              "      <td>fyttlyf/business/product/business-operations/r...</td>\n",
              "      <td>9</td>\n",
              "      <td>21</td>\n",
              "      <td>Control</td>\n",
              "    </tr>\n",
              "  </tbody>\n",
              "</table>\n",
              "<p>18099 rows × 6 columns</p>\n",
              "</div>\n",
              "    <div class=\"colab-df-buttons\">\n",
              "\n",
              "  <div class=\"colab-df-container\">\n",
              "    <button class=\"colab-df-convert\" onclick=\"convertToInteractive('df-3da823f2-5c2e-4ad6-9162-5034684bc827')\"\n",
              "            title=\"Convert this dataframe to an interactive table.\"\n",
              "            style=\"display:none;\">\n",
              "\n",
              "  <svg xmlns=\"http://www.w3.org/2000/svg\" height=\"24px\" viewBox=\"0 -960 960 960\">\n",
              "    <path d=\"M120-120v-720h720v720H120Zm60-500h600v-160H180v160Zm220 220h160v-160H400v160Zm0 220h160v-160H400v160ZM180-400h160v-160H180v160Zm440 0h160v-160H620v160ZM180-180h160v-160H180v160Zm440 0h160v-160H620v160Z\"/>\n",
              "  </svg>\n",
              "    </button>\n",
              "\n",
              "  <style>\n",
              "    .colab-df-container {\n",
              "      display:flex;\n",
              "      gap: 12px;\n",
              "    }\n",
              "\n",
              "    .colab-df-convert {\n",
              "      background-color: #E8F0FE;\n",
              "      border: none;\n",
              "      border-radius: 50%;\n",
              "      cursor: pointer;\n",
              "      display: none;\n",
              "      fill: #1967D2;\n",
              "      height: 32px;\n",
              "      padding: 0 0 0 0;\n",
              "      width: 32px;\n",
              "    }\n",
              "\n",
              "    .colab-df-convert:hover {\n",
              "      background-color: #E2EBFA;\n",
              "      box-shadow: 0px 1px 2px rgba(60, 64, 67, 0.3), 0px 1px 3px 1px rgba(60, 64, 67, 0.15);\n",
              "      fill: #174EA6;\n",
              "    }\n",
              "\n",
              "    .colab-df-buttons div {\n",
              "      margin-bottom: 4px;\n",
              "    }\n",
              "\n",
              "    [theme=dark] .colab-df-convert {\n",
              "      background-color: #3B4455;\n",
              "      fill: #D2E3FC;\n",
              "    }\n",
              "\n",
              "    [theme=dark] .colab-df-convert:hover {\n",
              "      background-color: #434B5C;\n",
              "      box-shadow: 0px 1px 3px 1px rgba(0, 0, 0, 0.15);\n",
              "      filter: drop-shadow(0px 1px 2px rgba(0, 0, 0, 0.3));\n",
              "      fill: #FFFFFF;\n",
              "    }\n",
              "  </style>\n",
              "\n",
              "    <script>\n",
              "      const buttonEl =\n",
              "        document.querySelector('#df-3da823f2-5c2e-4ad6-9162-5034684bc827 button.colab-df-convert');\n",
              "      buttonEl.style.display =\n",
              "        google.colab.kernel.accessAllowed ? 'block' : 'none';\n",
              "\n",
              "      async function convertToInteractive(key) {\n",
              "        const element = document.querySelector('#df-3da823f2-5c2e-4ad6-9162-5034684bc827');\n",
              "        const dataTable =\n",
              "          await google.colab.kernel.invokeFunction('convertToInteractive',\n",
              "                                                    [key], {});\n",
              "        if (!dataTable) return;\n",
              "\n",
              "        const docLinkHtml = 'Like what you see? Visit the ' +\n",
              "          '<a target=\"_blank\" href=https://colab.research.google.com/notebooks/data_table.ipynb>data table notebook</a>'\n",
              "          + ' to learn more about interactive tables.';\n",
              "        element.innerHTML = '';\n",
              "        dataTable['output_type'] = 'display_data';\n",
              "        await google.colab.output.renderOutput(dataTable, element);\n",
              "        const docLink = document.createElement('div');\n",
              "        docLink.innerHTML = docLinkHtml;\n",
              "        element.appendChild(docLink);\n",
              "      }\n",
              "    </script>\n",
              "  </div>\n",
              "\n",
              "\n",
              "<div id=\"df-f9f10f77-62c2-4467-8366-bd6a51046fb0\">\n",
              "  <button class=\"colab-df-quickchart\" onclick=\"quickchart('df-f9f10f77-62c2-4467-8366-bd6a51046fb0')\"\n",
              "            title=\"Suggest charts\"\n",
              "            style=\"display:none;\">\n",
              "\n",
              "<svg xmlns=\"http://www.w3.org/2000/svg\" height=\"24px\"viewBox=\"0 0 24 24\"\n",
              "     width=\"24px\">\n",
              "    <g>\n",
              "        <path d=\"M19 3H5c-1.1 0-2 .9-2 2v14c0 1.1.9 2 2 2h14c1.1 0 2-.9 2-2V5c0-1.1-.9-2-2-2zM9 17H7v-7h2v7zm4 0h-2V7h2v10zm4 0h-2v-4h2v4z\"/>\n",
              "    </g>\n",
              "</svg>\n",
              "  </button>\n",
              "\n",
              "<style>\n",
              "  .colab-df-quickchart {\n",
              "      --bg-color: #E8F0FE;\n",
              "      --fill-color: #1967D2;\n",
              "      --hover-bg-color: #E2EBFA;\n",
              "      --hover-fill-color: #174EA6;\n",
              "      --disabled-fill-color: #AAA;\n",
              "      --disabled-bg-color: #DDD;\n",
              "  }\n",
              "\n",
              "  [theme=dark] .colab-df-quickchart {\n",
              "      --bg-color: #3B4455;\n",
              "      --fill-color: #D2E3FC;\n",
              "      --hover-bg-color: #434B5C;\n",
              "      --hover-fill-color: #FFFFFF;\n",
              "      --disabled-bg-color: #3B4455;\n",
              "      --disabled-fill-color: #666;\n",
              "  }\n",
              "\n",
              "  .colab-df-quickchart {\n",
              "    background-color: var(--bg-color);\n",
              "    border: none;\n",
              "    border-radius: 50%;\n",
              "    cursor: pointer;\n",
              "    display: none;\n",
              "    fill: var(--fill-color);\n",
              "    height: 32px;\n",
              "    padding: 0;\n",
              "    width: 32px;\n",
              "  }\n",
              "\n",
              "  .colab-df-quickchart:hover {\n",
              "    background-color: var(--hover-bg-color);\n",
              "    box-shadow: 0 1px 2px rgba(60, 64, 67, 0.3), 0 1px 3px 1px rgba(60, 64, 67, 0.15);\n",
              "    fill: var(--button-hover-fill-color);\n",
              "  }\n",
              "\n",
              "  .colab-df-quickchart-complete:disabled,\n",
              "  .colab-df-quickchart-complete:disabled:hover {\n",
              "    background-color: var(--disabled-bg-color);\n",
              "    fill: var(--disabled-fill-color);\n",
              "    box-shadow: none;\n",
              "  }\n",
              "\n",
              "  .colab-df-spinner {\n",
              "    border: 2px solid var(--fill-color);\n",
              "    border-color: transparent;\n",
              "    border-bottom-color: var(--fill-color);\n",
              "    animation:\n",
              "      spin 1s steps(1) infinite;\n",
              "  }\n",
              "\n",
              "  @keyframes spin {\n",
              "    0% {\n",
              "      border-color: transparent;\n",
              "      border-bottom-color: var(--fill-color);\n",
              "      border-left-color: var(--fill-color);\n",
              "    }\n",
              "    20% {\n",
              "      border-color: transparent;\n",
              "      border-left-color: var(--fill-color);\n",
              "      border-top-color: var(--fill-color);\n",
              "    }\n",
              "    30% {\n",
              "      border-color: transparent;\n",
              "      border-left-color: var(--fill-color);\n",
              "      border-top-color: var(--fill-color);\n",
              "      border-right-color: var(--fill-color);\n",
              "    }\n",
              "    40% {\n",
              "      border-color: transparent;\n",
              "      border-right-color: var(--fill-color);\n",
              "      border-top-color: var(--fill-color);\n",
              "    }\n",
              "    60% {\n",
              "      border-color: transparent;\n",
              "      border-right-color: var(--fill-color);\n",
              "    }\n",
              "    80% {\n",
              "      border-color: transparent;\n",
              "      border-right-color: var(--fill-color);\n",
              "      border-bottom-color: var(--fill-color);\n",
              "    }\n",
              "    90% {\n",
              "      border-color: transparent;\n",
              "      border-bottom-color: var(--fill-color);\n",
              "    }\n",
              "  }\n",
              "</style>\n",
              "\n",
              "  <script>\n",
              "    async function quickchart(key) {\n",
              "      const quickchartButtonEl =\n",
              "        document.querySelector('#' + key + ' button');\n",
              "      quickchartButtonEl.disabled = true;  // To prevent multiple clicks.\n",
              "      quickchartButtonEl.classList.add('colab-df-spinner');\n",
              "      try {\n",
              "        const charts = await google.colab.kernel.invokeFunction(\n",
              "            'suggestCharts', [key], {});\n",
              "      } catch (error) {\n",
              "        console.error('Error during call to suggestCharts:', error);\n",
              "      }\n",
              "      quickchartButtonEl.classList.remove('colab-df-spinner');\n",
              "      quickchartButtonEl.classList.add('colab-df-quickchart-complete');\n",
              "    }\n",
              "    (() => {\n",
              "      let quickchartButtonEl =\n",
              "        document.querySelector('#df-f9f10f77-62c2-4467-8366-bd6a51046fb0 button');\n",
              "      quickchartButtonEl.style.display =\n",
              "        google.colab.kernel.accessAllowed ? 'block' : 'none';\n",
              "    })();\n",
              "  </script>\n",
              "</div>\n",
              "\n",
              "  <div id=\"id_c486c1cc-cd0d-4902-8f99-6e862097ece5\">\n",
              "    <style>\n",
              "      .colab-df-generate {\n",
              "        background-color: #E8F0FE;\n",
              "        border: none;\n",
              "        border-radius: 50%;\n",
              "        cursor: pointer;\n",
              "        display: none;\n",
              "        fill: #1967D2;\n",
              "        height: 32px;\n",
              "        padding: 0 0 0 0;\n",
              "        width: 32px;\n",
              "      }\n",
              "\n",
              "      .colab-df-generate:hover {\n",
              "        background-color: #E2EBFA;\n",
              "        box-shadow: 0px 1px 2px rgba(60, 64, 67, 0.3), 0px 1px 3px 1px rgba(60, 64, 67, 0.15);\n",
              "        fill: #174EA6;\n",
              "      }\n",
              "\n",
              "      [theme=dark] .colab-df-generate {\n",
              "        background-color: #3B4455;\n",
              "        fill: #D2E3FC;\n",
              "      }\n",
              "\n",
              "      [theme=dark] .colab-df-generate:hover {\n",
              "        background-color: #434B5C;\n",
              "        box-shadow: 0px 1px 3px 1px rgba(0, 0, 0, 0.15);\n",
              "        filter: drop-shadow(0px 1px 2px rgba(0, 0, 0, 0.3));\n",
              "        fill: #FFFFFF;\n",
              "      }\n",
              "    </style>\n",
              "    <button class=\"colab-df-generate\" onclick=\"generateWithVariable('abtest')\"\n",
              "            title=\"Generate code using this dataframe.\"\n",
              "            style=\"display:none;\">\n",
              "\n",
              "  <svg xmlns=\"http://www.w3.org/2000/svg\" height=\"24px\"viewBox=\"0 0 24 24\"\n",
              "       width=\"24px\">\n",
              "    <path d=\"M7,19H8.4L18.45,9,17,7.55,7,17.6ZM5,21V16.75L18.45,3.32a2,2,0,0,1,2.83,0l1.4,1.43a1.91,1.91,0,0,1,.58,1.4,1.91,1.91,0,0,1-.58,1.4L9.25,21ZM18.45,9,17,7.55Zm-12,3A5.31,5.31,0,0,0,4.9,8.1,5.31,5.31,0,0,0,1,6.5,5.31,5.31,0,0,0,4.9,4.9,5.31,5.31,0,0,0,6.5,1,5.31,5.31,0,0,0,8.1,4.9,5.31,5.31,0,0,0,12,6.5,5.46,5.46,0,0,0,6.5,12Z\"/>\n",
              "  </svg>\n",
              "    </button>\n",
              "    <script>\n",
              "      (() => {\n",
              "      const buttonEl =\n",
              "        document.querySelector('#id_c486c1cc-cd0d-4902-8f99-6e862097ece5 button.colab-df-generate');\n",
              "      buttonEl.style.display =\n",
              "        google.colab.kernel.accessAllowed ? 'block' : 'none';\n",
              "\n",
              "      buttonEl.onclick = () => {\n",
              "        google.colab.notebook.generateWithVariable('abtest');\n",
              "      }\n",
              "      })();\n",
              "    </script>\n",
              "  </div>\n",
              "\n",
              "    </div>\n",
              "  </div>\n"
            ],
            "application/vnd.google.colaboratory.intrinsic+json": {
              "type": "dataframe",
              "variable_name": "abtest",
              "summary": "{\n  \"name\": \"abtest\",\n  \"rows\": 18099,\n  \"fields\": [\n    {\n      \"column\": \"Date\",\n      \"properties\": {\n        \"dtype\": \"date\",\n        \"min\": \"2023-05-07 00:00:00\",\n        \"max\": \"2023-05-24 00:00:00\",\n        \"num_unique_values\": 18,\n        \"samples\": [\n          \"2023-05-18 00:00:00\",\n          \"2023-05-19 00:00:00\",\n          \"2023-05-08 00:00:00\"\n        ],\n        \"semantic_type\": \"\",\n        \"description\": \"\"\n      }\n    },\n    {\n      \"column\": \"Device\",\n      \"properties\": {\n        \"dtype\": \"category\",\n        \"num_unique_values\": 4,\n        \"samples\": [\n          \"Laptop\",\n          \"Tablet\",\n          \"Mobile\"\n        ],\n        \"semantic_type\": \"\",\n        \"description\": \"\"\n      }\n    },\n    {\n      \"column\": \"Address\",\n      \"properties\": {\n        \"dtype\": \"category\",\n        \"num_unique_values\": 211,\n        \"samples\": [\n          \"fyttlyf/personal//google-play-2022///\",\n          \"fyttlyf///elan///\",\n          \"fyttlyf/personal//claim-offer-2q-expired///\"\n        ],\n        \"semantic_type\": \"\",\n        \"description\": \"\"\n      }\n    },\n    {\n      \"column\": \"Clicks\",\n      \"properties\": {\n        \"dtype\": \"number\",\n        \"std\": 377,\n        \"min\": 0,\n        \"max\": 11199,\n        \"num_unique_values\": 720,\n        \"samples\": [\n          189,\n          463,\n          143\n        ],\n        \"semantic_type\": \"\",\n        \"description\": \"\"\n      }\n    },\n    {\n      \"column\": \"Visitors\",\n      \"properties\": {\n        \"dtype\": \"number\",\n        \"std\": 5704,\n        \"min\": 0,\n        \"max\": 211868,\n        \"num_unique_values\": 1746,\n        \"samples\": [\n          5682,\n          3925,\n          477\n        ],\n        \"semantic_type\": \"\",\n        \"description\": \"\"\n      }\n    },\n    {\n      \"column\": \"Group\",\n      \"properties\": {\n        \"dtype\": \"category\",\n        \"num_unique_values\": 2,\n        \"samples\": [\n          \"Experiment\",\n          \"Control\"\n        ],\n        \"semantic_type\": \"\",\n        \"description\": \"\"\n      }\n    }\n  ]\n}"
            }
          },
          "metadata": {},
          "execution_count": 61
        }
      ]
    },
    {
      "cell_type": "code",
      "source": [
        "abtest.isnull().sum()"
      ],
      "metadata": {
        "id": "HE8zfxJ-RwI5",
        "colab": {
          "base_uri": "https://localhost:8080/"
        },
        "outputId": "bad92b7e-0d7f-4272-c239-b89c7428962d"
      },
      "execution_count": 62,
      "outputs": [
        {
          "output_type": "execute_result",
          "data": {
            "text/plain": [
              "Date        0\n",
              "Device      0\n",
              "Address     0\n",
              "Clicks      0\n",
              "Visitors    0\n",
              "Group       0\n",
              "dtype: int64"
            ]
          },
          "metadata": {},
          "execution_count": 62
        }
      ]
    },
    {
      "cell_type": "code",
      "source": [
        "abtest.columns"
      ],
      "metadata": {
        "id": "3hRyumTVSn1g",
        "colab": {
          "base_uri": "https://localhost:8080/"
        },
        "outputId": "5926e722-d0dd-456f-9439-cc772a50082e"
      },
      "execution_count": 63,
      "outputs": [
        {
          "output_type": "execute_result",
          "data": {
            "text/plain": [
              "Index(['Date', 'Device', 'Address', 'Clicks', 'Visitors', 'Group'], dtype='object')"
            ]
          },
          "metadata": {},
          "execution_count": 63
        }
      ]
    },
    {
      "cell_type": "code",
      "source": [
        "abtest.isnull().sum()\n",
        "abtest.columns\n"
      ],
      "metadata": {
        "id": "CjhjpzbyTQba",
        "colab": {
          "base_uri": "https://localhost:8080/"
        },
        "outputId": "625371d6-002d-483c-efb5-be8f5481aa6c"
      },
      "execution_count": 64,
      "outputs": [
        {
          "output_type": "execute_result",
          "data": {
            "text/plain": [
              "Index(['Date', 'Device', 'Address', 'Clicks', 'Visitors', 'Group'], dtype='object')"
            ]
          },
          "metadata": {},
          "execution_count": 64
        }
      ]
    },
    {
      "cell_type": "code",
      "source": [
        "abtest[\"Device\"].value_counts()"
      ],
      "metadata": {
        "id": "z0qsXUirTZ1e",
        "colab": {
          "base_uri": "https://localhost:8080/"
        },
        "outputId": "170e7ae3-0150-43c2-f252-cc9188fc9153"
      },
      "execution_count": 65,
      "outputs": [
        {
          "output_type": "execute_result",
          "data": {
            "text/plain": [
              "Mobile    6330\n",
              "Laptop    6181\n",
              "Other     3687\n",
              "Tablet    1901\n",
              "Name: Device, dtype: int64"
            ]
          },
          "metadata": {},
          "execution_count": 65
        }
      ]
    },
    {
      "cell_type": "code",
      "source": [
        "abtest[\"Device\"].unique()"
      ],
      "metadata": {
        "id": "npp_BE0FVItn",
        "colab": {
          "base_uri": "https://localhost:8080/"
        },
        "outputId": "4fccd217-5cd1-43bd-8405-d6a71907b3a4"
      },
      "execution_count": 66,
      "outputs": [
        {
          "output_type": "execute_result",
          "data": {
            "text/plain": [
              "array(['Mobile', 'Laptop', 'Other', 'Tablet'], dtype=object)"
            ]
          },
          "metadata": {},
          "execution_count": 66
        }
      ]
    },
    {
      "cell_type": "code",
      "source": [
        "abtest[\"Date\"].unique()"
      ],
      "metadata": {
        "id": "cpaPlsz1YzH8",
        "colab": {
          "base_uri": "https://localhost:8080/"
        },
        "outputId": "540ac5e8-1bf0-4704-b345-e29b7d5b7ee3"
      },
      "execution_count": 67,
      "outputs": [
        {
          "output_type": "execute_result",
          "data": {
            "text/plain": [
              "array(['2023-05-18T00:00:00.000000000', '2023-05-19T00:00:00.000000000',\n",
              "       '2023-05-20T00:00:00.000000000', '2023-05-21T00:00:00.000000000',\n",
              "       '2023-05-22T00:00:00.000000000', '2023-05-23T00:00:00.000000000',\n",
              "       '2023-05-24T00:00:00.000000000', '2023-05-07T00:00:00.000000000',\n",
              "       '2023-05-08T00:00:00.000000000', '2023-05-09T00:00:00.000000000',\n",
              "       '2023-05-10T00:00:00.000000000', '2023-05-11T00:00:00.000000000',\n",
              "       '2023-05-12T00:00:00.000000000', '2023-05-13T00:00:00.000000000',\n",
              "       '2023-05-14T00:00:00.000000000', '2023-05-15T00:00:00.000000000',\n",
              "       '2023-05-16T00:00:00.000000000', '2023-05-17T00:00:00.000000000'],\n",
              "      dtype='datetime64[ns]')"
            ]
          },
          "metadata": {},
          "execution_count": 67
        }
      ]
    },
    {
      "source": [
        "clicks_by_device = abtest.groupby(\"Device\")[[\"Clicks\"]].sum()\n",
        "print(clicks_by_device)"
      ],
      "cell_type": "code",
      "metadata": {
        "id": "-vhpkgadV-YY",
        "colab": {
          "base_uri": "https://localhost:8080/"
        },
        "outputId": "caa8450d-048e-4bca-b576-64fefb0fbe36"
      },
      "execution_count": 68,
      "outputs": [
        {
          "output_type": "stream",
          "name": "stdout",
          "text": [
            "        Clicks\n",
            "Device        \n",
            "Laptop  449595\n",
            "Mobile  628737\n",
            "Other    40029\n",
            "Tablet   14637\n"
          ]
        }
      ]
    },
    {
      "source": [
        "# Group the data by Date and Device\n",
        "grouped_data = abtest.groupby([\"Date\", \"Device\"])[\"Clicks\"].sum().reset_index()\n",
        "\n",
        "# Create a pivot table with clicks as values and devices as columns\n",
        "clicks_by_date_device = grouped_data.pivot(index=\"Date\", columns=\"Device\", values=\"Clicks\")\n",
        "\n",
        "# Print the clicks_by_date_device DataFrame\n",
        "print(clicks_by_date_device)"
      ],
      "cell_type": "code",
      "metadata": {
        "id": "z_Cf1ZpzXin7",
        "colab": {
          "base_uri": "https://localhost:8080/"
        },
        "outputId": "00a7cd53-d90e-4dff-a1ca-caa75deb0c21"
      },
      "execution_count": 69,
      "outputs": [
        {
          "output_type": "stream",
          "name": "stdout",
          "text": [
            "Device      Laptop  Mobile  Other  Tablet\n",
            "Date                                     \n",
            "2023-05-07   23906   44029   2274     845\n",
            "2023-05-08   24029   39919   2327     649\n",
            "2023-05-09   23574   41024   2399    1101\n",
            "2023-05-10   24586   23718   2280     759\n",
            "2023-05-11   24187   22662   2107     847\n",
            "2023-05-12   27495   48072   2346    1045\n",
            "2023-05-13   27251   46357   2345     842\n",
            "2023-05-14   27127   45886   2231     782\n",
            "2023-05-15   26646   32722   2271     486\n",
            "2023-05-16   25866   28999   2144     831\n",
            "2023-05-17   22397   20770   2070     962\n",
            "2023-05-18   17709   18576   2010    1197\n",
            "2023-05-19   25756   45031   2176     643\n",
            "2023-05-20   27465   43105   2381     890\n",
            "2023-05-21   25443   33283   2077     686\n",
            "2023-05-22   25167   32772   2108     613\n",
            "2023-05-23   26882   37831   2303     781\n",
            "2023-05-24   24109   23981   2180     678\n"
          ]
        }
      ]
    },
    {
      "source": [
        "import matplotlib.pyplot as plt\n",
        "\n",
        "# Plot the total clicks for each device over time\n",
        "clicks_by_date_device.plot(kind=\"line\", figsize=(10, 6))\n",
        "\n",
        "# Add a title and labels\n",
        "plt.title(\"Total Clicks by Device and Date\")\n",
        "plt.xlabel(\"Date\")\n",
        "plt.ylabel(\"Clicks\")\n",
        "\n",
        "# Show the plot\n",
        "plt.show()"
      ],
      "cell_type": "code",
      "metadata": {
        "id": "lsZiGQ-CXvYs",
        "colab": {
          "base_uri": "https://localhost:8080/",
          "height": 597
        },
        "outputId": "28f8f2d4-0f1d-4452-a51f-cdf75bb2b958"
      },
      "execution_count": 70,
      "outputs": [
        {
          "output_type": "display_data",
          "data": {
            "text/plain": [
              "<Figure size 1000x600 with 1 Axes>"
            ],
            "image/png": "[encoded data removed]"
          },
          "metadata": {}
        }
      ]
    },
    {
      "cell_type": "code",
      "source": [
        "abtest.columns"
      ],
      "metadata": {
        "id": "jz4jfWrDXjtk",
        "colab": {
          "base_uri": "https://localhost:8080/"
        },
        "outputId": "73b218a4-e3be-46ad-f672-74ff56cd1cf7"
      },
      "execution_count": 71,
      "outputs": [
        {
          "output_type": "execute_result",
          "data": {
            "text/plain": [
              "Index(['Date', 'Device', 'Address', 'Clicks', 'Visitors', 'Group'], dtype='object')"
            ]
          },
          "metadata": {},
          "execution_count": 71
        }
      ]
    },
    {
      "cell_type": "code",
      "source": [
        "import scipy.stats as stats\n",
        "\n",
        "# Function to calculate click-through rate (CTR)\n",
        "def calculate_ctr(clicks, visitors):\n",
        "    return clicks / visitors\n",
        "\n",
        "# Function to perform hypothesis test\n",
        "def perform_hypothesis_test(control_clicks, control_visitors, exp_clicks, exp_visitors):\n",
        "    # Calculate CTR for control and experimental groups\n",
        "    control_ctr = calculate_ctr(control_clicks, control_visitors)\n",
        "    exp_ctr = calculate_ctr(exp_clicks, exp_visitors)\n",
        "\n",
        "    # Perform hypothesis test (two-sample t-test assuming equal variances)\n",
        "    t_stat, p_value = stats.ttest_ind_from_stats(control_ctr, np.sqrt(control_ctr*(1-control_ctr)), control_visitors,\n",
        "                                                 exp_ctr, np.sqrt(exp_ctr*(1-exp_ctr)), exp_visitors,\n",
        "                                                 equal_var=True)\n",
        "\n",
        "    return t_stat, p_value\n",
        "\n",
        "# Function to calculate required sample size\n",
        "def calculate_sample_size(MDE, alpha, power, control_ctr, exp_ctr):\n",
        "    pooled_var = (control_ctr * (1 - control_ctr) + exp_ctr * (1 - exp_ctr)) / 2\n",
        "    Z_alpha_2 = stats.norm.ppf(1 - alpha/2)\n",
        "    Z_beta = stats.norm.ppf(power)\n",
        "    sample_size = (2 * pooled_var * (Z_alpha_2 + Z_beta)**2) / MDE**2\n",
        "    return sample_size\n",
        "\n",
        "\n",
        "\n",
        "control_clicks = 100\n",
        "control_visitors = 1000\n",
        "exp_clicks = 120\n",
        "exp_visitors = 1000\n",
        "MDE = 0.05\n",
        "alpha = 0.05\n",
        "power = 0.80\n",
        "\n",
        "# hypothesis test\n",
        "t_stat, p_value = perform_hypothesis_test(control_clicks, control_visitors, exp_clicks, exp_visitors)\n",
        "\n",
        "# Calculate required sample size\n",
        "control_ctr = calculate_ctr(control_clicks, control_visitors)\n",
        "exp_ctr = calculate_ctr(exp_clicks, exp_visitors)\n",
        "required_sample_size = calculate_sample_size(MDE, alpha, power, control_ctr, exp_ctr)\n",
        "\n",
        "# Check if actual sample size is sufficient\n",
        "actual_sample_size = control_visitors + exp_visitors\n",
        "is_sufficient_sample = \"Yes\" if actual_sample_size >= required_sample_size else \"No\"\n",
        "\n",
        "# Output results\n",
        "print(\"Hypothesis Test Results:\")\n",
        "print(\"T-statistic:\", t_stat)\n",
        "print(\"P-value:\", p_value)\n",
        "print(\"\\nRequired Sample Size:\", required_sample_size)\n",
        "print(\"Actual Sample Size:\", actual_sample_size)\n",
        "print(\"Sufficient Sample Size to conclude the test?\", is_sufficient_sample)\n"
      ],
      "metadata": {
        "id": "UtOnJTFrZGDs",
        "colab": {
          "base_uri": "https://localhost:8080/"
        },
        "outputId": "0d0e52e8-74d8-41c7-8a13-9c27b596f63f"
      },
      "execution_count": 74,
      "outputs": [
        {
          "output_type": "stream",
          "name": "stdout",
          "text": [
            "Hypothesis Test Results:\n",
            "T-statistic: -1.4300313895335033\n",
            "P-value: 0.1528643616741568\n",
            "\n",
            "Required Sample Size: 614.0963504154726\n",
            "Actual Sample Size: 2000\n",
            "Sufficient Sample Size to conclude the test? Yes\n"
          ]
        }
      ]
    },
    {
      "cell_type": "markdown",
      "source": [
        "# Q3"
      ],
      "metadata": {
        "id": "OKcvzLbp3u_c"
      }
    },
    {
      "source": [
        "import scipy.stats as stats\n",
        "\n",
        "def test_hypothesis(control_visitors, control_conversions, treatment_visitors, treatment_conversions, confidence_level):\n",
        "  \"\"\"\n",
        "  This function is designed to assess whether the treatment group's conversion rate is higher than that of the control group.\n",
        "   It takes inputs such as the number of visitors and conversions for both groups, along with a desired confidence level for the statistical test.\n",
        "\n",
        "It then compares the conversion rates of both groups and determines which one is better based on the specified confidence level.\n",
        "If the treatment group's conversion rate is statistically significantly higher, it returns \"Experiment Group is Better.\"\n",
        " If the control group's conversion rate is significantly higher, it returns \"Control Group is Better.\"\n",
        "  If there's not enough evidence to determine a significant difference, it returns \"Indeterminate.\"\n",
        "  \"\"\"\n",
        "\n",
        "  # Calculate the conversion rates for each group.\n",
        "  control_rate = control_conversions / control_visitors\n",
        "  treatment_rate = treatment_conversions / treatment_visitors\n",
        "\n",
        "  # Calculate the z-score for the difference in conversion rates.\n",
        "  z_score = (treatment_rate - control_rate) / (\n",
        "      (control_rate * (1 - control_rate) / control_visitors + treatment_rate * (1 - treatment_rate) / treatment_visitors)**0.5)\n",
        "\n",
        "  # Determine the critical value based on the desired confidence level.\n",
        "  if confidence_level == 90:\n",
        "    critical_value = 1.645\n",
        "  elif confidence_level == 95:\n",
        "    critical_value = 1.96\n",
        "  elif confidence_level == 99:\n",
        "    critical_value = 2.576\n",
        "  else:\n",
        "    raise ValueError(\"Invalid confidence level.\")\n",
        "\n",
        "  # Compare the z-score to the critical value.\n",
        "  if z_score > critical_value:\n",
        "    return \"Experiment Group is Better\"\n",
        "  elif z_score < -critical_value:\n",
        "    return \"Control Group is Better\"\n",
        "  else:\n",
        "    return \"Indeterminate\""
      ],
      "cell_type": "code",
      "metadata": {
        "id": "EJHI0Sm24OlE"
      },
      "execution_count": 78,
      "outputs": []
    },
    {
      "source": [
        "result = test_hypothesis(1000, 50, 1000, 70, 95)\n",
        "print(result)"
      ],
      "cell_type": "code",
      "metadata": {
        "colab": {
          "base_uri": "https://localhost:8080/"
        },
        "id": "SMAi1rNg4Thc",
        "outputId": "d93f4212-7308-4d6f-dcb4-cc8277fc53de"
      },
      "execution_count": 79,
      "outputs": [
        {
          "output_type": "stream",
          "name": "stdout",
          "text": [
            "Indeterminate\n"
          ]
        }
      ]
    },
    {
      "cell_type": "markdown",
      "source": [
        "# Q4"
      ],
      "metadata": {
        "id": "MzHnyX524_jh"
      }
    },
    {
      "cell_type": "code",
      "source": [
        "!pip install streamlit\n",
        "import streamlit as st"
      ],
      "metadata": {
        "colab": {
          "base_uri": "https://localhost:8080/"
        },
        "id": "9ha4G-B04-aP",
        "outputId": "8cbddd8c-c2b6-4786-d828-26468aec1c19"
      },
      "execution_count": 85,
      "outputs": [
        {
          "output_type": "stream",
          "name": "stdout",
          "text": [
            "Requirement already satisfied: streamlit in /usr/local/lib/python3.10/dist-packages (1.32.2)\n",
            "Requirement already satisfied: altair<6,>=4.0 in /usr/local/lib/python3.10/dist-packages (from streamlit) (4.2.2)\n",
            "Requirement already satisfied: blinker<2,>=1.0.0 in /usr/lib/python3/dist-packages (from streamlit) (1.4)\n",
            "Requirement already satisfied: cachetools<6,>=4.0 in /usr/local/lib/python3.10/dist-packages (from streamlit) (5.3.3)\n",
            "Requirement already satisfied: click<9,>=7.0 in /usr/local/lib/python3.10/dist-packages (from streamlit) (8.1.7)\n",
            "Requirement already satisfied: numpy<2,>=1.19.3 in /usr/local/lib/python3.10/dist-packages (from streamlit) (1.25.2)\n",
            "Requirement already satisfied: packaging<24,>=16.8 in /usr/local/lib/python3.10/dist-packages (from streamlit) (23.2)\n",
            "Requirement already satisfied: pandas<3,>=1.3.0 in /usr/local/lib/python3.10/dist-packages (from streamlit) (1.5.3)\n",
            "Requirement already satisfied: pillow<11,>=7.1.0 in /usr/local/lib/python3.10/dist-packages (from streamlit) (9.4.0)\n",
            "Requirement already satisfied: protobuf<5,>=3.20 in /usr/local/lib/python3.10/dist-packages (from streamlit) (3.20.3)\n",
            "Requirement already satisfied: pyarrow>=7.0 in /usr/local/lib/python3.10/dist-packages (from streamlit) (14.0.2)\n",
            "Requirement already satisfied: requests<3,>=2.27 in /usr/local/lib/python3.10/dist-packages (from streamlit) (2.31.0)\n",
            "Requirement already satisfied: rich<14,>=10.14.0 in /usr/local/lib/python3.10/dist-packages (from streamlit) (13.7.1)\n",
            "Requirement already satisfied: tenacity<9,>=8.1.0 in /usr/local/lib/python3.10/dist-packages (from streamlit) (8.2.3)\n",
            "Requirement already satisfied: toml<2,>=0.10.1 in /usr/local/lib/python3.10/dist-packages (from streamlit) (0.10.2)\n",
            "Requirement already satisfied: typing-extensions<5,>=4.3.0 in /usr/local/lib/python3.10/dist-packages (from streamlit) (4.10.0)\n",
            "Requirement already satisfied: gitpython!=3.1.19,<4,>=3.0.7 in /usr/local/lib/python3.10/dist-packages (from streamlit) (3.1.42)\n",
            "Requirement already satisfied: pydeck<1,>=0.8.0b4 in /usr/local/lib/python3.10/dist-packages (from streamlit) (0.8.1b0)\n",
            "Requirement already satisfied: tornado<7,>=6.0.3 in /usr/local/lib/python3.10/dist-packages (from streamlit) (6.3.3)\n",
            "Requirement already satisfied: watchdog>=2.1.5 in /usr/local/lib/python3.10/dist-packages (from streamlit) (4.0.0)\n",
            "Requirement already satisfied: entrypoints in /usr/local/lib/python3.10/dist-packages (from altair<6,>=4.0->streamlit) (0.4)\n",
            "Requirement already satisfied: jinja2 in /usr/local/lib/python3.10/dist-packages (from altair<6,>=4.0->streamlit) (3.1.3)\n",
            "Requirement already satisfied: jsonschema>=3.0 in /usr/local/lib/python3.10/dist-packages (from altair<6,>=4.0->streamlit) (4.19.2)\n",
            "Requirement already satisfied: toolz in /usr/local/lib/python3.10/dist-packages (from altair<6,>=4.0->streamlit) (0.12.1)\n",
            "Requirement already satisfied: gitdb<5,>=4.0.1 in /usr/local/lib/python3.10/dist-packages (from gitpython!=3.1.19,<4,>=3.0.7->streamlit) (4.0.11)\n",
            "Requirement already satisfied: python-dateutil>=2.8.1 in /usr/local/lib/python3.10/dist-packages (from pandas<3,>=1.3.0->streamlit) (2.8.2)\n",
            "Requirement already satisfied: pytz>=2020.1 in /usr/local/lib/python3.10/dist-packages (from pandas<3,>=1.3.0->streamlit) (2023.4)\n",
            "Requirement already satisfied: charset-normalizer<4,>=2 in /usr/local/lib/python3.10/dist-packages (from requests<3,>=2.27->streamlit) (3.3.2)\n",
            "Requirement already satisfied: idna<4,>=2.5 in /usr/local/lib/python3.10/dist-packages (from requests<3,>=2.27->streamlit) (3.6)\n",
            "Requirement already satisfied: urllib3<3,>=1.21.1 in /usr/local/lib/python3.10/dist-packages (from requests<3,>=2.27->streamlit) (2.0.7)\n",
            "Requirement already satisfied: certifi>=2017.4.17 in /usr/local/lib/python3.10/dist-packages (from requests<3,>=2.27->streamlit) (2024.2.2)\n",
            "Requirement already satisfied: markdown-it-py>=2.2.0 in /usr/local/lib/python3.10/dist-packages (from rich<14,>=10.14.0->streamlit) (3.0.0)\n",
            "Requirement already satisfied: pygments<3.0.0,>=2.13.0 in /usr/local/lib/python3.10/dist-packages (from rich<14,>=10.14.0->streamlit) (2.16.1)\n",
            "Requirement already satisfied: smmap<6,>=3.0.1 in /usr/local/lib/python3.10/dist-packages (from gitdb<5,>=4.0.1->gitpython!=3.1.19,<4,>=3.0.7->streamlit) (5.0.1)\n",
            "Requirement already satisfied: MarkupSafe>=2.0 in /usr/local/lib/python3.10/dist-packages (from jinja2->altair<6,>=4.0->streamlit) (2.1.5)\n",
            "Requirement already satisfied: attrs>=22.2.0 in /usr/local/lib/python3.10/dist-packages (from jsonschema>=3.0->altair<6,>=4.0->streamlit) (23.2.0)\n",
            "Requirement already satisfied: jsonschema-specifications>=2023.03.6 in /usr/local/lib/python3.10/dist-packages (from jsonschema>=3.0->altair<6,>=4.0->streamlit) (2023.12.1)\n",
            "Requirement already satisfied: referencing>=0.28.4 in /usr/local/lib/python3.10/dist-packages (from jsonschema>=3.0->altair<6,>=4.0->streamlit) (0.33.0)\n",
            "Requirement already satisfied: rpds-py>=0.7.1 in /usr/local/lib/python3.10/dist-packages (from jsonschema>=3.0->altair<6,>=4.0->streamlit) (0.18.0)\n",
            "Requirement already satisfied: mdurl~=0.1 in /usr/local/lib/python3.10/dist-packages (from markdown-it-py>=2.2.0->rich<14,>=10.14.0->streamlit) (0.1.2)\n",
            "Requirement already satisfied: six>=1.5 in /usr/local/lib/python3.10/dist-packages (from python-dateutil>=2.8.1->pandas<3,>=1.3.0->streamlit) (1.16.0)\n"
          ]
        }
      ]
    },
    {
      "cell_type": "code",
      "source": [
        "import streamlit as st\n",
        "\n",
        "def perform_hypothesis_test(sample_size, mean, standard_deviation, alpha):\n",
        "  \"\"\"\n",
        "This function conducts a hypothesis test and calculates the p-value based on the provided sample size,\n",
        "sample mean, sample standard deviation, and significance level (alpha).\n",
        "The p-value indicates the probability of observing the data or more extreme results under the assumption that the null hypothesis is true.\n",
        " The lower the p-value, the stronger the evidence against the null hypothesis.\n",
        "  \"\"\"\n",
        "  from scipy.stats import ztest\n",
        "  return ztest(sample_size, mean, standard_deviation, value=0, alternative=\"two-sided\")[1]\n",
        "\n",
        "st.title(\"Hypothesis Test App\")\n",
        "\n",
        "# Get user input\n",
        "sample_size = st.number_input(\"Enter the sample size:\")\n",
        "mean = st.number_input(\"Enter the sample mean:\")\n",
        "standard_deviation = st.number_input(\"Enter the sample standard deviation:\")\n",
        "alpha = st.number_input(\"Enter the significance level (alpha):\")\n",
        "\n",
        "# Perform the hypothesis test and display the result\n",
        "if st.button(\"Perform Hypothesis Test\"):\n",
        "  p_value = perform_hypothesis_test(sample_size, mean, standard_deviation, alpha)\n",
        "  st.write(\"The p-value is:\", p_value)\n",
        "  if p_value < alpha:\n",
        "    st.write(\"Reject the null hypothesis.\")\n",
        "  else:\n",
        "    st.write(\"Fail to reject the null hypothesis.\")"
      ],
      "metadata": {
        "id": "2jVfN-rG43I3"
      },
      "execution_count": 87,
      "outputs": []
    },
    {
      "cell_type": "code",
      "source": [],
      "metadata": {
        "id": "jTmJGfKG5VA4"
      },
      "execution_count": null,
      "outputs": []
    }
  ]
}